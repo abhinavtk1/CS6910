{
  "nbformat": 4,
  "nbformat_minor": 0,
  "metadata": {
    "colab": {
      "provenance": []
    },
    "kernelspec": {
      "name": "python3",
      "display_name": "Python 3"
    },
    "language_info": {
      "name": "python"
    },
    "widgets": {
      "application/vnd.jupyter.widget-state+json": {
        "8a15262176b34c048f73957a0f426e12": {
          "model_module": "@jupyter-widgets/controls",
          "model_name": "VBoxModel",
          "model_module_version": "1.5.0",
          "state": {
            "_dom_classes": [],
            "_model_module": "@jupyter-widgets/controls",
            "_model_module_version": "1.5.0",
            "_model_name": "VBoxModel",
            "_view_count": null,
            "_view_module": "@jupyter-widgets/controls",
            "_view_module_version": "1.5.0",
            "_view_name": "VBoxView",
            "box_style": "",
            "children": [
              "IPY_MODEL_5ef4523384844d5ca8155e94d756a3ff",
              "IPY_MODEL_2bdc9cb588a14de28abb4b1ea04a28b4"
            ],
            "layout": "IPY_MODEL_59cad478c7304e69b07a0938f29669a6"
          }
        },
        "5ef4523384844d5ca8155e94d756a3ff": {
          "model_module": "@jupyter-widgets/controls",
          "model_name": "LabelModel",
          "model_module_version": "1.5.0",
          "state": {
            "_dom_classes": [],
            "_model_module": "@jupyter-widgets/controls",
            "_model_module_version": "1.5.0",
            "_model_name": "LabelModel",
            "_view_count": null,
            "_view_module": "@jupyter-widgets/controls",
            "_view_module_version": "1.5.0",
            "_view_name": "LabelView",
            "description": "",
            "description_tooltip": null,
            "layout": "IPY_MODEL_c1939f9d6a3a47ad91bd00c58197c6df",
            "placeholder": "​",
            "style": "IPY_MODEL_c57c8f194248437d80ffcca29280c29d",
            "value": "0.012 MB of 0.012 MB uploaded\r"
          }
        },
        "2bdc9cb588a14de28abb4b1ea04a28b4": {
          "model_module": "@jupyter-widgets/controls",
          "model_name": "FloatProgressModel",
          "model_module_version": "1.5.0",
          "state": {
            "_dom_classes": [],
            "_model_module": "@jupyter-widgets/controls",
            "_model_module_version": "1.5.0",
            "_model_name": "FloatProgressModel",
            "_view_count": null,
            "_view_module": "@jupyter-widgets/controls",
            "_view_module_version": "1.5.0",
            "_view_name": "ProgressView",
            "bar_style": "",
            "description": "",
            "description_tooltip": null,
            "layout": "IPY_MODEL_bd6c0879efbc476ca3a0701421c0b45a",
            "max": 1,
            "min": 0,
            "orientation": "horizontal",
            "style": "IPY_MODEL_6e7c7135b4054a31b486561feca5f993",
            "value": 1
          }
        },
        "59cad478c7304e69b07a0938f29669a6": {
          "model_module": "@jupyter-widgets/base",
          "model_name": "LayoutModel",
          "model_module_version": "1.2.0",
          "state": {
            "_model_module": "@jupyter-widgets/base",
            "_model_module_version": "1.2.0",
            "_model_name": "LayoutModel",
            "_view_count": null,
            "_view_module": "@jupyter-widgets/base",
            "_view_module_version": "1.2.0",
            "_view_name": "LayoutView",
            "align_content": null,
            "align_items": null,
            "align_self": null,
            "border": null,
            "bottom": null,
            "display": null,
            "flex": null,
            "flex_flow": null,
            "grid_area": null,
            "grid_auto_columns": null,
            "grid_auto_flow": null,
            "grid_auto_rows": null,
            "grid_column": null,
            "grid_gap": null,
            "grid_row": null,
            "grid_template_areas": null,
            "grid_template_columns": null,
            "grid_template_rows": null,
            "height": null,
            "justify_content": null,
            "justify_items": null,
            "left": null,
            "margin": null,
            "max_height": null,
            "max_width": null,
            "min_height": null,
            "min_width": null,
            "object_fit": null,
            "object_position": null,
            "order": null,
            "overflow": null,
            "overflow_x": null,
            "overflow_y": null,
            "padding": null,
            "right": null,
            "top": null,
            "visibility": null,
            "width": null
          }
        },
        "c1939f9d6a3a47ad91bd00c58197c6df": {
          "model_module": "@jupyter-widgets/base",
          "model_name": "LayoutModel",
          "model_module_version": "1.2.0",
          "state": {
            "_model_module": "@jupyter-widgets/base",
            "_model_module_version": "1.2.0",
            "_model_name": "LayoutModel",
            "_view_count": null,
            "_view_module": "@jupyter-widgets/base",
            "_view_module_version": "1.2.0",
            "_view_name": "LayoutView",
            "align_content": null,
            "align_items": null,
            "align_self": null,
            "border": null,
            "bottom": null,
            "display": null,
            "flex": null,
            "flex_flow": null,
            "grid_area": null,
            "grid_auto_columns": null,
            "grid_auto_flow": null,
            "grid_auto_rows": null,
            "grid_column": null,
            "grid_gap": null,
            "grid_row": null,
            "grid_template_areas": null,
            "grid_template_columns": null,
            "grid_template_rows": null,
            "height": null,
            "justify_content": null,
            "justify_items": null,
            "left": null,
            "margin": null,
            "max_height": null,
            "max_width": null,
            "min_height": null,
            "min_width": null,
            "object_fit": null,
            "object_position": null,
            "order": null,
            "overflow": null,
            "overflow_x": null,
            "overflow_y": null,
            "padding": null,
            "right": null,
            "top": null,
            "visibility": null,
            "width": null
          }
        },
        "c57c8f194248437d80ffcca29280c29d": {
          "model_module": "@jupyter-widgets/controls",
          "model_name": "DescriptionStyleModel",
          "model_module_version": "1.5.0",
          "state": {
            "_model_module": "@jupyter-widgets/controls",
            "_model_module_version": "1.5.0",
            "_model_name": "DescriptionStyleModel",
            "_view_count": null,
            "_view_module": "@jupyter-widgets/base",
            "_view_module_version": "1.2.0",
            "_view_name": "StyleView",
            "description_width": ""
          }
        },
        "bd6c0879efbc476ca3a0701421c0b45a": {
          "model_module": "@jupyter-widgets/base",
          "model_name": "LayoutModel",
          "model_module_version": "1.2.0",
          "state": {
            "_model_module": "@jupyter-widgets/base",
            "_model_module_version": "1.2.0",
            "_model_name": "LayoutModel",
            "_view_count": null,
            "_view_module": "@jupyter-widgets/base",
            "_view_module_version": "1.2.0",
            "_view_name": "LayoutView",
            "align_content": null,
            "align_items": null,
            "align_self": null,
            "border": null,
            "bottom": null,
            "display": null,
            "flex": null,
            "flex_flow": null,
            "grid_area": null,
            "grid_auto_columns": null,
            "grid_auto_flow": null,
            "grid_auto_rows": null,
            "grid_column": null,
            "grid_gap": null,
            "grid_row": null,
            "grid_template_areas": null,
            "grid_template_columns": null,
            "grid_template_rows": null,
            "height": null,
            "justify_content": null,
            "justify_items": null,
            "left": null,
            "margin": null,
            "max_height": null,
            "max_width": null,
            "min_height": null,
            "min_width": null,
            "object_fit": null,
            "object_position": null,
            "order": null,
            "overflow": null,
            "overflow_x": null,
            "overflow_y": null,
            "padding": null,
            "right": null,
            "top": null,
            "visibility": null,
            "width": null
          }
        },
        "6e7c7135b4054a31b486561feca5f993": {
          "model_module": "@jupyter-widgets/controls",
          "model_name": "ProgressStyleModel",
          "model_module_version": "1.5.0",
          "state": {
            "_model_module": "@jupyter-widgets/controls",
            "_model_module_version": "1.5.0",
            "_model_name": "ProgressStyleModel",
            "_view_count": null,
            "_view_module": "@jupyter-widgets/base",
            "_view_module_version": "1.2.0",
            "_view_name": "StyleView",
            "bar_color": null,
            "description_width": ""
          }
        },
        "c5f5f0e80211448cb33e6bf9f0ab4d2a": {
          "model_module": "@jupyter-widgets/controls",
          "model_name": "VBoxModel",
          "model_module_version": "1.5.0",
          "state": {
            "_dom_classes": [],
            "_model_module": "@jupyter-widgets/controls",
            "_model_module_version": "1.5.0",
            "_model_name": "VBoxModel",
            "_view_count": null,
            "_view_module": "@jupyter-widgets/controls",
            "_view_module_version": "1.5.0",
            "_view_name": "VBoxView",
            "box_style": "",
            "children": [
              "IPY_MODEL_2551d4a20a1842d0ac8d9e95b4e23ce4",
              "IPY_MODEL_9e04a320e77c4859a5ded536f328e8ed"
            ],
            "layout": "IPY_MODEL_507d94a392f346cda2b80e6a3008fa44"
          }
        },
        "2551d4a20a1842d0ac8d9e95b4e23ce4": {
          "model_module": "@jupyter-widgets/controls",
          "model_name": "LabelModel",
          "model_module_version": "1.5.0",
          "state": {
            "_dom_classes": [],
            "_model_module": "@jupyter-widgets/controls",
            "_model_module_version": "1.5.0",
            "_model_name": "LabelModel",
            "_view_count": null,
            "_view_module": "@jupyter-widgets/controls",
            "_view_module_version": "1.5.0",
            "_view_name": "LabelView",
            "description": "",
            "description_tooltip": null,
            "layout": "IPY_MODEL_c76e06e1d4304e0991adc61ad644acc7",
            "placeholder": "​",
            "style": "IPY_MODEL_1000177a4df84b9698bd23dcaff08173",
            "value": "0.012 MB of 0.012 MB uploaded\r"
          }
        },
        "9e04a320e77c4859a5ded536f328e8ed": {
          "model_module": "@jupyter-widgets/controls",
          "model_name": "FloatProgressModel",
          "model_module_version": "1.5.0",
          "state": {
            "_dom_classes": [],
            "_model_module": "@jupyter-widgets/controls",
            "_model_module_version": "1.5.0",
            "_model_name": "FloatProgressModel",
            "_view_count": null,
            "_view_module": "@jupyter-widgets/controls",
            "_view_module_version": "1.5.0",
            "_view_name": "ProgressView",
            "bar_style": "",
            "description": "",
            "description_tooltip": null,
            "layout": "IPY_MODEL_bc15f8cc16694e62a462921f8a088b3e",
            "max": 1,
            "min": 0,
            "orientation": "horizontal",
            "style": "IPY_MODEL_72d5d75af4474f558a3a531df936fa85",
            "value": 1
          }
        },
        "507d94a392f346cda2b80e6a3008fa44": {
          "model_module": "@jupyter-widgets/base",
          "model_name": "LayoutModel",
          "model_module_version": "1.2.0",
          "state": {
            "_model_module": "@jupyter-widgets/base",
            "_model_module_version": "1.2.0",
            "_model_name": "LayoutModel",
            "_view_count": null,
            "_view_module": "@jupyter-widgets/base",
            "_view_module_version": "1.2.0",
            "_view_name": "LayoutView",
            "align_content": null,
            "align_items": null,
            "align_self": null,
            "border": null,
            "bottom": null,
            "display": null,
            "flex": null,
            "flex_flow": null,
            "grid_area": null,
            "grid_auto_columns": null,
            "grid_auto_flow": null,
            "grid_auto_rows": null,
            "grid_column": null,
            "grid_gap": null,
            "grid_row": null,
            "grid_template_areas": null,
            "grid_template_columns": null,
            "grid_template_rows": null,
            "height": null,
            "justify_content": null,
            "justify_items": null,
            "left": null,
            "margin": null,
            "max_height": null,
            "max_width": null,
            "min_height": null,
            "min_width": null,
            "object_fit": null,
            "object_position": null,
            "order": null,
            "overflow": null,
            "overflow_x": null,
            "overflow_y": null,
            "padding": null,
            "right": null,
            "top": null,
            "visibility": null,
            "width": null
          }
        },
        "c76e06e1d4304e0991adc61ad644acc7": {
          "model_module": "@jupyter-widgets/base",
          "model_name": "LayoutModel",
          "model_module_version": "1.2.0",
          "state": {
            "_model_module": "@jupyter-widgets/base",
            "_model_module_version": "1.2.0",
            "_model_name": "LayoutModel",
            "_view_count": null,
            "_view_module": "@jupyter-widgets/base",
            "_view_module_version": "1.2.0",
            "_view_name": "LayoutView",
            "align_content": null,
            "align_items": null,
            "align_self": null,
            "border": null,
            "bottom": null,
            "display": null,
            "flex": null,
            "flex_flow": null,
            "grid_area": null,
            "grid_auto_columns": null,
            "grid_auto_flow": null,
            "grid_auto_rows": null,
            "grid_column": null,
            "grid_gap": null,
            "grid_row": null,
            "grid_template_areas": null,
            "grid_template_columns": null,
            "grid_template_rows": null,
            "height": null,
            "justify_content": null,
            "justify_items": null,
            "left": null,
            "margin": null,
            "max_height": null,
            "max_width": null,
            "min_height": null,
            "min_width": null,
            "object_fit": null,
            "object_position": null,
            "order": null,
            "overflow": null,
            "overflow_x": null,
            "overflow_y": null,
            "padding": null,
            "right": null,
            "top": null,
            "visibility": null,
            "width": null
          }
        },
        "1000177a4df84b9698bd23dcaff08173": {
          "model_module": "@jupyter-widgets/controls",
          "model_name": "DescriptionStyleModel",
          "model_module_version": "1.5.0",
          "state": {
            "_model_module": "@jupyter-widgets/controls",
            "_model_module_version": "1.5.0",
            "_model_name": "DescriptionStyleModel",
            "_view_count": null,
            "_view_module": "@jupyter-widgets/base",
            "_view_module_version": "1.2.0",
            "_view_name": "StyleView",
            "description_width": ""
          }
        },
        "bc15f8cc16694e62a462921f8a088b3e": {
          "model_module": "@jupyter-widgets/base",
          "model_name": "LayoutModel",
          "model_module_version": "1.2.0",
          "state": {
            "_model_module": "@jupyter-widgets/base",
            "_model_module_version": "1.2.0",
            "_model_name": "LayoutModel",
            "_view_count": null,
            "_view_module": "@jupyter-widgets/base",
            "_view_module_version": "1.2.0",
            "_view_name": "LayoutView",
            "align_content": null,
            "align_items": null,
            "align_self": null,
            "border": null,
            "bottom": null,
            "display": null,
            "flex": null,
            "flex_flow": null,
            "grid_area": null,
            "grid_auto_columns": null,
            "grid_auto_flow": null,
            "grid_auto_rows": null,
            "grid_column": null,
            "grid_gap": null,
            "grid_row": null,
            "grid_template_areas": null,
            "grid_template_columns": null,
            "grid_template_rows": null,
            "height": null,
            "justify_content": null,
            "justify_items": null,
            "left": null,
            "margin": null,
            "max_height": null,
            "max_width": null,
            "min_height": null,
            "min_width": null,
            "object_fit": null,
            "object_position": null,
            "order": null,
            "overflow": null,
            "overflow_x": null,
            "overflow_y": null,
            "padding": null,
            "right": null,
            "top": null,
            "visibility": null,
            "width": null
          }
        },
        "72d5d75af4474f558a3a531df936fa85": {
          "model_module": "@jupyter-widgets/controls",
          "model_name": "ProgressStyleModel",
          "model_module_version": "1.5.0",
          "state": {
            "_model_module": "@jupyter-widgets/controls",
            "_model_module_version": "1.5.0",
            "_model_name": "ProgressStyleModel",
            "_view_count": null,
            "_view_module": "@jupyter-widgets/base",
            "_view_module_version": "1.2.0",
            "_view_name": "StyleView",
            "bar_color": null,
            "description_width": ""
          }
        },
        "26b4fd177cb641cb9e27f486258d28ac": {
          "model_module": "@jupyter-widgets/controls",
          "model_name": "VBoxModel",
          "model_module_version": "1.5.0",
          "state": {
            "_dom_classes": [],
            "_model_module": "@jupyter-widgets/controls",
            "_model_module_version": "1.5.0",
            "_model_name": "VBoxModel",
            "_view_count": null,
            "_view_module": "@jupyter-widgets/controls",
            "_view_module_version": "1.5.0",
            "_view_name": "VBoxView",
            "box_style": "",
            "children": [
              "IPY_MODEL_cdb41bb1fc1a4755a5a3cf55622ce8f0",
              "IPY_MODEL_81afa02e3ab44a18b338f4504becd2e4"
            ],
            "layout": "IPY_MODEL_90c3db5ed77f445eac3b23337d277487"
          }
        },
        "cdb41bb1fc1a4755a5a3cf55622ce8f0": {
          "model_module": "@jupyter-widgets/controls",
          "model_name": "LabelModel",
          "model_module_version": "1.5.0",
          "state": {
            "_dom_classes": [],
            "_model_module": "@jupyter-widgets/controls",
            "_model_module_version": "1.5.0",
            "_model_name": "LabelModel",
            "_view_count": null,
            "_view_module": "@jupyter-widgets/controls",
            "_view_module_version": "1.5.0",
            "_view_name": "LabelView",
            "description": "",
            "description_tooltip": null,
            "layout": "IPY_MODEL_61e2453b8e1f47d9b266e099f54cbfd6",
            "placeholder": "​",
            "style": "IPY_MODEL_a539bc1d1b1d40629149787b0743bb4e",
            "value": "0.012 MB of 0.012 MB uploaded\r"
          }
        },
        "81afa02e3ab44a18b338f4504becd2e4": {
          "model_module": "@jupyter-widgets/controls",
          "model_name": "FloatProgressModel",
          "model_module_version": "1.5.0",
          "state": {
            "_dom_classes": [],
            "_model_module": "@jupyter-widgets/controls",
            "_model_module_version": "1.5.0",
            "_model_name": "FloatProgressModel",
            "_view_count": null,
            "_view_module": "@jupyter-widgets/controls",
            "_view_module_version": "1.5.0",
            "_view_name": "ProgressView",
            "bar_style": "",
            "description": "",
            "description_tooltip": null,
            "layout": "IPY_MODEL_ae753e61954a4aafac26209c9690896b",
            "max": 1,
            "min": 0,
            "orientation": "horizontal",
            "style": "IPY_MODEL_0d602cb064824711935e975df69f66ab",
            "value": 1
          }
        },
        "90c3db5ed77f445eac3b23337d277487": {
          "model_module": "@jupyter-widgets/base",
          "model_name": "LayoutModel",
          "model_module_version": "1.2.0",
          "state": {
            "_model_module": "@jupyter-widgets/base",
            "_model_module_version": "1.2.0",
            "_model_name": "LayoutModel",
            "_view_count": null,
            "_view_module": "@jupyter-widgets/base",
            "_view_module_version": "1.2.0",
            "_view_name": "LayoutView",
            "align_content": null,
            "align_items": null,
            "align_self": null,
            "border": null,
            "bottom": null,
            "display": null,
            "flex": null,
            "flex_flow": null,
            "grid_area": null,
            "grid_auto_columns": null,
            "grid_auto_flow": null,
            "grid_auto_rows": null,
            "grid_column": null,
            "grid_gap": null,
            "grid_row": null,
            "grid_template_areas": null,
            "grid_template_columns": null,
            "grid_template_rows": null,
            "height": null,
            "justify_content": null,
            "justify_items": null,
            "left": null,
            "margin": null,
            "max_height": null,
            "max_width": null,
            "min_height": null,
            "min_width": null,
            "object_fit": null,
            "object_position": null,
            "order": null,
            "overflow": null,
            "overflow_x": null,
            "overflow_y": null,
            "padding": null,
            "right": null,
            "top": null,
            "visibility": null,
            "width": null
          }
        },
        "61e2453b8e1f47d9b266e099f54cbfd6": {
          "model_module": "@jupyter-widgets/base",
          "model_name": "LayoutModel",
          "model_module_version": "1.2.0",
          "state": {
            "_model_module": "@jupyter-widgets/base",
            "_model_module_version": "1.2.0",
            "_model_name": "LayoutModel",
            "_view_count": null,
            "_view_module": "@jupyter-widgets/base",
            "_view_module_version": "1.2.0",
            "_view_name": "LayoutView",
            "align_content": null,
            "align_items": null,
            "align_self": null,
            "border": null,
            "bottom": null,
            "display": null,
            "flex": null,
            "flex_flow": null,
            "grid_area": null,
            "grid_auto_columns": null,
            "grid_auto_flow": null,
            "grid_auto_rows": null,
            "grid_column": null,
            "grid_gap": null,
            "grid_row": null,
            "grid_template_areas": null,
            "grid_template_columns": null,
            "grid_template_rows": null,
            "height": null,
            "justify_content": null,
            "justify_items": null,
            "left": null,
            "margin": null,
            "max_height": null,
            "max_width": null,
            "min_height": null,
            "min_width": null,
            "object_fit": null,
            "object_position": null,
            "order": null,
            "overflow": null,
            "overflow_x": null,
            "overflow_y": null,
            "padding": null,
            "right": null,
            "top": null,
            "visibility": null,
            "width": null
          }
        },
        "a539bc1d1b1d40629149787b0743bb4e": {
          "model_module": "@jupyter-widgets/controls",
          "model_name": "DescriptionStyleModel",
          "model_module_version": "1.5.0",
          "state": {
            "_model_module": "@jupyter-widgets/controls",
            "_model_module_version": "1.5.0",
            "_model_name": "DescriptionStyleModel",
            "_view_count": null,
            "_view_module": "@jupyter-widgets/base",
            "_view_module_version": "1.2.0",
            "_view_name": "StyleView",
            "description_width": ""
          }
        },
        "ae753e61954a4aafac26209c9690896b": {
          "model_module": "@jupyter-widgets/base",
          "model_name": "LayoutModel",
          "model_module_version": "1.2.0",
          "state": {
            "_model_module": "@jupyter-widgets/base",
            "_model_module_version": "1.2.0",
            "_model_name": "LayoutModel",
            "_view_count": null,
            "_view_module": "@jupyter-widgets/base",
            "_view_module_version": "1.2.0",
            "_view_name": "LayoutView",
            "align_content": null,
            "align_items": null,
            "align_self": null,
            "border": null,
            "bottom": null,
            "display": null,
            "flex": null,
            "flex_flow": null,
            "grid_area": null,
            "grid_auto_columns": null,
            "grid_auto_flow": null,
            "grid_auto_rows": null,
            "grid_column": null,
            "grid_gap": null,
            "grid_row": null,
            "grid_template_areas": null,
            "grid_template_columns": null,
            "grid_template_rows": null,
            "height": null,
            "justify_content": null,
            "justify_items": null,
            "left": null,
            "margin": null,
            "max_height": null,
            "max_width": null,
            "min_height": null,
            "min_width": null,
            "object_fit": null,
            "object_position": null,
            "order": null,
            "overflow": null,
            "overflow_x": null,
            "overflow_y": null,
            "padding": null,
            "right": null,
            "top": null,
            "visibility": null,
            "width": null
          }
        },
        "0d602cb064824711935e975df69f66ab": {
          "model_module": "@jupyter-widgets/controls",
          "model_name": "ProgressStyleModel",
          "model_module_version": "1.5.0",
          "state": {
            "_model_module": "@jupyter-widgets/controls",
            "_model_module_version": "1.5.0",
            "_model_name": "ProgressStyleModel",
            "_view_count": null,
            "_view_module": "@jupyter-widgets/base",
            "_view_module_version": "1.2.0",
            "_view_name": "StyleView",
            "bar_color": null,
            "description_width": ""
          }
        },
        "715229ac7bc341e485b33cd67f415c94": {
          "model_module": "@jupyter-widgets/controls",
          "model_name": "VBoxModel",
          "model_module_version": "1.5.0",
          "state": {
            "_dom_classes": [],
            "_model_module": "@jupyter-widgets/controls",
            "_model_module_version": "1.5.0",
            "_model_name": "VBoxModel",
            "_view_count": null,
            "_view_module": "@jupyter-widgets/controls",
            "_view_module_version": "1.5.0",
            "_view_name": "VBoxView",
            "box_style": "",
            "children": [
              "IPY_MODEL_08b370d63489451196be6cf9ed15c874",
              "IPY_MODEL_9f6065cfc3d14f4eb14568ebe8590a86"
            ],
            "layout": "IPY_MODEL_f16d6ef40d2d4366a0762fa8dc22089e"
          }
        },
        "08b370d63489451196be6cf9ed15c874": {
          "model_module": "@jupyter-widgets/controls",
          "model_name": "LabelModel",
          "model_module_version": "1.5.0",
          "state": {
            "_dom_classes": [],
            "_model_module": "@jupyter-widgets/controls",
            "_model_module_version": "1.5.0",
            "_model_name": "LabelModel",
            "_view_count": null,
            "_view_module": "@jupyter-widgets/controls",
            "_view_module_version": "1.5.0",
            "_view_name": "LabelView",
            "description": "",
            "description_tooltip": null,
            "layout": "IPY_MODEL_a35a7abb6fd04d6baf6071834bd6aee9",
            "placeholder": "​",
            "style": "IPY_MODEL_6749665607444072930d37d5d937e9b5",
            "value": "0.012 MB of 0.012 MB uploaded\r"
          }
        },
        "9f6065cfc3d14f4eb14568ebe8590a86": {
          "model_module": "@jupyter-widgets/controls",
          "model_name": "FloatProgressModel",
          "model_module_version": "1.5.0",
          "state": {
            "_dom_classes": [],
            "_model_module": "@jupyter-widgets/controls",
            "_model_module_version": "1.5.0",
            "_model_name": "FloatProgressModel",
            "_view_count": null,
            "_view_module": "@jupyter-widgets/controls",
            "_view_module_version": "1.5.0",
            "_view_name": "ProgressView",
            "bar_style": "",
            "description": "",
            "description_tooltip": null,
            "layout": "IPY_MODEL_1ac3645cd06a40c3aa1a1db33079818c",
            "max": 1,
            "min": 0,
            "orientation": "horizontal",
            "style": "IPY_MODEL_14fc3b44c4024b7da2f0696514580199",
            "value": 1
          }
        },
        "f16d6ef40d2d4366a0762fa8dc22089e": {
          "model_module": "@jupyter-widgets/base",
          "model_name": "LayoutModel",
          "model_module_version": "1.2.0",
          "state": {
            "_model_module": "@jupyter-widgets/base",
            "_model_module_version": "1.2.0",
            "_model_name": "LayoutModel",
            "_view_count": null,
            "_view_module": "@jupyter-widgets/base",
            "_view_module_version": "1.2.0",
            "_view_name": "LayoutView",
            "align_content": null,
            "align_items": null,
            "align_self": null,
            "border": null,
            "bottom": null,
            "display": null,
            "flex": null,
            "flex_flow": null,
            "grid_area": null,
            "grid_auto_columns": null,
            "grid_auto_flow": null,
            "grid_auto_rows": null,
            "grid_column": null,
            "grid_gap": null,
            "grid_row": null,
            "grid_template_areas": null,
            "grid_template_columns": null,
            "grid_template_rows": null,
            "height": null,
            "justify_content": null,
            "justify_items": null,
            "left": null,
            "margin": null,
            "max_height": null,
            "max_width": null,
            "min_height": null,
            "min_width": null,
            "object_fit": null,
            "object_position": null,
            "order": null,
            "overflow": null,
            "overflow_x": null,
            "overflow_y": null,
            "padding": null,
            "right": null,
            "top": null,
            "visibility": null,
            "width": null
          }
        },
        "a35a7abb6fd04d6baf6071834bd6aee9": {
          "model_module": "@jupyter-widgets/base",
          "model_name": "LayoutModel",
          "model_module_version": "1.2.0",
          "state": {
            "_model_module": "@jupyter-widgets/base",
            "_model_module_version": "1.2.0",
            "_model_name": "LayoutModel",
            "_view_count": null,
            "_view_module": "@jupyter-widgets/base",
            "_view_module_version": "1.2.0",
            "_view_name": "LayoutView",
            "align_content": null,
            "align_items": null,
            "align_self": null,
            "border": null,
            "bottom": null,
            "display": null,
            "flex": null,
            "flex_flow": null,
            "grid_area": null,
            "grid_auto_columns": null,
            "grid_auto_flow": null,
            "grid_auto_rows": null,
            "grid_column": null,
            "grid_gap": null,
            "grid_row": null,
            "grid_template_areas": null,
            "grid_template_columns": null,
            "grid_template_rows": null,
            "height": null,
            "justify_content": null,
            "justify_items": null,
            "left": null,
            "margin": null,
            "max_height": null,
            "max_width": null,
            "min_height": null,
            "min_width": null,
            "object_fit": null,
            "object_position": null,
            "order": null,
            "overflow": null,
            "overflow_x": null,
            "overflow_y": null,
            "padding": null,
            "right": null,
            "top": null,
            "visibility": null,
            "width": null
          }
        },
        "6749665607444072930d37d5d937e9b5": {
          "model_module": "@jupyter-widgets/controls",
          "model_name": "DescriptionStyleModel",
          "model_module_version": "1.5.0",
          "state": {
            "_model_module": "@jupyter-widgets/controls",
            "_model_module_version": "1.5.0",
            "_model_name": "DescriptionStyleModel",
            "_view_count": null,
            "_view_module": "@jupyter-widgets/base",
            "_view_module_version": "1.2.0",
            "_view_name": "StyleView",
            "description_width": ""
          }
        },
        "1ac3645cd06a40c3aa1a1db33079818c": {
          "model_module": "@jupyter-widgets/base",
          "model_name": "LayoutModel",
          "model_module_version": "1.2.0",
          "state": {
            "_model_module": "@jupyter-widgets/base",
            "_model_module_version": "1.2.0",
            "_model_name": "LayoutModel",
            "_view_count": null,
            "_view_module": "@jupyter-widgets/base",
            "_view_module_version": "1.2.0",
            "_view_name": "LayoutView",
            "align_content": null,
            "align_items": null,
            "align_self": null,
            "border": null,
            "bottom": null,
            "display": null,
            "flex": null,
            "flex_flow": null,
            "grid_area": null,
            "grid_auto_columns": null,
            "grid_auto_flow": null,
            "grid_auto_rows": null,
            "grid_column": null,
            "grid_gap": null,
            "grid_row": null,
            "grid_template_areas": null,
            "grid_template_columns": null,
            "grid_template_rows": null,
            "height": null,
            "justify_content": null,
            "justify_items": null,
            "left": null,
            "margin": null,
            "max_height": null,
            "max_width": null,
            "min_height": null,
            "min_width": null,
            "object_fit": null,
            "object_position": null,
            "order": null,
            "overflow": null,
            "overflow_x": null,
            "overflow_y": null,
            "padding": null,
            "right": null,
            "top": null,
            "visibility": null,
            "width": null
          }
        },
        "14fc3b44c4024b7da2f0696514580199": {
          "model_module": "@jupyter-widgets/controls",
          "model_name": "ProgressStyleModel",
          "model_module_version": "1.5.0",
          "state": {
            "_model_module": "@jupyter-widgets/controls",
            "_model_module_version": "1.5.0",
            "_model_name": "ProgressStyleModel",
            "_view_count": null,
            "_view_module": "@jupyter-widgets/base",
            "_view_module_version": "1.2.0",
            "_view_name": "StyleView",
            "bar_color": null,
            "description_width": ""
          }
        },
        "ddb0ed58963b43f9a20bc92b7322a38e": {
          "model_module": "@jupyter-widgets/controls",
          "model_name": "VBoxModel",
          "model_module_version": "1.5.0",
          "state": {
            "_dom_classes": [],
            "_model_module": "@jupyter-widgets/controls",
            "_model_module_version": "1.5.0",
            "_model_name": "VBoxModel",
            "_view_count": null,
            "_view_module": "@jupyter-widgets/controls",
            "_view_module_version": "1.5.0",
            "_view_name": "VBoxView",
            "box_style": "",
            "children": [
              "IPY_MODEL_333f10896ee148b9be3215875ffead20",
              "IPY_MODEL_8b6ffce2779c498db70d6d2219833f46"
            ],
            "layout": "IPY_MODEL_2a7f700c7e024130a8be88427048078e"
          }
        },
        "333f10896ee148b9be3215875ffead20": {
          "model_module": "@jupyter-widgets/controls",
          "model_name": "LabelModel",
          "model_module_version": "1.5.0",
          "state": {
            "_dom_classes": [],
            "_model_module": "@jupyter-widgets/controls",
            "_model_module_version": "1.5.0",
            "_model_name": "LabelModel",
            "_view_count": null,
            "_view_module": "@jupyter-widgets/controls",
            "_view_module_version": "1.5.0",
            "_view_name": "LabelView",
            "description": "",
            "description_tooltip": null,
            "layout": "IPY_MODEL_d20af0348eb0407ab54f312af7c1f9a8",
            "placeholder": "​",
            "style": "IPY_MODEL_84bc24f53e1647debb1aabb00e69ded8",
            "value": "0.012 MB of 0.012 MB uploaded\r"
          }
        },
        "8b6ffce2779c498db70d6d2219833f46": {
          "model_module": "@jupyter-widgets/controls",
          "model_name": "FloatProgressModel",
          "model_module_version": "1.5.0",
          "state": {
            "_dom_classes": [],
            "_model_module": "@jupyter-widgets/controls",
            "_model_module_version": "1.5.0",
            "_model_name": "FloatProgressModel",
            "_view_count": null,
            "_view_module": "@jupyter-widgets/controls",
            "_view_module_version": "1.5.0",
            "_view_name": "ProgressView",
            "bar_style": "",
            "description": "",
            "description_tooltip": null,
            "layout": "IPY_MODEL_d699ea9e04d4444ba8e39b973b09a01d",
            "max": 1,
            "min": 0,
            "orientation": "horizontal",
            "style": "IPY_MODEL_bfcd8f2ca0ee47829ebba5f89327f055",
            "value": 1
          }
        },
        "2a7f700c7e024130a8be88427048078e": {
          "model_module": "@jupyter-widgets/base",
          "model_name": "LayoutModel",
          "model_module_version": "1.2.0",
          "state": {
            "_model_module": "@jupyter-widgets/base",
            "_model_module_version": "1.2.0",
            "_model_name": "LayoutModel",
            "_view_count": null,
            "_view_module": "@jupyter-widgets/base",
            "_view_module_version": "1.2.0",
            "_view_name": "LayoutView",
            "align_content": null,
            "align_items": null,
            "align_self": null,
            "border": null,
            "bottom": null,
            "display": null,
            "flex": null,
            "flex_flow": null,
            "grid_area": null,
            "grid_auto_columns": null,
            "grid_auto_flow": null,
            "grid_auto_rows": null,
            "grid_column": null,
            "grid_gap": null,
            "grid_row": null,
            "grid_template_areas": null,
            "grid_template_columns": null,
            "grid_template_rows": null,
            "height": null,
            "justify_content": null,
            "justify_items": null,
            "left": null,
            "margin": null,
            "max_height": null,
            "max_width": null,
            "min_height": null,
            "min_width": null,
            "object_fit": null,
            "object_position": null,
            "order": null,
            "overflow": null,
            "overflow_x": null,
            "overflow_y": null,
            "padding": null,
            "right": null,
            "top": null,
            "visibility": null,
            "width": null
          }
        },
        "d20af0348eb0407ab54f312af7c1f9a8": {
          "model_module": "@jupyter-widgets/base",
          "model_name": "LayoutModel",
          "model_module_version": "1.2.0",
          "state": {
            "_model_module": "@jupyter-widgets/base",
            "_model_module_version": "1.2.0",
            "_model_name": "LayoutModel",
            "_view_count": null,
            "_view_module": "@jupyter-widgets/base",
            "_view_module_version": "1.2.0",
            "_view_name": "LayoutView",
            "align_content": null,
            "align_items": null,
            "align_self": null,
            "border": null,
            "bottom": null,
            "display": null,
            "flex": null,
            "flex_flow": null,
            "grid_area": null,
            "grid_auto_columns": null,
            "grid_auto_flow": null,
            "grid_auto_rows": null,
            "grid_column": null,
            "grid_gap": null,
            "grid_row": null,
            "grid_template_areas": null,
            "grid_template_columns": null,
            "grid_template_rows": null,
            "height": null,
            "justify_content": null,
            "justify_items": null,
            "left": null,
            "margin": null,
            "max_height": null,
            "max_width": null,
            "min_height": null,
            "min_width": null,
            "object_fit": null,
            "object_position": null,
            "order": null,
            "overflow": null,
            "overflow_x": null,
            "overflow_y": null,
            "padding": null,
            "right": null,
            "top": null,
            "visibility": null,
            "width": null
          }
        },
        "84bc24f53e1647debb1aabb00e69ded8": {
          "model_module": "@jupyter-widgets/controls",
          "model_name": "DescriptionStyleModel",
          "model_module_version": "1.5.0",
          "state": {
            "_model_module": "@jupyter-widgets/controls",
            "_model_module_version": "1.5.0",
            "_model_name": "DescriptionStyleModel",
            "_view_count": null,
            "_view_module": "@jupyter-widgets/base",
            "_view_module_version": "1.2.0",
            "_view_name": "StyleView",
            "description_width": ""
          }
        },
        "d699ea9e04d4444ba8e39b973b09a01d": {
          "model_module": "@jupyter-widgets/base",
          "model_name": "LayoutModel",
          "model_module_version": "1.2.0",
          "state": {
            "_model_module": "@jupyter-widgets/base",
            "_model_module_version": "1.2.0",
            "_model_name": "LayoutModel",
            "_view_count": null,
            "_view_module": "@jupyter-widgets/base",
            "_view_module_version": "1.2.0",
            "_view_name": "LayoutView",
            "align_content": null,
            "align_items": null,
            "align_self": null,
            "border": null,
            "bottom": null,
            "display": null,
            "flex": null,
            "flex_flow": null,
            "grid_area": null,
            "grid_auto_columns": null,
            "grid_auto_flow": null,
            "grid_auto_rows": null,
            "grid_column": null,
            "grid_gap": null,
            "grid_row": null,
            "grid_template_areas": null,
            "grid_template_columns": null,
            "grid_template_rows": null,
            "height": null,
            "justify_content": null,
            "justify_items": null,
            "left": null,
            "margin": null,
            "max_height": null,
            "max_width": null,
            "min_height": null,
            "min_width": null,
            "object_fit": null,
            "object_position": null,
            "order": null,
            "overflow": null,
            "overflow_x": null,
            "overflow_y": null,
            "padding": null,
            "right": null,
            "top": null,
            "visibility": null,
            "width": null
          }
        },
        "bfcd8f2ca0ee47829ebba5f89327f055": {
          "model_module": "@jupyter-widgets/controls",
          "model_name": "ProgressStyleModel",
          "model_module_version": "1.5.0",
          "state": {
            "_model_module": "@jupyter-widgets/controls",
            "_model_module_version": "1.5.0",
            "_model_name": "ProgressStyleModel",
            "_view_count": null,
            "_view_module": "@jupyter-widgets/base",
            "_view_module_version": "1.2.0",
            "_view_name": "StyleView",
            "bar_color": null,
            "description_width": ""
          }
        },
        "fa36b2b56deb448eb30ae8d3cf929b14": {
          "model_module": "@jupyter-widgets/controls",
          "model_name": "VBoxModel",
          "model_module_version": "1.5.0",
          "state": {
            "_dom_classes": [],
            "_model_module": "@jupyter-widgets/controls",
            "_model_module_version": "1.5.0",
            "_model_name": "VBoxModel",
            "_view_count": null,
            "_view_module": "@jupyter-widgets/controls",
            "_view_module_version": "1.5.0",
            "_view_name": "VBoxView",
            "box_style": "",
            "children": [
              "IPY_MODEL_64d901f463824527adbaf73395d882dc",
              "IPY_MODEL_342460e518194c27b702567bcc63f0fe"
            ],
            "layout": "IPY_MODEL_0a888275c22344fdb21dd41540cb0e38"
          }
        },
        "64d901f463824527adbaf73395d882dc": {
          "model_module": "@jupyter-widgets/controls",
          "model_name": "LabelModel",
          "model_module_version": "1.5.0",
          "state": {
            "_dom_classes": [],
            "_model_module": "@jupyter-widgets/controls",
            "_model_module_version": "1.5.0",
            "_model_name": "LabelModel",
            "_view_count": null,
            "_view_module": "@jupyter-widgets/controls",
            "_view_module_version": "1.5.0",
            "_view_name": "LabelView",
            "description": "",
            "description_tooltip": null,
            "layout": "IPY_MODEL_4dee14b1f2f34ca98057d4e49589a4d9",
            "placeholder": "​",
            "style": "IPY_MODEL_9d0922d4ea294f0291a0c4e9923b388e",
            "value": "0.012 MB of 0.012 MB uploaded\r"
          }
        },
        "342460e518194c27b702567bcc63f0fe": {
          "model_module": "@jupyter-widgets/controls",
          "model_name": "FloatProgressModel",
          "model_module_version": "1.5.0",
          "state": {
            "_dom_classes": [],
            "_model_module": "@jupyter-widgets/controls",
            "_model_module_version": "1.5.0",
            "_model_name": "FloatProgressModel",
            "_view_count": null,
            "_view_module": "@jupyter-widgets/controls",
            "_view_module_version": "1.5.0",
            "_view_name": "ProgressView",
            "bar_style": "",
            "description": "",
            "description_tooltip": null,
            "layout": "IPY_MODEL_40103bc888934ebd82cf5cdeb76c43a7",
            "max": 1,
            "min": 0,
            "orientation": "horizontal",
            "style": "IPY_MODEL_ed9cbaf6c2af405c898148eff654e270",
            "value": 1
          }
        },
        "0a888275c22344fdb21dd41540cb0e38": {
          "model_module": "@jupyter-widgets/base",
          "model_name": "LayoutModel",
          "model_module_version": "1.2.0",
          "state": {
            "_model_module": "@jupyter-widgets/base",
            "_model_module_version": "1.2.0",
            "_model_name": "LayoutModel",
            "_view_count": null,
            "_view_module": "@jupyter-widgets/base",
            "_view_module_version": "1.2.0",
            "_view_name": "LayoutView",
            "align_content": null,
            "align_items": null,
            "align_self": null,
            "border": null,
            "bottom": null,
            "display": null,
            "flex": null,
            "flex_flow": null,
            "grid_area": null,
            "grid_auto_columns": null,
            "grid_auto_flow": null,
            "grid_auto_rows": null,
            "grid_column": null,
            "grid_gap": null,
            "grid_row": null,
            "grid_template_areas": null,
            "grid_template_columns": null,
            "grid_template_rows": null,
            "height": null,
            "justify_content": null,
            "justify_items": null,
            "left": null,
            "margin": null,
            "max_height": null,
            "max_width": null,
            "min_height": null,
            "min_width": null,
            "object_fit": null,
            "object_position": null,
            "order": null,
            "overflow": null,
            "overflow_x": null,
            "overflow_y": null,
            "padding": null,
            "right": null,
            "top": null,
            "visibility": null,
            "width": null
          }
        },
        "4dee14b1f2f34ca98057d4e49589a4d9": {
          "model_module": "@jupyter-widgets/base",
          "model_name": "LayoutModel",
          "model_module_version": "1.2.0",
          "state": {
            "_model_module": "@jupyter-widgets/base",
            "_model_module_version": "1.2.0",
            "_model_name": "LayoutModel",
            "_view_count": null,
            "_view_module": "@jupyter-widgets/base",
            "_view_module_version": "1.2.0",
            "_view_name": "LayoutView",
            "align_content": null,
            "align_items": null,
            "align_self": null,
            "border": null,
            "bottom": null,
            "display": null,
            "flex": null,
            "flex_flow": null,
            "grid_area": null,
            "grid_auto_columns": null,
            "grid_auto_flow": null,
            "grid_auto_rows": null,
            "grid_column": null,
            "grid_gap": null,
            "grid_row": null,
            "grid_template_areas": null,
            "grid_template_columns": null,
            "grid_template_rows": null,
            "height": null,
            "justify_content": null,
            "justify_items": null,
            "left": null,
            "margin": null,
            "max_height": null,
            "max_width": null,
            "min_height": null,
            "min_width": null,
            "object_fit": null,
            "object_position": null,
            "order": null,
            "overflow": null,
            "overflow_x": null,
            "overflow_y": null,
            "padding": null,
            "right": null,
            "top": null,
            "visibility": null,
            "width": null
          }
        },
        "9d0922d4ea294f0291a0c4e9923b388e": {
          "model_module": "@jupyter-widgets/controls",
          "model_name": "DescriptionStyleModel",
          "model_module_version": "1.5.0",
          "state": {
            "_model_module": "@jupyter-widgets/controls",
            "_model_module_version": "1.5.0",
            "_model_name": "DescriptionStyleModel",
            "_view_count": null,
            "_view_module": "@jupyter-widgets/base",
            "_view_module_version": "1.2.0",
            "_view_name": "StyleView",
            "description_width": ""
          }
        },
        "40103bc888934ebd82cf5cdeb76c43a7": {
          "model_module": "@jupyter-widgets/base",
          "model_name": "LayoutModel",
          "model_module_version": "1.2.0",
          "state": {
            "_model_module": "@jupyter-widgets/base",
            "_model_module_version": "1.2.0",
            "_model_name": "LayoutModel",
            "_view_count": null,
            "_view_module": "@jupyter-widgets/base",
            "_view_module_version": "1.2.0",
            "_view_name": "LayoutView",
            "align_content": null,
            "align_items": null,
            "align_self": null,
            "border": null,
            "bottom": null,
            "display": null,
            "flex": null,
            "flex_flow": null,
            "grid_area": null,
            "grid_auto_columns": null,
            "grid_auto_flow": null,
            "grid_auto_rows": null,
            "grid_column": null,
            "grid_gap": null,
            "grid_row": null,
            "grid_template_areas": null,
            "grid_template_columns": null,
            "grid_template_rows": null,
            "height": null,
            "justify_content": null,
            "justify_items": null,
            "left": null,
            "margin": null,
            "max_height": null,
            "max_width": null,
            "min_height": null,
            "min_width": null,
            "object_fit": null,
            "object_position": null,
            "order": null,
            "overflow": null,
            "overflow_x": null,
            "overflow_y": null,
            "padding": null,
            "right": null,
            "top": null,
            "visibility": null,
            "width": null
          }
        },
        "ed9cbaf6c2af405c898148eff654e270": {
          "model_module": "@jupyter-widgets/controls",
          "model_name": "ProgressStyleModel",
          "model_module_version": "1.5.0",
          "state": {
            "_model_module": "@jupyter-widgets/controls",
            "_model_module_version": "1.5.0",
            "_model_name": "ProgressStyleModel",
            "_view_count": null,
            "_view_module": "@jupyter-widgets/base",
            "_view_module_version": "1.2.0",
            "_view_name": "StyleView",
            "bar_color": null,
            "description_width": ""
          }
        },
        "ac885a81bd3144fd8a2259b76df2832d": {
          "model_module": "@jupyter-widgets/controls",
          "model_name": "VBoxModel",
          "model_module_version": "1.5.0",
          "state": {
            "_dom_classes": [],
            "_model_module": "@jupyter-widgets/controls",
            "_model_module_version": "1.5.0",
            "_model_name": "VBoxModel",
            "_view_count": null,
            "_view_module": "@jupyter-widgets/controls",
            "_view_module_version": "1.5.0",
            "_view_name": "VBoxView",
            "box_style": "",
            "children": [
              "IPY_MODEL_6ab332a9c13a4bc695980299ee75b7e4",
              "IPY_MODEL_69822cde280144abbfcdae2c2a99f585"
            ],
            "layout": "IPY_MODEL_71b70c400f7741bf80723b39bb281c99"
          }
        },
        "6ab332a9c13a4bc695980299ee75b7e4": {
          "model_module": "@jupyter-widgets/controls",
          "model_name": "LabelModel",
          "model_module_version": "1.5.0",
          "state": {
            "_dom_classes": [],
            "_model_module": "@jupyter-widgets/controls",
            "_model_module_version": "1.5.0",
            "_model_name": "LabelModel",
            "_view_count": null,
            "_view_module": "@jupyter-widgets/controls",
            "_view_module_version": "1.5.0",
            "_view_name": "LabelView",
            "description": "",
            "description_tooltip": null,
            "layout": "IPY_MODEL_f15226f7870449dc85e7bf8573319057",
            "placeholder": "​",
            "style": "IPY_MODEL_5ded39842d9643d393517e18d0c616a2",
            "value": "0.012 MB of 0.012 MB uploaded\r"
          }
        },
        "69822cde280144abbfcdae2c2a99f585": {
          "model_module": "@jupyter-widgets/controls",
          "model_name": "FloatProgressModel",
          "model_module_version": "1.5.0",
          "state": {
            "_dom_classes": [],
            "_model_module": "@jupyter-widgets/controls",
            "_model_module_version": "1.5.0",
            "_model_name": "FloatProgressModel",
            "_view_count": null,
            "_view_module": "@jupyter-widgets/controls",
            "_view_module_version": "1.5.0",
            "_view_name": "ProgressView",
            "bar_style": "",
            "description": "",
            "description_tooltip": null,
            "layout": "IPY_MODEL_4f974a395c444acf8b4ed398598cd7f8",
            "max": 1,
            "min": 0,
            "orientation": "horizontal",
            "style": "IPY_MODEL_94185c0156044e2ca6e42ad188524896",
            "value": 1
          }
        },
        "71b70c400f7741bf80723b39bb281c99": {
          "model_module": "@jupyter-widgets/base",
          "model_name": "LayoutModel",
          "model_module_version": "1.2.0",
          "state": {
            "_model_module": "@jupyter-widgets/base",
            "_model_module_version": "1.2.0",
            "_model_name": "LayoutModel",
            "_view_count": null,
            "_view_module": "@jupyter-widgets/base",
            "_view_module_version": "1.2.0",
            "_view_name": "LayoutView",
            "align_content": null,
            "align_items": null,
            "align_self": null,
            "border": null,
            "bottom": null,
            "display": null,
            "flex": null,
            "flex_flow": null,
            "grid_area": null,
            "grid_auto_columns": null,
            "grid_auto_flow": null,
            "grid_auto_rows": null,
            "grid_column": null,
            "grid_gap": null,
            "grid_row": null,
            "grid_template_areas": null,
            "grid_template_columns": null,
            "grid_template_rows": null,
            "height": null,
            "justify_content": null,
            "justify_items": null,
            "left": null,
            "margin": null,
            "max_height": null,
            "max_width": null,
            "min_height": null,
            "min_width": null,
            "object_fit": null,
            "object_position": null,
            "order": null,
            "overflow": null,
            "overflow_x": null,
            "overflow_y": null,
            "padding": null,
            "right": null,
            "top": null,
            "visibility": null,
            "width": null
          }
        },
        "f15226f7870449dc85e7bf8573319057": {
          "model_module": "@jupyter-widgets/base",
          "model_name": "LayoutModel",
          "model_module_version": "1.2.0",
          "state": {
            "_model_module": "@jupyter-widgets/base",
            "_model_module_version": "1.2.0",
            "_model_name": "LayoutModel",
            "_view_count": null,
            "_view_module": "@jupyter-widgets/base",
            "_view_module_version": "1.2.0",
            "_view_name": "LayoutView",
            "align_content": null,
            "align_items": null,
            "align_self": null,
            "border": null,
            "bottom": null,
            "display": null,
            "flex": null,
            "flex_flow": null,
            "grid_area": null,
            "grid_auto_columns": null,
            "grid_auto_flow": null,
            "grid_auto_rows": null,
            "grid_column": null,
            "grid_gap": null,
            "grid_row": null,
            "grid_template_areas": null,
            "grid_template_columns": null,
            "grid_template_rows": null,
            "height": null,
            "justify_content": null,
            "justify_items": null,
            "left": null,
            "margin": null,
            "max_height": null,
            "max_width": null,
            "min_height": null,
            "min_width": null,
            "object_fit": null,
            "object_position": null,
            "order": null,
            "overflow": null,
            "overflow_x": null,
            "overflow_y": null,
            "padding": null,
            "right": null,
            "top": null,
            "visibility": null,
            "width": null
          }
        },
        "5ded39842d9643d393517e18d0c616a2": {
          "model_module": "@jupyter-widgets/controls",
          "model_name": "DescriptionStyleModel",
          "model_module_version": "1.5.0",
          "state": {
            "_model_module": "@jupyter-widgets/controls",
            "_model_module_version": "1.5.0",
            "_model_name": "DescriptionStyleModel",
            "_view_count": null,
            "_view_module": "@jupyter-widgets/base",
            "_view_module_version": "1.2.0",
            "_view_name": "StyleView",
            "description_width": ""
          }
        },
        "4f974a395c444acf8b4ed398598cd7f8": {
          "model_module": "@jupyter-widgets/base",
          "model_name": "LayoutModel",
          "model_module_version": "1.2.0",
          "state": {
            "_model_module": "@jupyter-widgets/base",
            "_model_module_version": "1.2.0",
            "_model_name": "LayoutModel",
            "_view_count": null,
            "_view_module": "@jupyter-widgets/base",
            "_view_module_version": "1.2.0",
            "_view_name": "LayoutView",
            "align_content": null,
            "align_items": null,
            "align_self": null,
            "border": null,
            "bottom": null,
            "display": null,
            "flex": null,
            "flex_flow": null,
            "grid_area": null,
            "grid_auto_columns": null,
            "grid_auto_flow": null,
            "grid_auto_rows": null,
            "grid_column": null,
            "grid_gap": null,
            "grid_row": null,
            "grid_template_areas": null,
            "grid_template_columns": null,
            "grid_template_rows": null,
            "height": null,
            "justify_content": null,
            "justify_items": null,
            "left": null,
            "margin": null,
            "max_height": null,
            "max_width": null,
            "min_height": null,
            "min_width": null,
            "object_fit": null,
            "object_position": null,
            "order": null,
            "overflow": null,
            "overflow_x": null,
            "overflow_y": null,
            "padding": null,
            "right": null,
            "top": null,
            "visibility": null,
            "width": null
          }
        },
        "94185c0156044e2ca6e42ad188524896": {
          "model_module": "@jupyter-widgets/controls",
          "model_name": "ProgressStyleModel",
          "model_module_version": "1.5.0",
          "state": {
            "_model_module": "@jupyter-widgets/controls",
            "_model_module_version": "1.5.0",
            "_model_name": "ProgressStyleModel",
            "_view_count": null,
            "_view_module": "@jupyter-widgets/base",
            "_view_module_version": "1.2.0",
            "_view_name": "StyleView",
            "bar_color": null,
            "description_width": ""
          }
        },
        "bc02cd26242c46ca9013525688d3538b": {
          "model_module": "@jupyter-widgets/controls",
          "model_name": "VBoxModel",
          "model_module_version": "1.5.0",
          "state": {
            "_dom_classes": [],
            "_model_module": "@jupyter-widgets/controls",
            "_model_module_version": "1.5.0",
            "_model_name": "VBoxModel",
            "_view_count": null,
            "_view_module": "@jupyter-widgets/controls",
            "_view_module_version": "1.5.0",
            "_view_name": "VBoxView",
            "box_style": "",
            "children": [
              "IPY_MODEL_21446bc7ac3a49bda87a0e627d419877",
              "IPY_MODEL_ce55475349e1490fa154d35a083a52dc"
            ],
            "layout": "IPY_MODEL_0c026da57ef3457687b5c1f8c877d1f0"
          }
        },
        "21446bc7ac3a49bda87a0e627d419877": {
          "model_module": "@jupyter-widgets/controls",
          "model_name": "LabelModel",
          "model_module_version": "1.5.0",
          "state": {
            "_dom_classes": [],
            "_model_module": "@jupyter-widgets/controls",
            "_model_module_version": "1.5.0",
            "_model_name": "LabelModel",
            "_view_count": null,
            "_view_module": "@jupyter-widgets/controls",
            "_view_module_version": "1.5.0",
            "_view_name": "LabelView",
            "description": "",
            "description_tooltip": null,
            "layout": "IPY_MODEL_1587f37b7686418b9d69494a1dd8e178",
            "placeholder": "​",
            "style": "IPY_MODEL_087552a9ab444149959fd5f06627a3c2",
            "value": "0.012 MB of 0.012 MB uploaded\r"
          }
        },
        "ce55475349e1490fa154d35a083a52dc": {
          "model_module": "@jupyter-widgets/controls",
          "model_name": "FloatProgressModel",
          "model_module_version": "1.5.0",
          "state": {
            "_dom_classes": [],
            "_model_module": "@jupyter-widgets/controls",
            "_model_module_version": "1.5.0",
            "_model_name": "FloatProgressModel",
            "_view_count": null,
            "_view_module": "@jupyter-widgets/controls",
            "_view_module_version": "1.5.0",
            "_view_name": "ProgressView",
            "bar_style": "",
            "description": "",
            "description_tooltip": null,
            "layout": "IPY_MODEL_a76ce3ae6c4d4ef58d1e90e4ce30fed2",
            "max": 1,
            "min": 0,
            "orientation": "horizontal",
            "style": "IPY_MODEL_332248172ba6446888333ddac10dd1d8",
            "value": 1
          }
        },
        "0c026da57ef3457687b5c1f8c877d1f0": {
          "model_module": "@jupyter-widgets/base",
          "model_name": "LayoutModel",
          "model_module_version": "1.2.0",
          "state": {
            "_model_module": "@jupyter-widgets/base",
            "_model_module_version": "1.2.0",
            "_model_name": "LayoutModel",
            "_view_count": null,
            "_view_module": "@jupyter-widgets/base",
            "_view_module_version": "1.2.0",
            "_view_name": "LayoutView",
            "align_content": null,
            "align_items": null,
            "align_self": null,
            "border": null,
            "bottom": null,
            "display": null,
            "flex": null,
            "flex_flow": null,
            "grid_area": null,
            "grid_auto_columns": null,
            "grid_auto_flow": null,
            "grid_auto_rows": null,
            "grid_column": null,
            "grid_gap": null,
            "grid_row": null,
            "grid_template_areas": null,
            "grid_template_columns": null,
            "grid_template_rows": null,
            "height": null,
            "justify_content": null,
            "justify_items": null,
            "left": null,
            "margin": null,
            "max_height": null,
            "max_width": null,
            "min_height": null,
            "min_width": null,
            "object_fit": null,
            "object_position": null,
            "order": null,
            "overflow": null,
            "overflow_x": null,
            "overflow_y": null,
            "padding": null,
            "right": null,
            "top": null,
            "visibility": null,
            "width": null
          }
        },
        "1587f37b7686418b9d69494a1dd8e178": {
          "model_module": "@jupyter-widgets/base",
          "model_name": "LayoutModel",
          "model_module_version": "1.2.0",
          "state": {
            "_model_module": "@jupyter-widgets/base",
            "_model_module_version": "1.2.0",
            "_model_name": "LayoutModel",
            "_view_count": null,
            "_view_module": "@jupyter-widgets/base",
            "_view_module_version": "1.2.0",
            "_view_name": "LayoutView",
            "align_content": null,
            "align_items": null,
            "align_self": null,
            "border": null,
            "bottom": null,
            "display": null,
            "flex": null,
            "flex_flow": null,
            "grid_area": null,
            "grid_auto_columns": null,
            "grid_auto_flow": null,
            "grid_auto_rows": null,
            "grid_column": null,
            "grid_gap": null,
            "grid_row": null,
            "grid_template_areas": null,
            "grid_template_columns": null,
            "grid_template_rows": null,
            "height": null,
            "justify_content": null,
            "justify_items": null,
            "left": null,
            "margin": null,
            "max_height": null,
            "max_width": null,
            "min_height": null,
            "min_width": null,
            "object_fit": null,
            "object_position": null,
            "order": null,
            "overflow": null,
            "overflow_x": null,
            "overflow_y": null,
            "padding": null,
            "right": null,
            "top": null,
            "visibility": null,
            "width": null
          }
        },
        "087552a9ab444149959fd5f06627a3c2": {
          "model_module": "@jupyter-widgets/controls",
          "model_name": "DescriptionStyleModel",
          "model_module_version": "1.5.0",
          "state": {
            "_model_module": "@jupyter-widgets/controls",
            "_model_module_version": "1.5.0",
            "_model_name": "DescriptionStyleModel",
            "_view_count": null,
            "_view_module": "@jupyter-widgets/base",
            "_view_module_version": "1.2.0",
            "_view_name": "StyleView",
            "description_width": ""
          }
        },
        "a76ce3ae6c4d4ef58d1e90e4ce30fed2": {
          "model_module": "@jupyter-widgets/base",
          "model_name": "LayoutModel",
          "model_module_version": "1.2.0",
          "state": {
            "_model_module": "@jupyter-widgets/base",
            "_model_module_version": "1.2.0",
            "_model_name": "LayoutModel",
            "_view_count": null,
            "_view_module": "@jupyter-widgets/base",
            "_view_module_version": "1.2.0",
            "_view_name": "LayoutView",
            "align_content": null,
            "align_items": null,
            "align_self": null,
            "border": null,
            "bottom": null,
            "display": null,
            "flex": null,
            "flex_flow": null,
            "grid_area": null,
            "grid_auto_columns": null,
            "grid_auto_flow": null,
            "grid_auto_rows": null,
            "grid_column": null,
            "grid_gap": null,
            "grid_row": null,
            "grid_template_areas": null,
            "grid_template_columns": null,
            "grid_template_rows": null,
            "height": null,
            "justify_content": null,
            "justify_items": null,
            "left": null,
            "margin": null,
            "max_height": null,
            "max_width": null,
            "min_height": null,
            "min_width": null,
            "object_fit": null,
            "object_position": null,
            "order": null,
            "overflow": null,
            "overflow_x": null,
            "overflow_y": null,
            "padding": null,
            "right": null,
            "top": null,
            "visibility": null,
            "width": null
          }
        },
        "332248172ba6446888333ddac10dd1d8": {
          "model_module": "@jupyter-widgets/controls",
          "model_name": "ProgressStyleModel",
          "model_module_version": "1.5.0",
          "state": {
            "_model_module": "@jupyter-widgets/controls",
            "_model_module_version": "1.5.0",
            "_model_name": "ProgressStyleModel",
            "_view_count": null,
            "_view_module": "@jupyter-widgets/base",
            "_view_module_version": "1.2.0",
            "_view_name": "StyleView",
            "bar_color": null,
            "description_width": ""
          }
        },
        "1e0d85ea620a45f481b9318e0cd882eb": {
          "model_module": "@jupyter-widgets/controls",
          "model_name": "VBoxModel",
          "model_module_version": "1.5.0",
          "state": {
            "_dom_classes": [],
            "_model_module": "@jupyter-widgets/controls",
            "_model_module_version": "1.5.0",
            "_model_name": "VBoxModel",
            "_view_count": null,
            "_view_module": "@jupyter-widgets/controls",
            "_view_module_version": "1.5.0",
            "_view_name": "VBoxView",
            "box_style": "",
            "children": [
              "IPY_MODEL_a9da89ef957240f0868ee630a7e32f0b",
              "IPY_MODEL_d5623b64289742c7b9f682d7e275b72e"
            ],
            "layout": "IPY_MODEL_eaa96e5329dc44f5b0a72dca267291cc"
          }
        },
        "a9da89ef957240f0868ee630a7e32f0b": {
          "model_module": "@jupyter-widgets/controls",
          "model_name": "LabelModel",
          "model_module_version": "1.5.0",
          "state": {
            "_dom_classes": [],
            "_model_module": "@jupyter-widgets/controls",
            "_model_module_version": "1.5.0",
            "_model_name": "LabelModel",
            "_view_count": null,
            "_view_module": "@jupyter-widgets/controls",
            "_view_module_version": "1.5.0",
            "_view_name": "LabelView",
            "description": "",
            "description_tooltip": null,
            "layout": "IPY_MODEL_c466868947a04b5c87a0b7c043e50c57",
            "placeholder": "​",
            "style": "IPY_MODEL_66e57b8548924ef0af0d1dfe4d9073e8",
            "value": "0.012 MB of 0.012 MB uploaded\r"
          }
        },
        "d5623b64289742c7b9f682d7e275b72e": {
          "model_module": "@jupyter-widgets/controls",
          "model_name": "FloatProgressModel",
          "model_module_version": "1.5.0",
          "state": {
            "_dom_classes": [],
            "_model_module": "@jupyter-widgets/controls",
            "_model_module_version": "1.5.0",
            "_model_name": "FloatProgressModel",
            "_view_count": null,
            "_view_module": "@jupyter-widgets/controls",
            "_view_module_version": "1.5.0",
            "_view_name": "ProgressView",
            "bar_style": "",
            "description": "",
            "description_tooltip": null,
            "layout": "IPY_MODEL_e593fef3b7174f0d89b284e1d805f203",
            "max": 1,
            "min": 0,
            "orientation": "horizontal",
            "style": "IPY_MODEL_d861bee947a646eabe6671fbfda75ad5",
            "value": 1
          }
        },
        "eaa96e5329dc44f5b0a72dca267291cc": {
          "model_module": "@jupyter-widgets/base",
          "model_name": "LayoutModel",
          "model_module_version": "1.2.0",
          "state": {
            "_model_module": "@jupyter-widgets/base",
            "_model_module_version": "1.2.0",
            "_model_name": "LayoutModel",
            "_view_count": null,
            "_view_module": "@jupyter-widgets/base",
            "_view_module_version": "1.2.0",
            "_view_name": "LayoutView",
            "align_content": null,
            "align_items": null,
            "align_self": null,
            "border": null,
            "bottom": null,
            "display": null,
            "flex": null,
            "flex_flow": null,
            "grid_area": null,
            "grid_auto_columns": null,
            "grid_auto_flow": null,
            "grid_auto_rows": null,
            "grid_column": null,
            "grid_gap": null,
            "grid_row": null,
            "grid_template_areas": null,
            "grid_template_columns": null,
            "grid_template_rows": null,
            "height": null,
            "justify_content": null,
            "justify_items": null,
            "left": null,
            "margin": null,
            "max_height": null,
            "max_width": null,
            "min_height": null,
            "min_width": null,
            "object_fit": null,
            "object_position": null,
            "order": null,
            "overflow": null,
            "overflow_x": null,
            "overflow_y": null,
            "padding": null,
            "right": null,
            "top": null,
            "visibility": null,
            "width": null
          }
        },
        "c466868947a04b5c87a0b7c043e50c57": {
          "model_module": "@jupyter-widgets/base",
          "model_name": "LayoutModel",
          "model_module_version": "1.2.0",
          "state": {
            "_model_module": "@jupyter-widgets/base",
            "_model_module_version": "1.2.0",
            "_model_name": "LayoutModel",
            "_view_count": null,
            "_view_module": "@jupyter-widgets/base",
            "_view_module_version": "1.2.0",
            "_view_name": "LayoutView",
            "align_content": null,
            "align_items": null,
            "align_self": null,
            "border": null,
            "bottom": null,
            "display": null,
            "flex": null,
            "flex_flow": null,
            "grid_area": null,
            "grid_auto_columns": null,
            "grid_auto_flow": null,
            "grid_auto_rows": null,
            "grid_column": null,
            "grid_gap": null,
            "grid_row": null,
            "grid_template_areas": null,
            "grid_template_columns": null,
            "grid_template_rows": null,
            "height": null,
            "justify_content": null,
            "justify_items": null,
            "left": null,
            "margin": null,
            "max_height": null,
            "max_width": null,
            "min_height": null,
            "min_width": null,
            "object_fit": null,
            "object_position": null,
            "order": null,
            "overflow": null,
            "overflow_x": null,
            "overflow_y": null,
            "padding": null,
            "right": null,
            "top": null,
            "visibility": null,
            "width": null
          }
        },
        "66e57b8548924ef0af0d1dfe4d9073e8": {
          "model_module": "@jupyter-widgets/controls",
          "model_name": "DescriptionStyleModel",
          "model_module_version": "1.5.0",
          "state": {
            "_model_module": "@jupyter-widgets/controls",
            "_model_module_version": "1.5.0",
            "_model_name": "DescriptionStyleModel",
            "_view_count": null,
            "_view_module": "@jupyter-widgets/base",
            "_view_module_version": "1.2.0",
            "_view_name": "StyleView",
            "description_width": ""
          }
        },
        "e593fef3b7174f0d89b284e1d805f203": {
          "model_module": "@jupyter-widgets/base",
          "model_name": "LayoutModel",
          "model_module_version": "1.2.0",
          "state": {
            "_model_module": "@jupyter-widgets/base",
            "_model_module_version": "1.2.0",
            "_model_name": "LayoutModel",
            "_view_count": null,
            "_view_module": "@jupyter-widgets/base",
            "_view_module_version": "1.2.0",
            "_view_name": "LayoutView",
            "align_content": null,
            "align_items": null,
            "align_self": null,
            "border": null,
            "bottom": null,
            "display": null,
            "flex": null,
            "flex_flow": null,
            "grid_area": null,
            "grid_auto_columns": null,
            "grid_auto_flow": null,
            "grid_auto_rows": null,
            "grid_column": null,
            "grid_gap": null,
            "grid_row": null,
            "grid_template_areas": null,
            "grid_template_columns": null,
            "grid_template_rows": null,
            "height": null,
            "justify_content": null,
            "justify_items": null,
            "left": null,
            "margin": null,
            "max_height": null,
            "max_width": null,
            "min_height": null,
            "min_width": null,
            "object_fit": null,
            "object_position": null,
            "order": null,
            "overflow": null,
            "overflow_x": null,
            "overflow_y": null,
            "padding": null,
            "right": null,
            "top": null,
            "visibility": null,
            "width": null
          }
        },
        "d861bee947a646eabe6671fbfda75ad5": {
          "model_module": "@jupyter-widgets/controls",
          "model_name": "ProgressStyleModel",
          "model_module_version": "1.5.0",
          "state": {
            "_model_module": "@jupyter-widgets/controls",
            "_model_module_version": "1.5.0",
            "_model_name": "ProgressStyleModel",
            "_view_count": null,
            "_view_module": "@jupyter-widgets/base",
            "_view_module_version": "1.2.0",
            "_view_name": "StyleView",
            "bar_color": null,
            "description_width": ""
          }
        },
        "97f1febedcfa43b58476c267d405b0b8": {
          "model_module": "@jupyter-widgets/controls",
          "model_name": "VBoxModel",
          "model_module_version": "1.5.0",
          "state": {
            "_dom_classes": [],
            "_model_module": "@jupyter-widgets/controls",
            "_model_module_version": "1.5.0",
            "_model_name": "VBoxModel",
            "_view_count": null,
            "_view_module": "@jupyter-widgets/controls",
            "_view_module_version": "1.5.0",
            "_view_name": "VBoxView",
            "box_style": "",
            "children": [
              "IPY_MODEL_ea4d7262bd5a4cca9974bb4eb8eab703",
              "IPY_MODEL_8e49d2b5c5fb4900a1cbaefc9e6c0a9b"
            ],
            "layout": "IPY_MODEL_f4a9d1cee538481bb2be4d7702d8a056"
          }
        },
        "ea4d7262bd5a4cca9974bb4eb8eab703": {
          "model_module": "@jupyter-widgets/controls",
          "model_name": "LabelModel",
          "model_module_version": "1.5.0",
          "state": {
            "_dom_classes": [],
            "_model_module": "@jupyter-widgets/controls",
            "_model_module_version": "1.5.0",
            "_model_name": "LabelModel",
            "_view_count": null,
            "_view_module": "@jupyter-widgets/controls",
            "_view_module_version": "1.5.0",
            "_view_name": "LabelView",
            "description": "",
            "description_tooltip": null,
            "layout": "IPY_MODEL_f5123f579ee54651b4a91d988a84d03b",
            "placeholder": "​",
            "style": "IPY_MODEL_67800eeb42e5417c8fe6c91e367d7d9e",
            "value": "0.012 MB of 0.012 MB uploaded\r"
          }
        },
        "8e49d2b5c5fb4900a1cbaefc9e6c0a9b": {
          "model_module": "@jupyter-widgets/controls",
          "model_name": "FloatProgressModel",
          "model_module_version": "1.5.0",
          "state": {
            "_dom_classes": [],
            "_model_module": "@jupyter-widgets/controls",
            "_model_module_version": "1.5.0",
            "_model_name": "FloatProgressModel",
            "_view_count": null,
            "_view_module": "@jupyter-widgets/controls",
            "_view_module_version": "1.5.0",
            "_view_name": "ProgressView",
            "bar_style": "",
            "description": "",
            "description_tooltip": null,
            "layout": "IPY_MODEL_79cf28e52fbb4cf98a6934a8b6fe8cfb",
            "max": 1,
            "min": 0,
            "orientation": "horizontal",
            "style": "IPY_MODEL_9d2cc2fa3e214c4390af67e460506120",
            "value": 1
          }
        },
        "f4a9d1cee538481bb2be4d7702d8a056": {
          "model_module": "@jupyter-widgets/base",
          "model_name": "LayoutModel",
          "model_module_version": "1.2.0",
          "state": {
            "_model_module": "@jupyter-widgets/base",
            "_model_module_version": "1.2.0",
            "_model_name": "LayoutModel",
            "_view_count": null,
            "_view_module": "@jupyter-widgets/base",
            "_view_module_version": "1.2.0",
            "_view_name": "LayoutView",
            "align_content": null,
            "align_items": null,
            "align_self": null,
            "border": null,
            "bottom": null,
            "display": null,
            "flex": null,
            "flex_flow": null,
            "grid_area": null,
            "grid_auto_columns": null,
            "grid_auto_flow": null,
            "grid_auto_rows": null,
            "grid_column": null,
            "grid_gap": null,
            "grid_row": null,
            "grid_template_areas": null,
            "grid_template_columns": null,
            "grid_template_rows": null,
            "height": null,
            "justify_content": null,
            "justify_items": null,
            "left": null,
            "margin": null,
            "max_height": null,
            "max_width": null,
            "min_height": null,
            "min_width": null,
            "object_fit": null,
            "object_position": null,
            "order": null,
            "overflow": null,
            "overflow_x": null,
            "overflow_y": null,
            "padding": null,
            "right": null,
            "top": null,
            "visibility": null,
            "width": null
          }
        },
        "f5123f579ee54651b4a91d988a84d03b": {
          "model_module": "@jupyter-widgets/base",
          "model_name": "LayoutModel",
          "model_module_version": "1.2.0",
          "state": {
            "_model_module": "@jupyter-widgets/base",
            "_model_module_version": "1.2.0",
            "_model_name": "LayoutModel",
            "_view_count": null,
            "_view_module": "@jupyter-widgets/base",
            "_view_module_version": "1.2.0",
            "_view_name": "LayoutView",
            "align_content": null,
            "align_items": null,
            "align_self": null,
            "border": null,
            "bottom": null,
            "display": null,
            "flex": null,
            "flex_flow": null,
            "grid_area": null,
            "grid_auto_columns": null,
            "grid_auto_flow": null,
            "grid_auto_rows": null,
            "grid_column": null,
            "grid_gap": null,
            "grid_row": null,
            "grid_template_areas": null,
            "grid_template_columns": null,
            "grid_template_rows": null,
            "height": null,
            "justify_content": null,
            "justify_items": null,
            "left": null,
            "margin": null,
            "max_height": null,
            "max_width": null,
            "min_height": null,
            "min_width": null,
            "object_fit": null,
            "object_position": null,
            "order": null,
            "overflow": null,
            "overflow_x": null,
            "overflow_y": null,
            "padding": null,
            "right": null,
            "top": null,
            "visibility": null,
            "width": null
          }
        },
        "67800eeb42e5417c8fe6c91e367d7d9e": {
          "model_module": "@jupyter-widgets/controls",
          "model_name": "DescriptionStyleModel",
          "model_module_version": "1.5.0",
          "state": {
            "_model_module": "@jupyter-widgets/controls",
            "_model_module_version": "1.5.0",
            "_model_name": "DescriptionStyleModel",
            "_view_count": null,
            "_view_module": "@jupyter-widgets/base",
            "_view_module_version": "1.2.0",
            "_view_name": "StyleView",
            "description_width": ""
          }
        },
        "79cf28e52fbb4cf98a6934a8b6fe8cfb": {
          "model_module": "@jupyter-widgets/base",
          "model_name": "LayoutModel",
          "model_module_version": "1.2.0",
          "state": {
            "_model_module": "@jupyter-widgets/base",
            "_model_module_version": "1.2.0",
            "_model_name": "LayoutModel",
            "_view_count": null,
            "_view_module": "@jupyter-widgets/base",
            "_view_module_version": "1.2.0",
            "_view_name": "LayoutView",
            "align_content": null,
            "align_items": null,
            "align_self": null,
            "border": null,
            "bottom": null,
            "display": null,
            "flex": null,
            "flex_flow": null,
            "grid_area": null,
            "grid_auto_columns": null,
            "grid_auto_flow": null,
            "grid_auto_rows": null,
            "grid_column": null,
            "grid_gap": null,
            "grid_row": null,
            "grid_template_areas": null,
            "grid_template_columns": null,
            "grid_template_rows": null,
            "height": null,
            "justify_content": null,
            "justify_items": null,
            "left": null,
            "margin": null,
            "max_height": null,
            "max_width": null,
            "min_height": null,
            "min_width": null,
            "object_fit": null,
            "object_position": null,
            "order": null,
            "overflow": null,
            "overflow_x": null,
            "overflow_y": null,
            "padding": null,
            "right": null,
            "top": null,
            "visibility": null,
            "width": null
          }
        },
        "9d2cc2fa3e214c4390af67e460506120": {
          "model_module": "@jupyter-widgets/controls",
          "model_name": "ProgressStyleModel",
          "model_module_version": "1.5.0",
          "state": {
            "_model_module": "@jupyter-widgets/controls",
            "_model_module_version": "1.5.0",
            "_model_name": "ProgressStyleModel",
            "_view_count": null,
            "_view_module": "@jupyter-widgets/base",
            "_view_module_version": "1.2.0",
            "_view_name": "StyleView",
            "bar_color": null,
            "description_width": ""
          }
        },
        "d5c5de6a46e542b1b3e5fc257d37c5fb": {
          "model_module": "@jupyter-widgets/controls",
          "model_name": "VBoxModel",
          "model_module_version": "1.5.0",
          "state": {
            "_dom_classes": [],
            "_model_module": "@jupyter-widgets/controls",
            "_model_module_version": "1.5.0",
            "_model_name": "VBoxModel",
            "_view_count": null,
            "_view_module": "@jupyter-widgets/controls",
            "_view_module_version": "1.5.0",
            "_view_name": "VBoxView",
            "box_style": "",
            "children": [
              "IPY_MODEL_1e14a4be34564d0ca14a8f9ea3df2785",
              "IPY_MODEL_7d95ca8440ee47a6970b4942c26e8242"
            ],
            "layout": "IPY_MODEL_d0f55595152841b28c68fd80de7811d6"
          }
        },
        "1e14a4be34564d0ca14a8f9ea3df2785": {
          "model_module": "@jupyter-widgets/controls",
          "model_name": "LabelModel",
          "model_module_version": "1.5.0",
          "state": {
            "_dom_classes": [],
            "_model_module": "@jupyter-widgets/controls",
            "_model_module_version": "1.5.0",
            "_model_name": "LabelModel",
            "_view_count": null,
            "_view_module": "@jupyter-widgets/controls",
            "_view_module_version": "1.5.0",
            "_view_name": "LabelView",
            "description": "",
            "description_tooltip": null,
            "layout": "IPY_MODEL_3bf27197c7df4e599bda15cda15c8b6e",
            "placeholder": "​",
            "style": "IPY_MODEL_c2938b60af66484aa5b13099bd219b36",
            "value": "0.012 MB of 0.012 MB uploaded\r"
          }
        },
        "7d95ca8440ee47a6970b4942c26e8242": {
          "model_module": "@jupyter-widgets/controls",
          "model_name": "FloatProgressModel",
          "model_module_version": "1.5.0",
          "state": {
            "_dom_classes": [],
            "_model_module": "@jupyter-widgets/controls",
            "_model_module_version": "1.5.0",
            "_model_name": "FloatProgressModel",
            "_view_count": null,
            "_view_module": "@jupyter-widgets/controls",
            "_view_module_version": "1.5.0",
            "_view_name": "ProgressView",
            "bar_style": "",
            "description": "",
            "description_tooltip": null,
            "layout": "IPY_MODEL_98d9ad5714fc496ca98e4881b7043756",
            "max": 1,
            "min": 0,
            "orientation": "horizontal",
            "style": "IPY_MODEL_5e998dbf4a8942b5873fdb16c808c764",
            "value": 1
          }
        },
        "d0f55595152841b28c68fd80de7811d6": {
          "model_module": "@jupyter-widgets/base",
          "model_name": "LayoutModel",
          "model_module_version": "1.2.0",
          "state": {
            "_model_module": "@jupyter-widgets/base",
            "_model_module_version": "1.2.0",
            "_model_name": "LayoutModel",
            "_view_count": null,
            "_view_module": "@jupyter-widgets/base",
            "_view_module_version": "1.2.0",
            "_view_name": "LayoutView",
            "align_content": null,
            "align_items": null,
            "align_self": null,
            "border": null,
            "bottom": null,
            "display": null,
            "flex": null,
            "flex_flow": null,
            "grid_area": null,
            "grid_auto_columns": null,
            "grid_auto_flow": null,
            "grid_auto_rows": null,
            "grid_column": null,
            "grid_gap": null,
            "grid_row": null,
            "grid_template_areas": null,
            "grid_template_columns": null,
            "grid_template_rows": null,
            "height": null,
            "justify_content": null,
            "justify_items": null,
            "left": null,
            "margin": null,
            "max_height": null,
            "max_width": null,
            "min_height": null,
            "min_width": null,
            "object_fit": null,
            "object_position": null,
            "order": null,
            "overflow": null,
            "overflow_x": null,
            "overflow_y": null,
            "padding": null,
            "right": null,
            "top": null,
            "visibility": null,
            "width": null
          }
        },
        "3bf27197c7df4e599bda15cda15c8b6e": {
          "model_module": "@jupyter-widgets/base",
          "model_name": "LayoutModel",
          "model_module_version": "1.2.0",
          "state": {
            "_model_module": "@jupyter-widgets/base",
            "_model_module_version": "1.2.0",
            "_model_name": "LayoutModel",
            "_view_count": null,
            "_view_module": "@jupyter-widgets/base",
            "_view_module_version": "1.2.0",
            "_view_name": "LayoutView",
            "align_content": null,
            "align_items": null,
            "align_self": null,
            "border": null,
            "bottom": null,
            "display": null,
            "flex": null,
            "flex_flow": null,
            "grid_area": null,
            "grid_auto_columns": null,
            "grid_auto_flow": null,
            "grid_auto_rows": null,
            "grid_column": null,
            "grid_gap": null,
            "grid_row": null,
            "grid_template_areas": null,
            "grid_template_columns": null,
            "grid_template_rows": null,
            "height": null,
            "justify_content": null,
            "justify_items": null,
            "left": null,
            "margin": null,
            "max_height": null,
            "max_width": null,
            "min_height": null,
            "min_width": null,
            "object_fit": null,
            "object_position": null,
            "order": null,
            "overflow": null,
            "overflow_x": null,
            "overflow_y": null,
            "padding": null,
            "right": null,
            "top": null,
            "visibility": null,
            "width": null
          }
        },
        "c2938b60af66484aa5b13099bd219b36": {
          "model_module": "@jupyter-widgets/controls",
          "model_name": "DescriptionStyleModel",
          "model_module_version": "1.5.0",
          "state": {
            "_model_module": "@jupyter-widgets/controls",
            "_model_module_version": "1.5.0",
            "_model_name": "DescriptionStyleModel",
            "_view_count": null,
            "_view_module": "@jupyter-widgets/base",
            "_view_module_version": "1.2.0",
            "_view_name": "StyleView",
            "description_width": ""
          }
        },
        "98d9ad5714fc496ca98e4881b7043756": {
          "model_module": "@jupyter-widgets/base",
          "model_name": "LayoutModel",
          "model_module_version": "1.2.0",
          "state": {
            "_model_module": "@jupyter-widgets/base",
            "_model_module_version": "1.2.0",
            "_model_name": "LayoutModel",
            "_view_count": null,
            "_view_module": "@jupyter-widgets/base",
            "_view_module_version": "1.2.0",
            "_view_name": "LayoutView",
            "align_content": null,
            "align_items": null,
            "align_self": null,
            "border": null,
            "bottom": null,
            "display": null,
            "flex": null,
            "flex_flow": null,
            "grid_area": null,
            "grid_auto_columns": null,
            "grid_auto_flow": null,
            "grid_auto_rows": null,
            "grid_column": null,
            "grid_gap": null,
            "grid_row": null,
            "grid_template_areas": null,
            "grid_template_columns": null,
            "grid_template_rows": null,
            "height": null,
            "justify_content": null,
            "justify_items": null,
            "left": null,
            "margin": null,
            "max_height": null,
            "max_width": null,
            "min_height": null,
            "min_width": null,
            "object_fit": null,
            "object_position": null,
            "order": null,
            "overflow": null,
            "overflow_x": null,
            "overflow_y": null,
            "padding": null,
            "right": null,
            "top": null,
            "visibility": null,
            "width": null
          }
        },
        "5e998dbf4a8942b5873fdb16c808c764": {
          "model_module": "@jupyter-widgets/controls",
          "model_name": "ProgressStyleModel",
          "model_module_version": "1.5.0",
          "state": {
            "_model_module": "@jupyter-widgets/controls",
            "_model_module_version": "1.5.0",
            "_model_name": "ProgressStyleModel",
            "_view_count": null,
            "_view_module": "@jupyter-widgets/base",
            "_view_module_version": "1.2.0",
            "_view_name": "StyleView",
            "bar_color": null,
            "description_width": ""
          }
        },
        "9cbb3371e8e2428088e3e08f1d0902bd": {
          "model_module": "@jupyter-widgets/controls",
          "model_name": "VBoxModel",
          "model_module_version": "1.5.0",
          "state": {
            "_dom_classes": [],
            "_model_module": "@jupyter-widgets/controls",
            "_model_module_version": "1.5.0",
            "_model_name": "VBoxModel",
            "_view_count": null,
            "_view_module": "@jupyter-widgets/controls",
            "_view_module_version": "1.5.0",
            "_view_name": "VBoxView",
            "box_style": "",
            "children": [
              "IPY_MODEL_bd51b7e607ae4d00b5bce83bb317341e",
              "IPY_MODEL_1d973d70397341799853832e280238b9"
            ],
            "layout": "IPY_MODEL_263f5223eb6b45b585e948759852c92d"
          }
        },
        "bd51b7e607ae4d00b5bce83bb317341e": {
          "model_module": "@jupyter-widgets/controls",
          "model_name": "LabelModel",
          "model_module_version": "1.5.0",
          "state": {
            "_dom_classes": [],
            "_model_module": "@jupyter-widgets/controls",
            "_model_module_version": "1.5.0",
            "_model_name": "LabelModel",
            "_view_count": null,
            "_view_module": "@jupyter-widgets/controls",
            "_view_module_version": "1.5.0",
            "_view_name": "LabelView",
            "description": "",
            "description_tooltip": null,
            "layout": "IPY_MODEL_b0660661fea24127983d9bfa9cc1d49d",
            "placeholder": "​",
            "style": "IPY_MODEL_1330c48349f246158c79db419700cff2",
            "value": "0.012 MB of 0.012 MB uploaded\r"
          }
        },
        "1d973d70397341799853832e280238b9": {
          "model_module": "@jupyter-widgets/controls",
          "model_name": "FloatProgressModel",
          "model_module_version": "1.5.0",
          "state": {
            "_dom_classes": [],
            "_model_module": "@jupyter-widgets/controls",
            "_model_module_version": "1.5.0",
            "_model_name": "FloatProgressModel",
            "_view_count": null,
            "_view_module": "@jupyter-widgets/controls",
            "_view_module_version": "1.5.0",
            "_view_name": "ProgressView",
            "bar_style": "",
            "description": "",
            "description_tooltip": null,
            "layout": "IPY_MODEL_30c37876894445bab386daccc5799569",
            "max": 1,
            "min": 0,
            "orientation": "horizontal",
            "style": "IPY_MODEL_27db265ee9524942b06d9f0a71e52332",
            "value": 1
          }
        },
        "263f5223eb6b45b585e948759852c92d": {
          "model_module": "@jupyter-widgets/base",
          "model_name": "LayoutModel",
          "model_module_version": "1.2.0",
          "state": {
            "_model_module": "@jupyter-widgets/base",
            "_model_module_version": "1.2.0",
            "_model_name": "LayoutModel",
            "_view_count": null,
            "_view_module": "@jupyter-widgets/base",
            "_view_module_version": "1.2.0",
            "_view_name": "LayoutView",
            "align_content": null,
            "align_items": null,
            "align_self": null,
            "border": null,
            "bottom": null,
            "display": null,
            "flex": null,
            "flex_flow": null,
            "grid_area": null,
            "grid_auto_columns": null,
            "grid_auto_flow": null,
            "grid_auto_rows": null,
            "grid_column": null,
            "grid_gap": null,
            "grid_row": null,
            "grid_template_areas": null,
            "grid_template_columns": null,
            "grid_template_rows": null,
            "height": null,
            "justify_content": null,
            "justify_items": null,
            "left": null,
            "margin": null,
            "max_height": null,
            "max_width": null,
            "min_height": null,
            "min_width": null,
            "object_fit": null,
            "object_position": null,
            "order": null,
            "overflow": null,
            "overflow_x": null,
            "overflow_y": null,
            "padding": null,
            "right": null,
            "top": null,
            "visibility": null,
            "width": null
          }
        },
        "b0660661fea24127983d9bfa9cc1d49d": {
          "model_module": "@jupyter-widgets/base",
          "model_name": "LayoutModel",
          "model_module_version": "1.2.0",
          "state": {
            "_model_module": "@jupyter-widgets/base",
            "_model_module_version": "1.2.0",
            "_model_name": "LayoutModel",
            "_view_count": null,
            "_view_module": "@jupyter-widgets/base",
            "_view_module_version": "1.2.0",
            "_view_name": "LayoutView",
            "align_content": null,
            "align_items": null,
            "align_self": null,
            "border": null,
            "bottom": null,
            "display": null,
            "flex": null,
            "flex_flow": null,
            "grid_area": null,
            "grid_auto_columns": null,
            "grid_auto_flow": null,
            "grid_auto_rows": null,
            "grid_column": null,
            "grid_gap": null,
            "grid_row": null,
            "grid_template_areas": null,
            "grid_template_columns": null,
            "grid_template_rows": null,
            "height": null,
            "justify_content": null,
            "justify_items": null,
            "left": null,
            "margin": null,
            "max_height": null,
            "max_width": null,
            "min_height": null,
            "min_width": null,
            "object_fit": null,
            "object_position": null,
            "order": null,
            "overflow": null,
            "overflow_x": null,
            "overflow_y": null,
            "padding": null,
            "right": null,
            "top": null,
            "visibility": null,
            "width": null
          }
        },
        "1330c48349f246158c79db419700cff2": {
          "model_module": "@jupyter-widgets/controls",
          "model_name": "DescriptionStyleModel",
          "model_module_version": "1.5.0",
          "state": {
            "_model_module": "@jupyter-widgets/controls",
            "_model_module_version": "1.5.0",
            "_model_name": "DescriptionStyleModel",
            "_view_count": null,
            "_view_module": "@jupyter-widgets/base",
            "_view_module_version": "1.2.0",
            "_view_name": "StyleView",
            "description_width": ""
          }
        },
        "30c37876894445bab386daccc5799569": {
          "model_module": "@jupyter-widgets/base",
          "model_name": "LayoutModel",
          "model_module_version": "1.2.0",
          "state": {
            "_model_module": "@jupyter-widgets/base",
            "_model_module_version": "1.2.0",
            "_model_name": "LayoutModel",
            "_view_count": null,
            "_view_module": "@jupyter-widgets/base",
            "_view_module_version": "1.2.0",
            "_view_name": "LayoutView",
            "align_content": null,
            "align_items": null,
            "align_self": null,
            "border": null,
            "bottom": null,
            "display": null,
            "flex": null,
            "flex_flow": null,
            "grid_area": null,
            "grid_auto_columns": null,
            "grid_auto_flow": null,
            "grid_auto_rows": null,
            "grid_column": null,
            "grid_gap": null,
            "grid_row": null,
            "grid_template_areas": null,
            "grid_template_columns": null,
            "grid_template_rows": null,
            "height": null,
            "justify_content": null,
            "justify_items": null,
            "left": null,
            "margin": null,
            "max_height": null,
            "max_width": null,
            "min_height": null,
            "min_width": null,
            "object_fit": null,
            "object_position": null,
            "order": null,
            "overflow": null,
            "overflow_x": null,
            "overflow_y": null,
            "padding": null,
            "right": null,
            "top": null,
            "visibility": null,
            "width": null
          }
        },
        "27db265ee9524942b06d9f0a71e52332": {
          "model_module": "@jupyter-widgets/controls",
          "model_name": "ProgressStyleModel",
          "model_module_version": "1.5.0",
          "state": {
            "_model_module": "@jupyter-widgets/controls",
            "_model_module_version": "1.5.0",
            "_model_name": "ProgressStyleModel",
            "_view_count": null,
            "_view_module": "@jupyter-widgets/base",
            "_view_module_version": "1.2.0",
            "_view_name": "StyleView",
            "bar_color": null,
            "description_width": ""
          }
        },
        "57fd37a37b294a0fb22243cfb7adf757": {
          "model_module": "@jupyter-widgets/controls",
          "model_name": "VBoxModel",
          "model_module_version": "1.5.0",
          "state": {
            "_dom_classes": [],
            "_model_module": "@jupyter-widgets/controls",
            "_model_module_version": "1.5.0",
            "_model_name": "VBoxModel",
            "_view_count": null,
            "_view_module": "@jupyter-widgets/controls",
            "_view_module_version": "1.5.0",
            "_view_name": "VBoxView",
            "box_style": "",
            "children": [
              "IPY_MODEL_4fcb5743388d47169e66e1aa9f0d95b3",
              "IPY_MODEL_b847168174614dad9a55b5a0494d7bdd"
            ],
            "layout": "IPY_MODEL_ac45a5deee9a4fd9bb994d1d8aac5d68"
          }
        },
        "4fcb5743388d47169e66e1aa9f0d95b3": {
          "model_module": "@jupyter-widgets/controls",
          "model_name": "LabelModel",
          "model_module_version": "1.5.0",
          "state": {
            "_dom_classes": [],
            "_model_module": "@jupyter-widgets/controls",
            "_model_module_version": "1.5.0",
            "_model_name": "LabelModel",
            "_view_count": null,
            "_view_module": "@jupyter-widgets/controls",
            "_view_module_version": "1.5.0",
            "_view_name": "LabelView",
            "description": "",
            "description_tooltip": null,
            "layout": "IPY_MODEL_6e947abcb8494eee801f9e1e845ea9b5",
            "placeholder": "​",
            "style": "IPY_MODEL_678bed1461474ade8ae86bc32113040b",
            "value": "0.012 MB of 0.012 MB uploaded\r"
          }
        },
        "b847168174614dad9a55b5a0494d7bdd": {
          "model_module": "@jupyter-widgets/controls",
          "model_name": "FloatProgressModel",
          "model_module_version": "1.5.0",
          "state": {
            "_dom_classes": [],
            "_model_module": "@jupyter-widgets/controls",
            "_model_module_version": "1.5.0",
            "_model_name": "FloatProgressModel",
            "_view_count": null,
            "_view_module": "@jupyter-widgets/controls",
            "_view_module_version": "1.5.0",
            "_view_name": "ProgressView",
            "bar_style": "",
            "description": "",
            "description_tooltip": null,
            "layout": "IPY_MODEL_b0a0ccc5867f49a19ec9c3187b22ec5e",
            "max": 1,
            "min": 0,
            "orientation": "horizontal",
            "style": "IPY_MODEL_7564b56729f04b37b6e3a389cb0bcffd",
            "value": 1
          }
        },
        "ac45a5deee9a4fd9bb994d1d8aac5d68": {
          "model_module": "@jupyter-widgets/base",
          "model_name": "LayoutModel",
          "model_module_version": "1.2.0",
          "state": {
            "_model_module": "@jupyter-widgets/base",
            "_model_module_version": "1.2.0",
            "_model_name": "LayoutModel",
            "_view_count": null,
            "_view_module": "@jupyter-widgets/base",
            "_view_module_version": "1.2.0",
            "_view_name": "LayoutView",
            "align_content": null,
            "align_items": null,
            "align_self": null,
            "border": null,
            "bottom": null,
            "display": null,
            "flex": null,
            "flex_flow": null,
            "grid_area": null,
            "grid_auto_columns": null,
            "grid_auto_flow": null,
            "grid_auto_rows": null,
            "grid_column": null,
            "grid_gap": null,
            "grid_row": null,
            "grid_template_areas": null,
            "grid_template_columns": null,
            "grid_template_rows": null,
            "height": null,
            "justify_content": null,
            "justify_items": null,
            "left": null,
            "margin": null,
            "max_height": null,
            "max_width": null,
            "min_height": null,
            "min_width": null,
            "object_fit": null,
            "object_position": null,
            "order": null,
            "overflow": null,
            "overflow_x": null,
            "overflow_y": null,
            "padding": null,
            "right": null,
            "top": null,
            "visibility": null,
            "width": null
          }
        },
        "6e947abcb8494eee801f9e1e845ea9b5": {
          "model_module": "@jupyter-widgets/base",
          "model_name": "LayoutModel",
          "model_module_version": "1.2.0",
          "state": {
            "_model_module": "@jupyter-widgets/base",
            "_model_module_version": "1.2.0",
            "_model_name": "LayoutModel",
            "_view_count": null,
            "_view_module": "@jupyter-widgets/base",
            "_view_module_version": "1.2.0",
            "_view_name": "LayoutView",
            "align_content": null,
            "align_items": null,
            "align_self": null,
            "border": null,
            "bottom": null,
            "display": null,
            "flex": null,
            "flex_flow": null,
            "grid_area": null,
            "grid_auto_columns": null,
            "grid_auto_flow": null,
            "grid_auto_rows": null,
            "grid_column": null,
            "grid_gap": null,
            "grid_row": null,
            "grid_template_areas": null,
            "grid_template_columns": null,
            "grid_template_rows": null,
            "height": null,
            "justify_content": null,
            "justify_items": null,
            "left": null,
            "margin": null,
            "max_height": null,
            "max_width": null,
            "min_height": null,
            "min_width": null,
            "object_fit": null,
            "object_position": null,
            "order": null,
            "overflow": null,
            "overflow_x": null,
            "overflow_y": null,
            "padding": null,
            "right": null,
            "top": null,
            "visibility": null,
            "width": null
          }
        },
        "678bed1461474ade8ae86bc32113040b": {
          "model_module": "@jupyter-widgets/controls",
          "model_name": "DescriptionStyleModel",
          "model_module_version": "1.5.0",
          "state": {
            "_model_module": "@jupyter-widgets/controls",
            "_model_module_version": "1.5.0",
            "_model_name": "DescriptionStyleModel",
            "_view_count": null,
            "_view_module": "@jupyter-widgets/base",
            "_view_module_version": "1.2.0",
            "_view_name": "StyleView",
            "description_width": ""
          }
        },
        "b0a0ccc5867f49a19ec9c3187b22ec5e": {
          "model_module": "@jupyter-widgets/base",
          "model_name": "LayoutModel",
          "model_module_version": "1.2.0",
          "state": {
            "_model_module": "@jupyter-widgets/base",
            "_model_module_version": "1.2.0",
            "_model_name": "LayoutModel",
            "_view_count": null,
            "_view_module": "@jupyter-widgets/base",
            "_view_module_version": "1.2.0",
            "_view_name": "LayoutView",
            "align_content": null,
            "align_items": null,
            "align_self": null,
            "border": null,
            "bottom": null,
            "display": null,
            "flex": null,
            "flex_flow": null,
            "grid_area": null,
            "grid_auto_columns": null,
            "grid_auto_flow": null,
            "grid_auto_rows": null,
            "grid_column": null,
            "grid_gap": null,
            "grid_row": null,
            "grid_template_areas": null,
            "grid_template_columns": null,
            "grid_template_rows": null,
            "height": null,
            "justify_content": null,
            "justify_items": null,
            "left": null,
            "margin": null,
            "max_height": null,
            "max_width": null,
            "min_height": null,
            "min_width": null,
            "object_fit": null,
            "object_position": null,
            "order": null,
            "overflow": null,
            "overflow_x": null,
            "overflow_y": null,
            "padding": null,
            "right": null,
            "top": null,
            "visibility": null,
            "width": null
          }
        },
        "7564b56729f04b37b6e3a389cb0bcffd": {
          "model_module": "@jupyter-widgets/controls",
          "model_name": "ProgressStyleModel",
          "model_module_version": "1.5.0",
          "state": {
            "_model_module": "@jupyter-widgets/controls",
            "_model_module_version": "1.5.0",
            "_model_name": "ProgressStyleModel",
            "_view_count": null,
            "_view_module": "@jupyter-widgets/base",
            "_view_module_version": "1.2.0",
            "_view_name": "StyleView",
            "bar_color": null,
            "description_width": ""
          }
        },
        "1ebe3af84d1545b4b50af4f16e0c628a": {
          "model_module": "@jupyter-widgets/controls",
          "model_name": "VBoxModel",
          "model_module_version": "1.5.0",
          "state": {
            "_dom_classes": [],
            "_model_module": "@jupyter-widgets/controls",
            "_model_module_version": "1.5.0",
            "_model_name": "VBoxModel",
            "_view_count": null,
            "_view_module": "@jupyter-widgets/controls",
            "_view_module_version": "1.5.0",
            "_view_name": "VBoxView",
            "box_style": "",
            "children": [
              "IPY_MODEL_c2576a6bd02148ad8f09296d5cb017a0",
              "IPY_MODEL_f91fce8e79324ee1a045fd8e9c334241"
            ],
            "layout": "IPY_MODEL_cb4946abea4c44c2b0de47c51425c1a9"
          }
        },
        "c2576a6bd02148ad8f09296d5cb017a0": {
          "model_module": "@jupyter-widgets/controls",
          "model_name": "LabelModel",
          "model_module_version": "1.5.0",
          "state": {
            "_dom_classes": [],
            "_model_module": "@jupyter-widgets/controls",
            "_model_module_version": "1.5.0",
            "_model_name": "LabelModel",
            "_view_count": null,
            "_view_module": "@jupyter-widgets/controls",
            "_view_module_version": "1.5.0",
            "_view_name": "LabelView",
            "description": "",
            "description_tooltip": null,
            "layout": "IPY_MODEL_9bef80fabc344e1991d2e3681e57e25f",
            "placeholder": "​",
            "style": "IPY_MODEL_9fa8ec77785040b985e8ebde4aaecfee",
            "value": "0.012 MB of 0.012 MB uploaded\r"
          }
        },
        "f91fce8e79324ee1a045fd8e9c334241": {
          "model_module": "@jupyter-widgets/controls",
          "model_name": "FloatProgressModel",
          "model_module_version": "1.5.0",
          "state": {
            "_dom_classes": [],
            "_model_module": "@jupyter-widgets/controls",
            "_model_module_version": "1.5.0",
            "_model_name": "FloatProgressModel",
            "_view_count": null,
            "_view_module": "@jupyter-widgets/controls",
            "_view_module_version": "1.5.0",
            "_view_name": "ProgressView",
            "bar_style": "",
            "description": "",
            "description_tooltip": null,
            "layout": "IPY_MODEL_5e65754826604a5b847d94164c42199a",
            "max": 1,
            "min": 0,
            "orientation": "horizontal",
            "style": "IPY_MODEL_5cd1b27509a244b08011c53f96482a17",
            "value": 1
          }
        },
        "cb4946abea4c44c2b0de47c51425c1a9": {
          "model_module": "@jupyter-widgets/base",
          "model_name": "LayoutModel",
          "model_module_version": "1.2.0",
          "state": {
            "_model_module": "@jupyter-widgets/base",
            "_model_module_version": "1.2.0",
            "_model_name": "LayoutModel",
            "_view_count": null,
            "_view_module": "@jupyter-widgets/base",
            "_view_module_version": "1.2.0",
            "_view_name": "LayoutView",
            "align_content": null,
            "align_items": null,
            "align_self": null,
            "border": null,
            "bottom": null,
            "display": null,
            "flex": null,
            "flex_flow": null,
            "grid_area": null,
            "grid_auto_columns": null,
            "grid_auto_flow": null,
            "grid_auto_rows": null,
            "grid_column": null,
            "grid_gap": null,
            "grid_row": null,
            "grid_template_areas": null,
            "grid_template_columns": null,
            "grid_template_rows": null,
            "height": null,
            "justify_content": null,
            "justify_items": null,
            "left": null,
            "margin": null,
            "max_height": null,
            "max_width": null,
            "min_height": null,
            "min_width": null,
            "object_fit": null,
            "object_position": null,
            "order": null,
            "overflow": null,
            "overflow_x": null,
            "overflow_y": null,
            "padding": null,
            "right": null,
            "top": null,
            "visibility": null,
            "width": null
          }
        },
        "9bef80fabc344e1991d2e3681e57e25f": {
          "model_module": "@jupyter-widgets/base",
          "model_name": "LayoutModel",
          "model_module_version": "1.2.0",
          "state": {
            "_model_module": "@jupyter-widgets/base",
            "_model_module_version": "1.2.0",
            "_model_name": "LayoutModel",
            "_view_count": null,
            "_view_module": "@jupyter-widgets/base",
            "_view_module_version": "1.2.0",
            "_view_name": "LayoutView",
            "align_content": null,
            "align_items": null,
            "align_self": null,
            "border": null,
            "bottom": null,
            "display": null,
            "flex": null,
            "flex_flow": null,
            "grid_area": null,
            "grid_auto_columns": null,
            "grid_auto_flow": null,
            "grid_auto_rows": null,
            "grid_column": null,
            "grid_gap": null,
            "grid_row": null,
            "grid_template_areas": null,
            "grid_template_columns": null,
            "grid_template_rows": null,
            "height": null,
            "justify_content": null,
            "justify_items": null,
            "left": null,
            "margin": null,
            "max_height": null,
            "max_width": null,
            "min_height": null,
            "min_width": null,
            "object_fit": null,
            "object_position": null,
            "order": null,
            "overflow": null,
            "overflow_x": null,
            "overflow_y": null,
            "padding": null,
            "right": null,
            "top": null,
            "visibility": null,
            "width": null
          }
        },
        "9fa8ec77785040b985e8ebde4aaecfee": {
          "model_module": "@jupyter-widgets/controls",
          "model_name": "DescriptionStyleModel",
          "model_module_version": "1.5.0",
          "state": {
            "_model_module": "@jupyter-widgets/controls",
            "_model_module_version": "1.5.0",
            "_model_name": "DescriptionStyleModel",
            "_view_count": null,
            "_view_module": "@jupyter-widgets/base",
            "_view_module_version": "1.2.0",
            "_view_name": "StyleView",
            "description_width": ""
          }
        },
        "5e65754826604a5b847d94164c42199a": {
          "model_module": "@jupyter-widgets/base",
          "model_name": "LayoutModel",
          "model_module_version": "1.2.0",
          "state": {
            "_model_module": "@jupyter-widgets/base",
            "_model_module_version": "1.2.0",
            "_model_name": "LayoutModel",
            "_view_count": null,
            "_view_module": "@jupyter-widgets/base",
            "_view_module_version": "1.2.0",
            "_view_name": "LayoutView",
            "align_content": null,
            "align_items": null,
            "align_self": null,
            "border": null,
            "bottom": null,
            "display": null,
            "flex": null,
            "flex_flow": null,
            "grid_area": null,
            "grid_auto_columns": null,
            "grid_auto_flow": null,
            "grid_auto_rows": null,
            "grid_column": null,
            "grid_gap": null,
            "grid_row": null,
            "grid_template_areas": null,
            "grid_template_columns": null,
            "grid_template_rows": null,
            "height": null,
            "justify_content": null,
            "justify_items": null,
            "left": null,
            "margin": null,
            "max_height": null,
            "max_width": null,
            "min_height": null,
            "min_width": null,
            "object_fit": null,
            "object_position": null,
            "order": null,
            "overflow": null,
            "overflow_x": null,
            "overflow_y": null,
            "padding": null,
            "right": null,
            "top": null,
            "visibility": null,
            "width": null
          }
        },
        "5cd1b27509a244b08011c53f96482a17": {
          "model_module": "@jupyter-widgets/controls",
          "model_name": "ProgressStyleModel",
          "model_module_version": "1.5.0",
          "state": {
            "_model_module": "@jupyter-widgets/controls",
            "_model_module_version": "1.5.0",
            "_model_name": "ProgressStyleModel",
            "_view_count": null,
            "_view_module": "@jupyter-widgets/base",
            "_view_module_version": "1.2.0",
            "_view_name": "StyleView",
            "bar_color": null,
            "description_width": ""
          }
        },
        "e2a12b04d1404fb89f7733808df97104": {
          "model_module": "@jupyter-widgets/controls",
          "model_name": "VBoxModel",
          "model_module_version": "1.5.0",
          "state": {
            "_dom_classes": [],
            "_model_module": "@jupyter-widgets/controls",
            "_model_module_version": "1.5.0",
            "_model_name": "VBoxModel",
            "_view_count": null,
            "_view_module": "@jupyter-widgets/controls",
            "_view_module_version": "1.5.0",
            "_view_name": "VBoxView",
            "box_style": "",
            "children": [
              "IPY_MODEL_133e6721f1bd48f88217a56029d44be7",
              "IPY_MODEL_d783636bbffd4cd288de772d5d858575"
            ],
            "layout": "IPY_MODEL_6dab117ef4b145ddadf4adec3d8c7e7c"
          }
        },
        "133e6721f1bd48f88217a56029d44be7": {
          "model_module": "@jupyter-widgets/controls",
          "model_name": "LabelModel",
          "model_module_version": "1.5.0",
          "state": {
            "_dom_classes": [],
            "_model_module": "@jupyter-widgets/controls",
            "_model_module_version": "1.5.0",
            "_model_name": "LabelModel",
            "_view_count": null,
            "_view_module": "@jupyter-widgets/controls",
            "_view_module_version": "1.5.0",
            "_view_name": "LabelView",
            "description": "",
            "description_tooltip": null,
            "layout": "IPY_MODEL_07c41b6adbb04dba9b6eefbf25fb14ab",
            "placeholder": "​",
            "style": "IPY_MODEL_7f96ba4cab0941949fa398395cc8a55b",
            "value": "0.012 MB of 0.012 MB uploaded\r"
          }
        },
        "d783636bbffd4cd288de772d5d858575": {
          "model_module": "@jupyter-widgets/controls",
          "model_name": "FloatProgressModel",
          "model_module_version": "1.5.0",
          "state": {
            "_dom_classes": [],
            "_model_module": "@jupyter-widgets/controls",
            "_model_module_version": "1.5.0",
            "_model_name": "FloatProgressModel",
            "_view_count": null,
            "_view_module": "@jupyter-widgets/controls",
            "_view_module_version": "1.5.0",
            "_view_name": "ProgressView",
            "bar_style": "",
            "description": "",
            "description_tooltip": null,
            "layout": "IPY_MODEL_af2cac7578144e1992fc24024e5942a3",
            "max": 1,
            "min": 0,
            "orientation": "horizontal",
            "style": "IPY_MODEL_fec820f10bec4f08838589fc0aac6420",
            "value": 1
          }
        },
        "6dab117ef4b145ddadf4adec3d8c7e7c": {
          "model_module": "@jupyter-widgets/base",
          "model_name": "LayoutModel",
          "model_module_version": "1.2.0",
          "state": {
            "_model_module": "@jupyter-widgets/base",
            "_model_module_version": "1.2.0",
            "_model_name": "LayoutModel",
            "_view_count": null,
            "_view_module": "@jupyter-widgets/base",
            "_view_module_version": "1.2.0",
            "_view_name": "LayoutView",
            "align_content": null,
            "align_items": null,
            "align_self": null,
            "border": null,
            "bottom": null,
            "display": null,
            "flex": null,
            "flex_flow": null,
            "grid_area": null,
            "grid_auto_columns": null,
            "grid_auto_flow": null,
            "grid_auto_rows": null,
            "grid_column": null,
            "grid_gap": null,
            "grid_row": null,
            "grid_template_areas": null,
            "grid_template_columns": null,
            "grid_template_rows": null,
            "height": null,
            "justify_content": null,
            "justify_items": null,
            "left": null,
            "margin": null,
            "max_height": null,
            "max_width": null,
            "min_height": null,
            "min_width": null,
            "object_fit": null,
            "object_position": null,
            "order": null,
            "overflow": null,
            "overflow_x": null,
            "overflow_y": null,
            "padding": null,
            "right": null,
            "top": null,
            "visibility": null,
            "width": null
          }
        },
        "07c41b6adbb04dba9b6eefbf25fb14ab": {
          "model_module": "@jupyter-widgets/base",
          "model_name": "LayoutModel",
          "model_module_version": "1.2.0",
          "state": {
            "_model_module": "@jupyter-widgets/base",
            "_model_module_version": "1.2.0",
            "_model_name": "LayoutModel",
            "_view_count": null,
            "_view_module": "@jupyter-widgets/base",
            "_view_module_version": "1.2.0",
            "_view_name": "LayoutView",
            "align_content": null,
            "align_items": null,
            "align_self": null,
            "border": null,
            "bottom": null,
            "display": null,
            "flex": null,
            "flex_flow": null,
            "grid_area": null,
            "grid_auto_columns": null,
            "grid_auto_flow": null,
            "grid_auto_rows": null,
            "grid_column": null,
            "grid_gap": null,
            "grid_row": null,
            "grid_template_areas": null,
            "grid_template_columns": null,
            "grid_template_rows": null,
            "height": null,
            "justify_content": null,
            "justify_items": null,
            "left": null,
            "margin": null,
            "max_height": null,
            "max_width": null,
            "min_height": null,
            "min_width": null,
            "object_fit": null,
            "object_position": null,
            "order": null,
            "overflow": null,
            "overflow_x": null,
            "overflow_y": null,
            "padding": null,
            "right": null,
            "top": null,
            "visibility": null,
            "width": null
          }
        },
        "7f96ba4cab0941949fa398395cc8a55b": {
          "model_module": "@jupyter-widgets/controls",
          "model_name": "DescriptionStyleModel",
          "model_module_version": "1.5.0",
          "state": {
            "_model_module": "@jupyter-widgets/controls",
            "_model_module_version": "1.5.0",
            "_model_name": "DescriptionStyleModel",
            "_view_count": null,
            "_view_module": "@jupyter-widgets/base",
            "_view_module_version": "1.2.0",
            "_view_name": "StyleView",
            "description_width": ""
          }
        },
        "af2cac7578144e1992fc24024e5942a3": {
          "model_module": "@jupyter-widgets/base",
          "model_name": "LayoutModel",
          "model_module_version": "1.2.0",
          "state": {
            "_model_module": "@jupyter-widgets/base",
            "_model_module_version": "1.2.0",
            "_model_name": "LayoutModel",
            "_view_count": null,
            "_view_module": "@jupyter-widgets/base",
            "_view_module_version": "1.2.0",
            "_view_name": "LayoutView",
            "align_content": null,
            "align_items": null,
            "align_self": null,
            "border": null,
            "bottom": null,
            "display": null,
            "flex": null,
            "flex_flow": null,
            "grid_area": null,
            "grid_auto_columns": null,
            "grid_auto_flow": null,
            "grid_auto_rows": null,
            "grid_column": null,
            "grid_gap": null,
            "grid_row": null,
            "grid_template_areas": null,
            "grid_template_columns": null,
            "grid_template_rows": null,
            "height": null,
            "justify_content": null,
            "justify_items": null,
            "left": null,
            "margin": null,
            "max_height": null,
            "max_width": null,
            "min_height": null,
            "min_width": null,
            "object_fit": null,
            "object_position": null,
            "order": null,
            "overflow": null,
            "overflow_x": null,
            "overflow_y": null,
            "padding": null,
            "right": null,
            "top": null,
            "visibility": null,
            "width": null
          }
        },
        "fec820f10bec4f08838589fc0aac6420": {
          "model_module": "@jupyter-widgets/controls",
          "model_name": "ProgressStyleModel",
          "model_module_version": "1.5.0",
          "state": {
            "_model_module": "@jupyter-widgets/controls",
            "_model_module_version": "1.5.0",
            "_model_name": "ProgressStyleModel",
            "_view_count": null,
            "_view_module": "@jupyter-widgets/base",
            "_view_module_version": "1.2.0",
            "_view_name": "StyleView",
            "bar_color": null,
            "description_width": ""
          }
        },
        "12d77b9137fd4b5a99bd5e421f6f4a92": {
          "model_module": "@jupyter-widgets/controls",
          "model_name": "VBoxModel",
          "model_module_version": "1.5.0",
          "state": {
            "_dom_classes": [],
            "_model_module": "@jupyter-widgets/controls",
            "_model_module_version": "1.5.0",
            "_model_name": "VBoxModel",
            "_view_count": null,
            "_view_module": "@jupyter-widgets/controls",
            "_view_module_version": "1.5.0",
            "_view_name": "VBoxView",
            "box_style": "",
            "children": [
              "IPY_MODEL_46932d83ca4e46b2b186144cc8c42798",
              "IPY_MODEL_ae1a2c08bbcb4d2d9788ebd7d2b77bc5"
            ],
            "layout": "IPY_MODEL_40627891e1554c869fae13ee8a58f17b"
          }
        },
        "46932d83ca4e46b2b186144cc8c42798": {
          "model_module": "@jupyter-widgets/controls",
          "model_name": "LabelModel",
          "model_module_version": "1.5.0",
          "state": {
            "_dom_classes": [],
            "_model_module": "@jupyter-widgets/controls",
            "_model_module_version": "1.5.0",
            "_model_name": "LabelModel",
            "_view_count": null,
            "_view_module": "@jupyter-widgets/controls",
            "_view_module_version": "1.5.0",
            "_view_name": "LabelView",
            "description": "",
            "description_tooltip": null,
            "layout": "IPY_MODEL_40668e4ea3934e72aac61a92c6c5aedf",
            "placeholder": "​",
            "style": "IPY_MODEL_b5fff029c36a462f862e498562639f3f",
            "value": "0.012 MB of 0.012 MB uploaded\r"
          }
        },
        "ae1a2c08bbcb4d2d9788ebd7d2b77bc5": {
          "model_module": "@jupyter-widgets/controls",
          "model_name": "FloatProgressModel",
          "model_module_version": "1.5.0",
          "state": {
            "_dom_classes": [],
            "_model_module": "@jupyter-widgets/controls",
            "_model_module_version": "1.5.0",
            "_model_name": "FloatProgressModel",
            "_view_count": null,
            "_view_module": "@jupyter-widgets/controls",
            "_view_module_version": "1.5.0",
            "_view_name": "ProgressView",
            "bar_style": "",
            "description": "",
            "description_tooltip": null,
            "layout": "IPY_MODEL_881f4052b3dc44ceb909ee8c2e80723e",
            "max": 1,
            "min": 0,
            "orientation": "horizontal",
            "style": "IPY_MODEL_993c358df1d244beb621056c3ec269e5",
            "value": 1
          }
        },
        "40627891e1554c869fae13ee8a58f17b": {
          "model_module": "@jupyter-widgets/base",
          "model_name": "LayoutModel",
          "model_module_version": "1.2.0",
          "state": {
            "_model_module": "@jupyter-widgets/base",
            "_model_module_version": "1.2.0",
            "_model_name": "LayoutModel",
            "_view_count": null,
            "_view_module": "@jupyter-widgets/base",
            "_view_module_version": "1.2.0",
            "_view_name": "LayoutView",
            "align_content": null,
            "align_items": null,
            "align_self": null,
            "border": null,
            "bottom": null,
            "display": null,
            "flex": null,
            "flex_flow": null,
            "grid_area": null,
            "grid_auto_columns": null,
            "grid_auto_flow": null,
            "grid_auto_rows": null,
            "grid_column": null,
            "grid_gap": null,
            "grid_row": null,
            "grid_template_areas": null,
            "grid_template_columns": null,
            "grid_template_rows": null,
            "height": null,
            "justify_content": null,
            "justify_items": null,
            "left": null,
            "margin": null,
            "max_height": null,
            "max_width": null,
            "min_height": null,
            "min_width": null,
            "object_fit": null,
            "object_position": null,
            "order": null,
            "overflow": null,
            "overflow_x": null,
            "overflow_y": null,
            "padding": null,
            "right": null,
            "top": null,
            "visibility": null,
            "width": null
          }
        },
        "40668e4ea3934e72aac61a92c6c5aedf": {
          "model_module": "@jupyter-widgets/base",
          "model_name": "LayoutModel",
          "model_module_version": "1.2.0",
          "state": {
            "_model_module": "@jupyter-widgets/base",
            "_model_module_version": "1.2.0",
            "_model_name": "LayoutModel",
            "_view_count": null,
            "_view_module": "@jupyter-widgets/base",
            "_view_module_version": "1.2.0",
            "_view_name": "LayoutView",
            "align_content": null,
            "align_items": null,
            "align_self": null,
            "border": null,
            "bottom": null,
            "display": null,
            "flex": null,
            "flex_flow": null,
            "grid_area": null,
            "grid_auto_columns": null,
            "grid_auto_flow": null,
            "grid_auto_rows": null,
            "grid_column": null,
            "grid_gap": null,
            "grid_row": null,
            "grid_template_areas": null,
            "grid_template_columns": null,
            "grid_template_rows": null,
            "height": null,
            "justify_content": null,
            "justify_items": null,
            "left": null,
            "margin": null,
            "max_height": null,
            "max_width": null,
            "min_height": null,
            "min_width": null,
            "object_fit": null,
            "object_position": null,
            "order": null,
            "overflow": null,
            "overflow_x": null,
            "overflow_y": null,
            "padding": null,
            "right": null,
            "top": null,
            "visibility": null,
            "width": null
          }
        },
        "b5fff029c36a462f862e498562639f3f": {
          "model_module": "@jupyter-widgets/controls",
          "model_name": "DescriptionStyleModel",
          "model_module_version": "1.5.0",
          "state": {
            "_model_module": "@jupyter-widgets/controls",
            "_model_module_version": "1.5.0",
            "_model_name": "DescriptionStyleModel",
            "_view_count": null,
            "_view_module": "@jupyter-widgets/base",
            "_view_module_version": "1.2.0",
            "_view_name": "StyleView",
            "description_width": ""
          }
        },
        "881f4052b3dc44ceb909ee8c2e80723e": {
          "model_module": "@jupyter-widgets/base",
          "model_name": "LayoutModel",
          "model_module_version": "1.2.0",
          "state": {
            "_model_module": "@jupyter-widgets/base",
            "_model_module_version": "1.2.0",
            "_model_name": "LayoutModel",
            "_view_count": null,
            "_view_module": "@jupyter-widgets/base",
            "_view_module_version": "1.2.0",
            "_view_name": "LayoutView",
            "align_content": null,
            "align_items": null,
            "align_self": null,
            "border": null,
            "bottom": null,
            "display": null,
            "flex": null,
            "flex_flow": null,
            "grid_area": null,
            "grid_auto_columns": null,
            "grid_auto_flow": null,
            "grid_auto_rows": null,
            "grid_column": null,
            "grid_gap": null,
            "grid_row": null,
            "grid_template_areas": null,
            "grid_template_columns": null,
            "grid_template_rows": null,
            "height": null,
            "justify_content": null,
            "justify_items": null,
            "left": null,
            "margin": null,
            "max_height": null,
            "max_width": null,
            "min_height": null,
            "min_width": null,
            "object_fit": null,
            "object_position": null,
            "order": null,
            "overflow": null,
            "overflow_x": null,
            "overflow_y": null,
            "padding": null,
            "right": null,
            "top": null,
            "visibility": null,
            "width": null
          }
        },
        "993c358df1d244beb621056c3ec269e5": {
          "model_module": "@jupyter-widgets/controls",
          "model_name": "ProgressStyleModel",
          "model_module_version": "1.5.0",
          "state": {
            "_model_module": "@jupyter-widgets/controls",
            "_model_module_version": "1.5.0",
            "_model_name": "ProgressStyleModel",
            "_view_count": null,
            "_view_module": "@jupyter-widgets/base",
            "_view_module_version": "1.2.0",
            "_view_name": "StyleView",
            "bar_color": null,
            "description_width": ""
          }
        },
        "040be4f3544e48a29c81f07b7ebb84e5": {
          "model_module": "@jupyter-widgets/controls",
          "model_name": "VBoxModel",
          "model_module_version": "1.5.0",
          "state": {
            "_dom_classes": [],
            "_model_module": "@jupyter-widgets/controls",
            "_model_module_version": "1.5.0",
            "_model_name": "VBoxModel",
            "_view_count": null,
            "_view_module": "@jupyter-widgets/controls",
            "_view_module_version": "1.5.0",
            "_view_name": "VBoxView",
            "box_style": "",
            "children": [
              "IPY_MODEL_2b5e3119482e441487ac58f28a52b4e2",
              "IPY_MODEL_a44adcebf83d4bc399f5a71c3f1bbccd"
            ],
            "layout": "IPY_MODEL_42bb19424cec4a2eb1494f366296d93b"
          }
        },
        "2b5e3119482e441487ac58f28a52b4e2": {
          "model_module": "@jupyter-widgets/controls",
          "model_name": "LabelModel",
          "model_module_version": "1.5.0",
          "state": {
            "_dom_classes": [],
            "_model_module": "@jupyter-widgets/controls",
            "_model_module_version": "1.5.0",
            "_model_name": "LabelModel",
            "_view_count": null,
            "_view_module": "@jupyter-widgets/controls",
            "_view_module_version": "1.5.0",
            "_view_name": "LabelView",
            "description": "",
            "description_tooltip": null,
            "layout": "IPY_MODEL_7a1186891d3d493d8d890195c5683640",
            "placeholder": "​",
            "style": "IPY_MODEL_40db6ac7fb4344a686d14a8ef3b5f909",
            "value": "0.012 MB of 0.012 MB uploaded\r"
          }
        },
        "a44adcebf83d4bc399f5a71c3f1bbccd": {
          "model_module": "@jupyter-widgets/controls",
          "model_name": "FloatProgressModel",
          "model_module_version": "1.5.0",
          "state": {
            "_dom_classes": [],
            "_model_module": "@jupyter-widgets/controls",
            "_model_module_version": "1.5.0",
            "_model_name": "FloatProgressModel",
            "_view_count": null,
            "_view_module": "@jupyter-widgets/controls",
            "_view_module_version": "1.5.0",
            "_view_name": "ProgressView",
            "bar_style": "",
            "description": "",
            "description_tooltip": null,
            "layout": "IPY_MODEL_60af22fe9c0c4666b954aa099f8115bc",
            "max": 1,
            "min": 0,
            "orientation": "horizontal",
            "style": "IPY_MODEL_b6a257c8b8fd4a9b8a118d46a330c121",
            "value": 1
          }
        },
        "42bb19424cec4a2eb1494f366296d93b": {
          "model_module": "@jupyter-widgets/base",
          "model_name": "LayoutModel",
          "model_module_version": "1.2.0",
          "state": {
            "_model_module": "@jupyter-widgets/base",
            "_model_module_version": "1.2.0",
            "_model_name": "LayoutModel",
            "_view_count": null,
            "_view_module": "@jupyter-widgets/base",
            "_view_module_version": "1.2.0",
            "_view_name": "LayoutView",
            "align_content": null,
            "align_items": null,
            "align_self": null,
            "border": null,
            "bottom": null,
            "display": null,
            "flex": null,
            "flex_flow": null,
            "grid_area": null,
            "grid_auto_columns": null,
            "grid_auto_flow": null,
            "grid_auto_rows": null,
            "grid_column": null,
            "grid_gap": null,
            "grid_row": null,
            "grid_template_areas": null,
            "grid_template_columns": null,
            "grid_template_rows": null,
            "height": null,
            "justify_content": null,
            "justify_items": null,
            "left": null,
            "margin": null,
            "max_height": null,
            "max_width": null,
            "min_height": null,
            "min_width": null,
            "object_fit": null,
            "object_position": null,
            "order": null,
            "overflow": null,
            "overflow_x": null,
            "overflow_y": null,
            "padding": null,
            "right": null,
            "top": null,
            "visibility": null,
            "width": null
          }
        },
        "7a1186891d3d493d8d890195c5683640": {
          "model_module": "@jupyter-widgets/base",
          "model_name": "LayoutModel",
          "model_module_version": "1.2.0",
          "state": {
            "_model_module": "@jupyter-widgets/base",
            "_model_module_version": "1.2.0",
            "_model_name": "LayoutModel",
            "_view_count": null,
            "_view_module": "@jupyter-widgets/base",
            "_view_module_version": "1.2.0",
            "_view_name": "LayoutView",
            "align_content": null,
            "align_items": null,
            "align_self": null,
            "border": null,
            "bottom": null,
            "display": null,
            "flex": null,
            "flex_flow": null,
            "grid_area": null,
            "grid_auto_columns": null,
            "grid_auto_flow": null,
            "grid_auto_rows": null,
            "grid_column": null,
            "grid_gap": null,
            "grid_row": null,
            "grid_template_areas": null,
            "grid_template_columns": null,
            "grid_template_rows": null,
            "height": null,
            "justify_content": null,
            "justify_items": null,
            "left": null,
            "margin": null,
            "max_height": null,
            "max_width": null,
            "min_height": null,
            "min_width": null,
            "object_fit": null,
            "object_position": null,
            "order": null,
            "overflow": null,
            "overflow_x": null,
            "overflow_y": null,
            "padding": null,
            "right": null,
            "top": null,
            "visibility": null,
            "width": null
          }
        },
        "40db6ac7fb4344a686d14a8ef3b5f909": {
          "model_module": "@jupyter-widgets/controls",
          "model_name": "DescriptionStyleModel",
          "model_module_version": "1.5.0",
          "state": {
            "_model_module": "@jupyter-widgets/controls",
            "_model_module_version": "1.5.0",
            "_model_name": "DescriptionStyleModel",
            "_view_count": null,
            "_view_module": "@jupyter-widgets/base",
            "_view_module_version": "1.2.0",
            "_view_name": "StyleView",
            "description_width": ""
          }
        },
        "60af22fe9c0c4666b954aa099f8115bc": {
          "model_module": "@jupyter-widgets/base",
          "model_name": "LayoutModel",
          "model_module_version": "1.2.0",
          "state": {
            "_model_module": "@jupyter-widgets/base",
            "_model_module_version": "1.2.0",
            "_model_name": "LayoutModel",
            "_view_count": null,
            "_view_module": "@jupyter-widgets/base",
            "_view_module_version": "1.2.0",
            "_view_name": "LayoutView",
            "align_content": null,
            "align_items": null,
            "align_self": null,
            "border": null,
            "bottom": null,
            "display": null,
            "flex": null,
            "flex_flow": null,
            "grid_area": null,
            "grid_auto_columns": null,
            "grid_auto_flow": null,
            "grid_auto_rows": null,
            "grid_column": null,
            "grid_gap": null,
            "grid_row": null,
            "grid_template_areas": null,
            "grid_template_columns": null,
            "grid_template_rows": null,
            "height": null,
            "justify_content": null,
            "justify_items": null,
            "left": null,
            "margin": null,
            "max_height": null,
            "max_width": null,
            "min_height": null,
            "min_width": null,
            "object_fit": null,
            "object_position": null,
            "order": null,
            "overflow": null,
            "overflow_x": null,
            "overflow_y": null,
            "padding": null,
            "right": null,
            "top": null,
            "visibility": null,
            "width": null
          }
        },
        "b6a257c8b8fd4a9b8a118d46a330c121": {
          "model_module": "@jupyter-widgets/controls",
          "model_name": "ProgressStyleModel",
          "model_module_version": "1.5.0",
          "state": {
            "_model_module": "@jupyter-widgets/controls",
            "_model_module_version": "1.5.0",
            "_model_name": "ProgressStyleModel",
            "_view_count": null,
            "_view_module": "@jupyter-widgets/base",
            "_view_module_version": "1.2.0",
            "_view_name": "StyleView",
            "bar_color": null,
            "description_width": ""
          }
        },
        "bc58f8655f434049a8f3b246c6b1f268": {
          "model_module": "@jupyter-widgets/controls",
          "model_name": "VBoxModel",
          "model_module_version": "1.5.0",
          "state": {
            "_dom_classes": [],
            "_model_module": "@jupyter-widgets/controls",
            "_model_module_version": "1.5.0",
            "_model_name": "VBoxModel",
            "_view_count": null,
            "_view_module": "@jupyter-widgets/controls",
            "_view_module_version": "1.5.0",
            "_view_name": "VBoxView",
            "box_style": "",
            "children": [
              "IPY_MODEL_66876ad684744bcf916db4a0378d6375",
              "IPY_MODEL_1babd5d79b0e464cb167a4793e31a66a"
            ],
            "layout": "IPY_MODEL_74f078e294f045a4af1dd4ced09c8e17"
          }
        },
        "66876ad684744bcf916db4a0378d6375": {
          "model_module": "@jupyter-widgets/controls",
          "model_name": "LabelModel",
          "model_module_version": "1.5.0",
          "state": {
            "_dom_classes": [],
            "_model_module": "@jupyter-widgets/controls",
            "_model_module_version": "1.5.0",
            "_model_name": "LabelModel",
            "_view_count": null,
            "_view_module": "@jupyter-widgets/controls",
            "_view_module_version": "1.5.0",
            "_view_name": "LabelView",
            "description": "",
            "description_tooltip": null,
            "layout": "IPY_MODEL_96e61c61a2984322a11564ca0a7905e6",
            "placeholder": "​",
            "style": "IPY_MODEL_04f15e4a52be4bdaaa236f6fa2c6e3a0",
            "value": "0.012 MB of 0.012 MB uploaded\r"
          }
        },
        "1babd5d79b0e464cb167a4793e31a66a": {
          "model_module": "@jupyter-widgets/controls",
          "model_name": "FloatProgressModel",
          "model_module_version": "1.5.0",
          "state": {
            "_dom_classes": [],
            "_model_module": "@jupyter-widgets/controls",
            "_model_module_version": "1.5.0",
            "_model_name": "FloatProgressModel",
            "_view_count": null,
            "_view_module": "@jupyter-widgets/controls",
            "_view_module_version": "1.5.0",
            "_view_name": "ProgressView",
            "bar_style": "",
            "description": "",
            "description_tooltip": null,
            "layout": "IPY_MODEL_9a89410f38c84457af92e6464c01a701",
            "max": 1,
            "min": 0,
            "orientation": "horizontal",
            "style": "IPY_MODEL_a36e26eda80747d29bfeae9423d77b4b",
            "value": 1
          }
        },
        "74f078e294f045a4af1dd4ced09c8e17": {
          "model_module": "@jupyter-widgets/base",
          "model_name": "LayoutModel",
          "model_module_version": "1.2.0",
          "state": {
            "_model_module": "@jupyter-widgets/base",
            "_model_module_version": "1.2.0",
            "_model_name": "LayoutModel",
            "_view_count": null,
            "_view_module": "@jupyter-widgets/base",
            "_view_module_version": "1.2.0",
            "_view_name": "LayoutView",
            "align_content": null,
            "align_items": null,
            "align_self": null,
            "border": null,
            "bottom": null,
            "display": null,
            "flex": null,
            "flex_flow": null,
            "grid_area": null,
            "grid_auto_columns": null,
            "grid_auto_flow": null,
            "grid_auto_rows": null,
            "grid_column": null,
            "grid_gap": null,
            "grid_row": null,
            "grid_template_areas": null,
            "grid_template_columns": null,
            "grid_template_rows": null,
            "height": null,
            "justify_content": null,
            "justify_items": null,
            "left": null,
            "margin": null,
            "max_height": null,
            "max_width": null,
            "min_height": null,
            "min_width": null,
            "object_fit": null,
            "object_position": null,
            "order": null,
            "overflow": null,
            "overflow_x": null,
            "overflow_y": null,
            "padding": null,
            "right": null,
            "top": null,
            "visibility": null,
            "width": null
          }
        },
        "96e61c61a2984322a11564ca0a7905e6": {
          "model_module": "@jupyter-widgets/base",
          "model_name": "LayoutModel",
          "model_module_version": "1.2.0",
          "state": {
            "_model_module": "@jupyter-widgets/base",
            "_model_module_version": "1.2.0",
            "_model_name": "LayoutModel",
            "_view_count": null,
            "_view_module": "@jupyter-widgets/base",
            "_view_module_version": "1.2.0",
            "_view_name": "LayoutView",
            "align_content": null,
            "align_items": null,
            "align_self": null,
            "border": null,
            "bottom": null,
            "display": null,
            "flex": null,
            "flex_flow": null,
            "grid_area": null,
            "grid_auto_columns": null,
            "grid_auto_flow": null,
            "grid_auto_rows": null,
            "grid_column": null,
            "grid_gap": null,
            "grid_row": null,
            "grid_template_areas": null,
            "grid_template_columns": null,
            "grid_template_rows": null,
            "height": null,
            "justify_content": null,
            "justify_items": null,
            "left": null,
            "margin": null,
            "max_height": null,
            "max_width": null,
            "min_height": null,
            "min_width": null,
            "object_fit": null,
            "object_position": null,
            "order": null,
            "overflow": null,
            "overflow_x": null,
            "overflow_y": null,
            "padding": null,
            "right": null,
            "top": null,
            "visibility": null,
            "width": null
          }
        },
        "04f15e4a52be4bdaaa236f6fa2c6e3a0": {
          "model_module": "@jupyter-widgets/controls",
          "model_name": "DescriptionStyleModel",
          "model_module_version": "1.5.0",
          "state": {
            "_model_module": "@jupyter-widgets/controls",
            "_model_module_version": "1.5.0",
            "_model_name": "DescriptionStyleModel",
            "_view_count": null,
            "_view_module": "@jupyter-widgets/base",
            "_view_module_version": "1.2.0",
            "_view_name": "StyleView",
            "description_width": ""
          }
        },
        "9a89410f38c84457af92e6464c01a701": {
          "model_module": "@jupyter-widgets/base",
          "model_name": "LayoutModel",
          "model_module_version": "1.2.0",
          "state": {
            "_model_module": "@jupyter-widgets/base",
            "_model_module_version": "1.2.0",
            "_model_name": "LayoutModel",
            "_view_count": null,
            "_view_module": "@jupyter-widgets/base",
            "_view_module_version": "1.2.0",
            "_view_name": "LayoutView",
            "align_content": null,
            "align_items": null,
            "align_self": null,
            "border": null,
            "bottom": null,
            "display": null,
            "flex": null,
            "flex_flow": null,
            "grid_area": null,
            "grid_auto_columns": null,
            "grid_auto_flow": null,
            "grid_auto_rows": null,
            "grid_column": null,
            "grid_gap": null,
            "grid_row": null,
            "grid_template_areas": null,
            "grid_template_columns": null,
            "grid_template_rows": null,
            "height": null,
            "justify_content": null,
            "justify_items": null,
            "left": null,
            "margin": null,
            "max_height": null,
            "max_width": null,
            "min_height": null,
            "min_width": null,
            "object_fit": null,
            "object_position": null,
            "order": null,
            "overflow": null,
            "overflow_x": null,
            "overflow_y": null,
            "padding": null,
            "right": null,
            "top": null,
            "visibility": null,
            "width": null
          }
        },
        "a36e26eda80747d29bfeae9423d77b4b": {
          "model_module": "@jupyter-widgets/controls",
          "model_name": "ProgressStyleModel",
          "model_module_version": "1.5.0",
          "state": {
            "_model_module": "@jupyter-widgets/controls",
            "_model_module_version": "1.5.0",
            "_model_name": "ProgressStyleModel",
            "_view_count": null,
            "_view_module": "@jupyter-widgets/base",
            "_view_module_version": "1.2.0",
            "_view_name": "StyleView",
            "bar_color": null,
            "description_width": ""
          }
        },
        "5eac90bbf00940f3aee0696c1e2b49c4": {
          "model_module": "@jupyter-widgets/controls",
          "model_name": "VBoxModel",
          "model_module_version": "1.5.0",
          "state": {
            "_dom_classes": [],
            "_model_module": "@jupyter-widgets/controls",
            "_model_module_version": "1.5.0",
            "_model_name": "VBoxModel",
            "_view_count": null,
            "_view_module": "@jupyter-widgets/controls",
            "_view_module_version": "1.5.0",
            "_view_name": "VBoxView",
            "box_style": "",
            "children": [
              "IPY_MODEL_67380a25e78e4b7ab7d01d98dfdef932",
              "IPY_MODEL_0898ddb0a91743a7be1533c4f8bf3346"
            ],
            "layout": "IPY_MODEL_3b58d3d8275b4050ac5e573da56b2af9"
          }
        },
        "67380a25e78e4b7ab7d01d98dfdef932": {
          "model_module": "@jupyter-widgets/controls",
          "model_name": "LabelModel",
          "model_module_version": "1.5.0",
          "state": {
            "_dom_classes": [],
            "_model_module": "@jupyter-widgets/controls",
            "_model_module_version": "1.5.0",
            "_model_name": "LabelModel",
            "_view_count": null,
            "_view_module": "@jupyter-widgets/controls",
            "_view_module_version": "1.5.0",
            "_view_name": "LabelView",
            "description": "",
            "description_tooltip": null,
            "layout": "IPY_MODEL_6cde63f1a1b54c86b88e624de253565f",
            "placeholder": "​",
            "style": "IPY_MODEL_78e4e8ce18b8444f8cb7903ca96398d6",
            "value": "0.012 MB of 0.012 MB uploaded\r"
          }
        },
        "0898ddb0a91743a7be1533c4f8bf3346": {
          "model_module": "@jupyter-widgets/controls",
          "model_name": "FloatProgressModel",
          "model_module_version": "1.5.0",
          "state": {
            "_dom_classes": [],
            "_model_module": "@jupyter-widgets/controls",
            "_model_module_version": "1.5.0",
            "_model_name": "FloatProgressModel",
            "_view_count": null,
            "_view_module": "@jupyter-widgets/controls",
            "_view_module_version": "1.5.0",
            "_view_name": "ProgressView",
            "bar_style": "",
            "description": "",
            "description_tooltip": null,
            "layout": "IPY_MODEL_6885702a6d274f4c9e3814fdc2911bed",
            "max": 1,
            "min": 0,
            "orientation": "horizontal",
            "style": "IPY_MODEL_beefd624588a4349a3f062462575e46d",
            "value": 1
          }
        },
        "3b58d3d8275b4050ac5e573da56b2af9": {
          "model_module": "@jupyter-widgets/base",
          "model_name": "LayoutModel",
          "model_module_version": "1.2.0",
          "state": {
            "_model_module": "@jupyter-widgets/base",
            "_model_module_version": "1.2.0",
            "_model_name": "LayoutModel",
            "_view_count": null,
            "_view_module": "@jupyter-widgets/base",
            "_view_module_version": "1.2.0",
            "_view_name": "LayoutView",
            "align_content": null,
            "align_items": null,
            "align_self": null,
            "border": null,
            "bottom": null,
            "display": null,
            "flex": null,
            "flex_flow": null,
            "grid_area": null,
            "grid_auto_columns": null,
            "grid_auto_flow": null,
            "grid_auto_rows": null,
            "grid_column": null,
            "grid_gap": null,
            "grid_row": null,
            "grid_template_areas": null,
            "grid_template_columns": null,
            "grid_template_rows": null,
            "height": null,
            "justify_content": null,
            "justify_items": null,
            "left": null,
            "margin": null,
            "max_height": null,
            "max_width": null,
            "min_height": null,
            "min_width": null,
            "object_fit": null,
            "object_position": null,
            "order": null,
            "overflow": null,
            "overflow_x": null,
            "overflow_y": null,
            "padding": null,
            "right": null,
            "top": null,
            "visibility": null,
            "width": null
          }
        },
        "6cde63f1a1b54c86b88e624de253565f": {
          "model_module": "@jupyter-widgets/base",
          "model_name": "LayoutModel",
          "model_module_version": "1.2.0",
          "state": {
            "_model_module": "@jupyter-widgets/base",
            "_model_module_version": "1.2.0",
            "_model_name": "LayoutModel",
            "_view_count": null,
            "_view_module": "@jupyter-widgets/base",
            "_view_module_version": "1.2.0",
            "_view_name": "LayoutView",
            "align_content": null,
            "align_items": null,
            "align_self": null,
            "border": null,
            "bottom": null,
            "display": null,
            "flex": null,
            "flex_flow": null,
            "grid_area": null,
            "grid_auto_columns": null,
            "grid_auto_flow": null,
            "grid_auto_rows": null,
            "grid_column": null,
            "grid_gap": null,
            "grid_row": null,
            "grid_template_areas": null,
            "grid_template_columns": null,
            "grid_template_rows": null,
            "height": null,
            "justify_content": null,
            "justify_items": null,
            "left": null,
            "margin": null,
            "max_height": null,
            "max_width": null,
            "min_height": null,
            "min_width": null,
            "object_fit": null,
            "object_position": null,
            "order": null,
            "overflow": null,
            "overflow_x": null,
            "overflow_y": null,
            "padding": null,
            "right": null,
            "top": null,
            "visibility": null,
            "width": null
          }
        },
        "78e4e8ce18b8444f8cb7903ca96398d6": {
          "model_module": "@jupyter-widgets/controls",
          "model_name": "DescriptionStyleModel",
          "model_module_version": "1.5.0",
          "state": {
            "_model_module": "@jupyter-widgets/controls",
            "_model_module_version": "1.5.0",
            "_model_name": "DescriptionStyleModel",
            "_view_count": null,
            "_view_module": "@jupyter-widgets/base",
            "_view_module_version": "1.2.0",
            "_view_name": "StyleView",
            "description_width": ""
          }
        },
        "6885702a6d274f4c9e3814fdc2911bed": {
          "model_module": "@jupyter-widgets/base",
          "model_name": "LayoutModel",
          "model_module_version": "1.2.0",
          "state": {
            "_model_module": "@jupyter-widgets/base",
            "_model_module_version": "1.2.0",
            "_model_name": "LayoutModel",
            "_view_count": null,
            "_view_module": "@jupyter-widgets/base",
            "_view_module_version": "1.2.0",
            "_view_name": "LayoutView",
            "align_content": null,
            "align_items": null,
            "align_self": null,
            "border": null,
            "bottom": null,
            "display": null,
            "flex": null,
            "flex_flow": null,
            "grid_area": null,
            "grid_auto_columns": null,
            "grid_auto_flow": null,
            "grid_auto_rows": null,
            "grid_column": null,
            "grid_gap": null,
            "grid_row": null,
            "grid_template_areas": null,
            "grid_template_columns": null,
            "grid_template_rows": null,
            "height": null,
            "justify_content": null,
            "justify_items": null,
            "left": null,
            "margin": null,
            "max_height": null,
            "max_width": null,
            "min_height": null,
            "min_width": null,
            "object_fit": null,
            "object_position": null,
            "order": null,
            "overflow": null,
            "overflow_x": null,
            "overflow_y": null,
            "padding": null,
            "right": null,
            "top": null,
            "visibility": null,
            "width": null
          }
        },
        "beefd624588a4349a3f062462575e46d": {
          "model_module": "@jupyter-widgets/controls",
          "model_name": "ProgressStyleModel",
          "model_module_version": "1.5.0",
          "state": {
            "_model_module": "@jupyter-widgets/controls",
            "_model_module_version": "1.5.0",
            "_model_name": "ProgressStyleModel",
            "_view_count": null,
            "_view_module": "@jupyter-widgets/base",
            "_view_module_version": "1.2.0",
            "_view_name": "StyleView",
            "bar_color": null,
            "description_width": ""
          }
        },
        "c1dd0e805b0e49e8a456ed493c426be7": {
          "model_module": "@jupyter-widgets/controls",
          "model_name": "VBoxModel",
          "model_module_version": "1.5.0",
          "state": {
            "_dom_classes": [],
            "_model_module": "@jupyter-widgets/controls",
            "_model_module_version": "1.5.0",
            "_model_name": "VBoxModel",
            "_view_count": null,
            "_view_module": "@jupyter-widgets/controls",
            "_view_module_version": "1.5.0",
            "_view_name": "VBoxView",
            "box_style": "",
            "children": [
              "IPY_MODEL_bd7dfc4d43444152b59b91d70faf4b2b",
              "IPY_MODEL_f8ae089d88224eedabf45509581531c6"
            ],
            "layout": "IPY_MODEL_abf46d6651b944d5bed362295e40eaab"
          }
        },
        "bd7dfc4d43444152b59b91d70faf4b2b": {
          "model_module": "@jupyter-widgets/controls",
          "model_name": "LabelModel",
          "model_module_version": "1.5.0",
          "state": {
            "_dom_classes": [],
            "_model_module": "@jupyter-widgets/controls",
            "_model_module_version": "1.5.0",
            "_model_name": "LabelModel",
            "_view_count": null,
            "_view_module": "@jupyter-widgets/controls",
            "_view_module_version": "1.5.0",
            "_view_name": "LabelView",
            "description": "",
            "description_tooltip": null,
            "layout": "IPY_MODEL_59ee237ea6e347c1b722ba2cfd4283f4",
            "placeholder": "​",
            "style": "IPY_MODEL_4f7e0229c8d14a4b9b6677992c280028",
            "value": "0.012 MB of 0.012 MB uploaded\r"
          }
        },
        "f8ae089d88224eedabf45509581531c6": {
          "model_module": "@jupyter-widgets/controls",
          "model_name": "FloatProgressModel",
          "model_module_version": "1.5.0",
          "state": {
            "_dom_classes": [],
            "_model_module": "@jupyter-widgets/controls",
            "_model_module_version": "1.5.0",
            "_model_name": "FloatProgressModel",
            "_view_count": null,
            "_view_module": "@jupyter-widgets/controls",
            "_view_module_version": "1.5.0",
            "_view_name": "ProgressView",
            "bar_style": "",
            "description": "",
            "description_tooltip": null,
            "layout": "IPY_MODEL_d84a02bf321a4f528e29d9b62d4cb57d",
            "max": 1,
            "min": 0,
            "orientation": "horizontal",
            "style": "IPY_MODEL_00226d17356143a289d91eab6c1399bb",
            "value": 1
          }
        },
        "abf46d6651b944d5bed362295e40eaab": {
          "model_module": "@jupyter-widgets/base",
          "model_name": "LayoutModel",
          "model_module_version": "1.2.0",
          "state": {
            "_model_module": "@jupyter-widgets/base",
            "_model_module_version": "1.2.0",
            "_model_name": "LayoutModel",
            "_view_count": null,
            "_view_module": "@jupyter-widgets/base",
            "_view_module_version": "1.2.0",
            "_view_name": "LayoutView",
            "align_content": null,
            "align_items": null,
            "align_self": null,
            "border": null,
            "bottom": null,
            "display": null,
            "flex": null,
            "flex_flow": null,
            "grid_area": null,
            "grid_auto_columns": null,
            "grid_auto_flow": null,
            "grid_auto_rows": null,
            "grid_column": null,
            "grid_gap": null,
            "grid_row": null,
            "grid_template_areas": null,
            "grid_template_columns": null,
            "grid_template_rows": null,
            "height": null,
            "justify_content": null,
            "justify_items": null,
            "left": null,
            "margin": null,
            "max_height": null,
            "max_width": null,
            "min_height": null,
            "min_width": null,
            "object_fit": null,
            "object_position": null,
            "order": null,
            "overflow": null,
            "overflow_x": null,
            "overflow_y": null,
            "padding": null,
            "right": null,
            "top": null,
            "visibility": null,
            "width": null
          }
        },
        "59ee237ea6e347c1b722ba2cfd4283f4": {
          "model_module": "@jupyter-widgets/base",
          "model_name": "LayoutModel",
          "model_module_version": "1.2.0",
          "state": {
            "_model_module": "@jupyter-widgets/base",
            "_model_module_version": "1.2.0",
            "_model_name": "LayoutModel",
            "_view_count": null,
            "_view_module": "@jupyter-widgets/base",
            "_view_module_version": "1.2.0",
            "_view_name": "LayoutView",
            "align_content": null,
            "align_items": null,
            "align_self": null,
            "border": null,
            "bottom": null,
            "display": null,
            "flex": null,
            "flex_flow": null,
            "grid_area": null,
            "grid_auto_columns": null,
            "grid_auto_flow": null,
            "grid_auto_rows": null,
            "grid_column": null,
            "grid_gap": null,
            "grid_row": null,
            "grid_template_areas": null,
            "grid_template_columns": null,
            "grid_template_rows": null,
            "height": null,
            "justify_content": null,
            "justify_items": null,
            "left": null,
            "margin": null,
            "max_height": null,
            "max_width": null,
            "min_height": null,
            "min_width": null,
            "object_fit": null,
            "object_position": null,
            "order": null,
            "overflow": null,
            "overflow_x": null,
            "overflow_y": null,
            "padding": null,
            "right": null,
            "top": null,
            "visibility": null,
            "width": null
          }
        },
        "4f7e0229c8d14a4b9b6677992c280028": {
          "model_module": "@jupyter-widgets/controls",
          "model_name": "DescriptionStyleModel",
          "model_module_version": "1.5.0",
          "state": {
            "_model_module": "@jupyter-widgets/controls",
            "_model_module_version": "1.5.0",
            "_model_name": "DescriptionStyleModel",
            "_view_count": null,
            "_view_module": "@jupyter-widgets/base",
            "_view_module_version": "1.2.0",
            "_view_name": "StyleView",
            "description_width": ""
          }
        },
        "d84a02bf321a4f528e29d9b62d4cb57d": {
          "model_module": "@jupyter-widgets/base",
          "model_name": "LayoutModel",
          "model_module_version": "1.2.0",
          "state": {
            "_model_module": "@jupyter-widgets/base",
            "_model_module_version": "1.2.0",
            "_model_name": "LayoutModel",
            "_view_count": null,
            "_view_module": "@jupyter-widgets/base",
            "_view_module_version": "1.2.0",
            "_view_name": "LayoutView",
            "align_content": null,
            "align_items": null,
            "align_self": null,
            "border": null,
            "bottom": null,
            "display": null,
            "flex": null,
            "flex_flow": null,
            "grid_area": null,
            "grid_auto_columns": null,
            "grid_auto_flow": null,
            "grid_auto_rows": null,
            "grid_column": null,
            "grid_gap": null,
            "grid_row": null,
            "grid_template_areas": null,
            "grid_template_columns": null,
            "grid_template_rows": null,
            "height": null,
            "justify_content": null,
            "justify_items": null,
            "left": null,
            "margin": null,
            "max_height": null,
            "max_width": null,
            "min_height": null,
            "min_width": null,
            "object_fit": null,
            "object_position": null,
            "order": null,
            "overflow": null,
            "overflow_x": null,
            "overflow_y": null,
            "padding": null,
            "right": null,
            "top": null,
            "visibility": null,
            "width": null
          }
        },
        "00226d17356143a289d91eab6c1399bb": {
          "model_module": "@jupyter-widgets/controls",
          "model_name": "ProgressStyleModel",
          "model_module_version": "1.5.0",
          "state": {
            "_model_module": "@jupyter-widgets/controls",
            "_model_module_version": "1.5.0",
            "_model_name": "ProgressStyleModel",
            "_view_count": null,
            "_view_module": "@jupyter-widgets/base",
            "_view_module_version": "1.2.0",
            "_view_name": "StyleView",
            "bar_color": null,
            "description_width": ""
          }
        }
      }
    }
  },
  "cells": [
    {
      "cell_type": "code",
      "source": [
        "# Agenda\n",
        "# 1. Implement optimizers - sgd, rmsprop, adam, nadam\n",
        "# 2. Learn working of wandb\n",
        "# 3. Adjust code for other hyperparameters\n",
        "# 4. Create sweeps and wandb"
      ],
      "metadata": {
        "id": "l8xo7CUhtaVj"
      },
      "execution_count": 2,
      "outputs": []
    },
    {
      "cell_type": "markdown",
      "source": [
        "## MA23M002 - ABHINAV T K <br> CS6910 - Assignment 1"
      ],
      "metadata": {
        "id": "i_lW0takXFRr"
      }
    },
    {
      "cell_type": "code",
      "execution_count": 3,
      "metadata": {
        "id": "ac3HqKeUWo8Z"
      },
      "outputs": [],
      "source": [
        "# Import libraries\n",
        "import numpy as np\n",
        "import pandas as pd\n",
        "import matplotlib.pyplot as plt\n",
        "from keras.datasets import fashion_mnist\n",
        "from sklearn.model_selection import train_test_split\n",
        "#from sklearn.metrics import classification_report, accuracy_score, confusion_matrix"
      ]
    },
    {
      "cell_type": "code",
      "source": [
        "# Load the Fashion MNIST dataset\n",
        "(x, y), (x_test, y_test) = fashion_mnist.load_data()\n",
        "\n",
        "# Change the shape of the data to (60000, 784)\n",
        "x = x.reshape(x.shape[0], -1)\n",
        "x_test = x_test.reshape(x_test.shape[0], -1)\n",
        "\n",
        "# Normalize the data\n",
        "x = x/255.0\n",
        "x_test = x_test/255.0\n",
        "\n",
        "# Splitting the data into training and validation sets\n",
        "x_train, x_val, y_train, y_val = train_test_split(x, y, test_size=0.1, random_state=42)"
      ],
      "metadata": {
        "id": "4GX1K-FDYhXu",
        "colab": {
          "base_uri": "https://localhost:8080/"
        },
        "outputId": "efa4d1a5-7670-4345-8d0b-fab93671bb6a"
      },
      "execution_count": 4,
      "outputs": [
        {
          "output_type": "stream",
          "name": "stdout",
          "text": [
            "Downloading data from https://storage.googleapis.com/tensorflow/tf-keras-datasets/train-labels-idx1-ubyte.gz\n",
            "29515/29515 [==============================] - 0s 0us/step\n",
            "Downloading data from https://storage.googleapis.com/tensorflow/tf-keras-datasets/train-images-idx3-ubyte.gz\n",
            "26421880/26421880 [==============================] - 0s 0us/step\n",
            "Downloading data from https://storage.googleapis.com/tensorflow/tf-keras-datasets/t10k-labels-idx1-ubyte.gz\n",
            "5148/5148 [==============================] - 0s 0us/step\n",
            "Downloading data from https://storage.googleapis.com/tensorflow/tf-keras-datasets/t10k-images-idx3-ubyte.gz\n",
            "4422102/4422102 [==============================] - 0s 0us/step\n"
          ]
        }
      ]
    },
    {
      "cell_type": "code",
      "source": [
        "# Dataset analysis and data preprocessing\n",
        "\n",
        "# no. of classes\n",
        "c = len(np.unique(y_train))\n",
        "print(\"Total no. of classes = \", c)\n",
        "\n",
        "# Input features\n",
        "inp_features = x_train.shape[1]\n",
        "print(\"Number of input features = \", inp_features)\n",
        "\n",
        "# training samples size\n",
        "m = x_train.shape[0]\n",
        "print(\"Training samples = \", m)\n",
        "\n",
        "# validation samples size\n",
        "m_val = x_val.shape[0]\n",
        "print(\"Validation samples = \", m_val)\n",
        "\n",
        "# test samples size\n",
        "m_test = x_test.shape[0]\n",
        "print(\"Test samples = \", m_test)\n",
        "\n",
        "# Class names - the index of the class names corresponds to the class label\n",
        "class_names = ['T-shirt/top', 'Trouser', 'Pullover', 'Dress', 'Coat',\n",
        "               'Sandal', 'Shirt', 'Sneaker', 'Bag', 'Ankle boot']\n"
      ],
      "metadata": {
        "colab": {
          "base_uri": "https://localhost:8080/"
        },
        "id": "iW-fm71NZps-",
        "outputId": "3b96d868-90d3-4ad4-8b0c-fe217298f44d"
      },
      "execution_count": 5,
      "outputs": [
        {
          "output_type": "stream",
          "name": "stdout",
          "text": [
            "Total no. of classes =  10\n",
            "Number of input features =  784\n",
            "Training samples =  54000\n",
            "Validation samples =  6000\n",
            "Test samples =  10000\n"
          ]
        }
      ]
    },
    {
      "cell_type": "code",
      "source": [
        "# One hot encoding y\n",
        "y_train_encoded = np.eye(np.max(y_train) + 1)[y_train].T\n",
        "y_val_encoded = np.eye(np.max(y_val) + 1)[y_val].T\n",
        "y_test_encoded = np.eye(np.max(y_test) + 1)[y_test].T\n"
      ],
      "metadata": {
        "id": "M2glbIIYcDS3"
      },
      "execution_count": 6,
      "outputs": []
    },
    {
      "cell_type": "markdown",
      "source": [
        "# Neural Network Architecture"
      ],
      "metadata": {
        "id": "CBLEkfagcmXs"
      }
    },
    {
      "cell_type": "code",
      "source": [
        "# Initializing parameters W and b\n",
        "\n",
        "def initialize_parameters(nn_layers, weight_init=\"random\"):\n",
        "  '''\n",
        "  nn_layers: a list containing the number of neurons of each layer - where each layer no. is the index of the list\n",
        "  '''\n",
        "  np.random.seed(32)\n",
        "  parameters = {}                         # dictionary to hold weights and biases of each layer\n",
        "  prev_v = {}\n",
        "  for i in range(1, len(nn_layers)):\n",
        "    if weight_init == \"xavier\":\n",
        "      parameters[\"W\"+str(i)] = np.random.randn(nn_layers[i],nn_layers[i-1])*np.sqrt(2/(nn_layers[i]+nn_layers[i-1]))\n",
        "    elif weight_init == \"random\":\n",
        "      parameters[\"W\"+str(i)] = np.random.randn(nn_layers[i], nn_layers[i-1])\n",
        "    parameters[\"b\"+str(i)] = np.zeros((nn_layers[i], 1))\n",
        "    prev_v[\"W\"+str(i)] = np.zeros((nn_layers[i], nn_layers[i-1]))\n",
        "    prev_v[\"b\"+str(i)] = np.zeros((nn_layers[i], 1))\n",
        "  return parameters, prev_v"
      ],
      "metadata": {
        "id": "3nv3ik7CclSr"
      },
      "execution_count": 29,
      "outputs": []
    },
    {
      "cell_type": "code",
      "source": [
        "# Defining activation functions and their derivatives\n",
        "\n",
        "def relu(x):\n",
        "    return np.maximum(0,x)\n",
        "\n",
        "def tanh(x):\n",
        "    return np.tanh(x)\n",
        "\n",
        "def sigmoid(x):\n",
        "    return 1 / (1 + np.exp(-x))\n",
        "\n",
        "def softmax(x):\n",
        "    return np.exp(x) / np.sum(np.exp(x), axis=0)\n",
        "\n",
        "# Derivatives of activation functions\n",
        "\n",
        "def sigmoid_grad(x):\n",
        "    return sigmoid(x) * (1-sigmoid(x))\n",
        "\n",
        "def relu_grad(x):\n",
        "    return 1*(x>0)\n",
        "\n",
        "def tanh_grad(x):\n",
        "    return (1 - (np.tanh(x)**2))\n",
        "\n",
        "def softmax_grad(x):\n",
        "    return softmax(x) * (1-softmax(x))"
      ],
      "metadata": {
        "id": "VOh_ylS_clT2"
      },
      "execution_count": 8,
      "outputs": []
    },
    {
      "cell_type": "code",
      "source": [
        "# Forward propagation\n",
        "def forward_propagation(x, nn_layers, parameters, act_fn):\n",
        "\n",
        "  l = len(nn_layers)  # 5 # No. of neural network layers, including input and output layers\n",
        "\n",
        "  a = {}              # dictionary to hold hidden layer (pre-activation)\n",
        "  h = {}              # dictionary to hold hidden layer (activation)\n",
        "\n",
        "  h[0] = x.T  # input layer\n",
        "  #print(h[0].shape)\n",
        "  for i in range(1, l-1):\n",
        "    W = parameters[\"W\"+str(i)]        # weights of hidden layer i\n",
        "    b = parameters[\"b\"+str(i)]        # bias of hidden layer i\n",
        "\n",
        "    a[i] = np.matmul(W,h[i-1]) + b\n",
        "\n",
        "    # activation for hidden layers\n",
        "    if act_fn == 'sigmoid':\n",
        "      h[i] = sigmoid(a[i])\n",
        "    elif act_fn == 'relu':\n",
        "      h[i] = relu(a[i])\n",
        "    elif act_fn == 'tanh':\n",
        "      h[i] = tanh(a[i])\n",
        "\n",
        "  # output layer\n",
        "  W = parameters[\"W\"+str(l-1)]    # weights of hidden layer i\n",
        "  b = parameters[\"b\"+str(l-1)]    # bias of hidden layer i\n",
        "\n",
        "  a[l-1] = np.matmul(W,h[l-2]) + b          # activation function for output layer\n",
        "\n",
        "  y_hat = softmax(a[l-1])\n",
        "  return y_hat, h, a                # Returns y_hat, h, a"
      ],
      "metadata": {
        "id": "dAYJARfdmsYW"
      },
      "execution_count": 9,
      "outputs": []
    },
    {
      "cell_type": "code",
      "source": [
        "# Backpropagation\n",
        "def back_propagation(y_hat, y, h, a, nn_layers, parameters, act_fn, batch_size, l2_reg):\n",
        "  l = len(nn_layers)\n",
        "  grads = {}            # dictionary to store gradient of loss function wrt parameters and hidden layer neurons\n",
        "\n",
        "  # Computing gradient wrt output layer\n",
        "  grads[\"grada\"+str(l-1)] = y_hat - y\n",
        "\n",
        "  for i in range(l-1,0,-1):\n",
        "\n",
        "    grads[\"gradW\" + str(i)] = (1/batch_size)*(np.dot(grads[\"grada\" + str(i)], h[i-1].T) + l2_reg*parameters[\"W\"+str(i)])\n",
        "    grads[\"gradb\" + str(i)] = (1/batch_size)*np.sum(grads[\"grada\" + str(i)], axis=1, keepdims=True)\n",
        "    if i>1:\n",
        "      if act_fn == 'sigmoid':\n",
        "        grads[\"grada\"+str(i-1)] = np.matmul(parameters[\"W\" + str(i)].T, grads[\"grada\" + str(i)]) * sigmoid_grad(a[i-1])   # Computing gradients wrt hidden layers\n",
        "      elif act_fn == 'relu':\n",
        "        grads[\"grada\"+str(i-1)] = np.matmul(parameters[\"W\" + str(i)].T, grads[\"grada\" + str(i)]) * relu_grad(a[i-1])\n",
        "      elif act_fn == 'tanh':\n",
        "        grads[\"grada\"+str(i-1)] = np.matmul(parameters[\"W\" + str(i)].T, grads[\"grada\" + str(i)]) * tanh_grad(a[i-1])\n",
        "  return grads"
      ],
      "metadata": {
        "id": "ddZEWVMOqRUG"
      },
      "execution_count": 10,
      "outputs": []
    },
    {
      "cell_type": "code",
      "source": [],
      "metadata": {
        "id": "xdjmkJQ8R_7J"
      },
      "execution_count": 10,
      "outputs": []
    },
    {
      "cell_type": "markdown",
      "source": [
        "# Update parameter based on different optimizers"
      ],
      "metadata": {
        "id": "qdIPH9_ESA7I"
      }
    },
    {
      "cell_type": "code",
      "source": [
        "def param_update_sgd(parameters, grads , lr):\n",
        "    l = len(parameters) // 2    # no. of hidden layers + outer layer\n",
        "    for i in range(1, l + 1):\n",
        "        parameters[\"W\" + str(i)] = parameters[\"W\" + str(i)] - lr * grads[\"gradW\" + str(i)]\n",
        "        parameters[\"b\" + str(i)] = parameters[\"b\" + str(i)] - lr * grads[\"gradb\" + str(i)]\n",
        "    return parameters"
      ],
      "metadata": {
        "id": "yXohNXrBt7qM"
      },
      "execution_count": 11,
      "outputs": []
    },
    {
      "cell_type": "code",
      "source": [
        "def param_update_momentum(parameters, grads , lr, beta, prev_v):\n",
        "  l = len(parameters) // 2     # no. of hidden layers + outer layer\n",
        "  eta = 1.0\n",
        "  for i in range(1, l + 1):\n",
        "    prev_v[\"W\"+str(i)] = beta*prev_v[\"W\"+str(i)] + eta*grads[\"gradW\" + str(i)]\n",
        "    prev_v[\"b\"+str(i)] = beta*prev_v[\"b\"+str(i)] + eta*grads[\"gradb\" + str(i)]\n",
        "\n",
        "    parameters[\"W\" + str(i)] = parameters[\"W\" + str(i)] - lr*prev_v[\"W\"+str(i)]\n",
        "    parameters[\"b\" + str(i)] = parameters[\"b\" + str(i)] - lr*prev_v[\"b\"+str(i)]\n",
        "\n",
        "  return parameters, prev_v"
      ],
      "metadata": {
        "id": "j0qDteAsSOHN"
      },
      "execution_count": 12,
      "outputs": []
    },
    {
      "cell_type": "code",
      "source": [
        "def param_update_nesterov(parameters, grads , lr, beta, prev_v):\n",
        "  l = len(parameters) // 2     # no. of hidden layers + outer layer\n",
        "  eta = 1.0\n",
        "  for i in range(1, l + 1):\n",
        "    prev_v[\"W\"+str(i)] = beta*prev_v[\"W\"+str(i)] + eta*grads[\"gradW\" + str(i)]\n",
        "    prev_v[\"b\"+str(i)] = beta*prev_v[\"b\"+str(i)] + eta*grads[\"gradb\" + str(i)]\n",
        "\n",
        "    parameters[\"W\" + str(i)] = parameters[\"W\" + str(i)] - lr*prev_v[\"W\"+str(i)]\n",
        "    parameters[\"b\" + str(i)] = parameters[\"b\" + str(i)] - lr*prev_v[\"b\"+str(i)]\n",
        "\n",
        "  return parameters, prev_v"
      ],
      "metadata": {
        "id": "ConbxBMaZp4M"
      },
      "execution_count": 13,
      "outputs": []
    },
    {
      "cell_type": "markdown",
      "source": [
        "# Compute loss and accuracy"
      ],
      "metadata": {
        "id": "EmgmueRsSHFN"
      }
    },
    {
      "cell_type": "code",
      "source": [
        "def compute_loss(y, y_hat, batch_size):\n",
        "  loss_val = (-1/batch_size)*(np.sum(np.multiply(y, np.log(y_hat))))\n",
        "  return loss_val"
      ],
      "metadata": {
        "id": "vfSpTZrB2nYq"
      },
      "execution_count": 14,
      "outputs": []
    },
    {
      "cell_type": "code",
      "source": [
        "from sklearn.metrics import classification_report, accuracy_score, confusion_matrix\n",
        "\n",
        "def prediction_fn(x_test, nn_layers, parameters, act_fn):\n",
        "  output, _, _ = forward_propagation(x_test, nn_layers, parameters, act_fn)\n",
        "  y_hat = np.argmax(output, axis=0)\n",
        "  return y_hat\n",
        "\n",
        "def evaluate_model(x_train, y_train, x_test, y_test, nn_layers, parameters, act_fn):\n",
        "  y_train_hat = prediction_fn(x_train, nn_layers, parameters, act_fn)\n",
        "  y_test_hat = prediction_fn(x_test, nn_layers, parameters, act_fn)\n",
        "\n",
        "  # Display training and test accuracy\n",
        "  train_accuracy = round(accuracy_score(y_train, y_train_hat) * 100, 3)\n",
        "  test_accuracy = round(accuracy_score(y_test, y_test_hat) * 100, 3)\n",
        "\n",
        "  print(f\"Training accuracy: {train_accuracy}%\")\n",
        "  print(f\"Test accuracy: {test_accuracy}%\")\n",
        "\n",
        "  # Display classification report for the test set\n",
        "  print(\"\\nClassification report for the test set:\\n\")\n",
        "  print(classification_report(y_test, y_test_hat))\n",
        "\n",
        "  return y_train_hat, y_test_hat\n"
      ],
      "metadata": {
        "id": "DYa9uWqFqrtj"
      },
      "execution_count": 15,
      "outputs": []
    },
    {
      "cell_type": "code",
      "source": [
        "# Plotting\n",
        "import matplotlib.pyplot as plt\n",
        "\n",
        "def plot_loss_curve(training_loss, validation_loss):\n",
        "    \"\"\"\n",
        "    Plot the training and validation loss curves.\n",
        "    \"\"\"\n",
        "    n1 = len(training_loss)\n",
        "    n2 = len(validation_loss)\n",
        "    plt.plot(list(range(n1)), training_loss, 'b', label=\"Training Loss\")\n",
        "    plt.plot(list(range(n2)), validation_loss, 'r', label=\"Validation Loss\")\n",
        "\n",
        "    # Adding title and labels\n",
        "    plt.title(\"Training and Validation Loss vs Epochs\")\n",
        "    plt.xlabel(\"# Epochs\")\n",
        "    plt.ylabel(\"Loss\")\n",
        "\n",
        "    plt.grid()\n",
        "    plt.legend()\n",
        "    plt.show()\n"
      ],
      "metadata": {
        "id": "Zzr3570fuJvc"
      },
      "execution_count": 16,
      "outputs": []
    },
    {
      "cell_type": "markdown",
      "source": [
        "# Train the model"
      ],
      "metadata": {
        "id": "gRATlU28SKwD"
      }
    },
    {
      "cell_type": "code",
      "source": [
        "def train_model(x_train, y_train, x_val, y_val, epochs = 10, num_hidden_layers = 1, num_neurons = 128, learning_rate = 0.001,\n",
        "                act_fn = 'sigmoid', weight_init = 'xavier', optimizer = 'sgd',  batch_size = 512, l2_reg = 0):\n",
        "  '''\n",
        "  number of epochs: 5, 10\n",
        "  number of hidden layers: 3, 4, 5\n",
        "  size of every hidden layer: 32, 64, 128\n",
        "  weight decay (L2 regularisation): 0, 0.0005, 0.5\n",
        "  learning rate: 1e-3, 1e-4\n",
        "  optimizer: sgd, momentum, nesterov, rmsprop, adam, nadam\n",
        "  batch size: 16, 32, 64\n",
        "  weight initialisation: random, Xavier\n",
        "  activation functions: sigmoid, tanh, relu\n",
        "  '''\n",
        "\n",
        "  nn_layers = [inp_features] + [num_neurons]*num_hidden_layers + [c]\n",
        "  parameters, prev_v = initialize_parameters(nn_layers, weight_init)\n",
        "  params_nesterov = parameters.copy()\n",
        "  l = len(parameters) // 2                              # no. of hidden layers + outer layer\n",
        "  beta = 0.9                                            # decay rate\n",
        "  training_loss = []\n",
        "  validation_loss = []\n",
        "  for epoch in range(epochs):\n",
        "    if optimizer == 'sgd':\n",
        "      batch_size = 1\n",
        "    for i in range(0, x_train.shape[0], batch_size):\n",
        "      batch_sz = min(batch_size, x_train.shape[0] - i)\n",
        "      if optimizer == 'nesterov':\n",
        "        for j in range(1, l+1):\n",
        "          params_nesterov[\"W\"+str(j)] = parameters[\"W\"+str(j)] - beta*prev_v[\"W\"+str(j)]\n",
        "          params_nesterov[\"b\"+str(j)] = parameters[\"b\"+str(j)] - beta*prev_v[\"b\"+str(j)]\n",
        "        # calculating grads for look ahead\n",
        "        y_hat, h, a = forward_propagation(x_train[i:i+batch_sz,:], nn_layers, params_nesterov, act_fn)\n",
        "        grads = back_propagation(y_hat, y_train[:,i:i+batch_sz], h, a, nn_layers, params_nesterov, act_fn, batch_sz, l2_reg)\n",
        "        # parameter update for nesterove using grad calculated by look ahead\n",
        "        parameters, prev_v = param_update_momentum(parameters, grads , lr, beta, prev_v)\n",
        "\n",
        "      else:\n",
        "        y_hat, h, a = forward_propagation(x_train[i:i+batch_sz,:], nn_layers, parameters, act_fn)\n",
        "        grads = back_propagation(y_hat, y_train[:,i:i+batch_sz], h, a, nn_layers, parameters, act_fn, batch_sz, l2_reg)\n",
        "        if optimizer == 'sgd':\n",
        "          parameters = param_update_sgd(parameters, grads, lr)\n",
        "        elif optimizer == 'momentum':\n",
        "          parameters, prev_v = param_update_momentum(parameters, grads , lr, beta, prev_v)\n",
        "\n",
        "    # model evaluation\n",
        "    y_hat, _, _ = forward_propagation(x_train, nn_layers, parameters, act_fn)\n",
        "    cost = compute_loss(y_train, y_hat, 54000)\n",
        "    training_loss.append(cost)\n",
        "\n",
        "    #one-hot encoding y_hat\n",
        "    y_hat_encoded = np.zeros_like(y_hat)\n",
        "    for i in range(y_hat.shape[1]):\n",
        "      max_index = np.argmax(y_hat[:, i])\n",
        "      y_hat_encoded[max_index, i] = 1\n",
        "    accuracy = np.mean(y_hat_encoded == y_train)\n",
        "\n",
        "    # loss for the validation set\n",
        "    y_val_hat, _, _ = forward_propagation(x_val, nn_layers, parameters, act_fn)\n",
        "    val_cost = compute_loss(y_val, y_val_hat, 6000)\n",
        "    validation_loss.append(val_cost)\n",
        "    #one-hot encoding y_val_hat\n",
        "    y_val_hat_encoded = np.zeros_like(y_val_hat)\n",
        "    for i in range(y_val_hat.shape[1]):\n",
        "      max_index = np.argmax(y_val_hat[:, i])\n",
        "      y_val_hat_encoded[max_index, i] = 1\n",
        "    val_accuracy = np.mean(y_val_hat_encoded == y_val)\n",
        "\n",
        "    print(\"Epochs = \", epoch, \"\\tTraining cost:\", cost, \"\\tAccuracy:\", accuracy, \"\\t Validation Accuracy:\", val_accuracy)\n",
        "\n",
        "  l1 = [y_train, y_hat, training_loss, y_val, y_val_hat, validation_loss]\n",
        "  plot_loss_curve(training_loss, validation_loss)\n",
        "  return l1"
      ],
      "metadata": {
        "id": "AxNYXccvQm_6"
      },
      "execution_count": 45,
      "outputs": []
    },
    {
      "cell_type": "code",
      "source": [
        "if __name__=='__main__':\n",
        "  iter = 0\n",
        "  epochs = 10\n",
        "  lr = 0.01 # learning rate\n",
        "  batch_size = 64 #x_train, y_train, x_val, y_val,\n",
        "  params = train_model(x_train, y_train_encoded, x_val, y_val_encoded, epochs = 5, act_fn = 'sigmoid', optimizer = 'momentum',\n",
        "                       weight_init = 'random', l2_reg = 0.5)"
      ],
      "metadata": {
        "colab": {
          "base_uri": "https://localhost:8080/",
          "height": 559
        },
        "id": "1zIfsf5hrMwu",
        "outputId": "25ee6b5a-36c5-4d5f-c9aa-67a448b20541"
      },
      "execution_count": 50,
      "outputs": [
        {
          "output_type": "stream",
          "name": "stdout",
          "text": [
            "Epochs =  0 \tTraining cost: 1.5622959455755845 \tAccuracy: 0.9125407407407408 \t Validation Accuracy: 0.9112333333333333\n",
            "Epochs =  1 \tTraining cost: 1.1893250163030973 \tAccuracy: 0.9288444444444445 \t Validation Accuracy: 0.9278333333333333\n",
            "Epochs =  2 \tTraining cost: 1.0294865624026532 \tAccuracy: 0.9365481481481481 \t Validation Accuracy: 0.9342\n",
            "Epochs =  3 \tTraining cost: 0.935156306213633 \tAccuracy: 0.9412407407407407 \t Validation Accuracy: 0.9385666666666667\n",
            "Epochs =  4 \tTraining cost: 0.8698955188361825 \tAccuracy: 0.944174074074074 \t Validation Accuracy: 0.9418666666666666\n"
          ]
        },
        {
          "output_type": "display_data",
          "data": {
            "text/plain": [
              "<Figure size 640x480 with 1 Axes>"
            ],
            "image/png": "[encoded data removed]"
          },
          "metadata": {}
        }
      ]
    },
    {
      "cell_type": "code",
      "source": [],
      "metadata": {
        "id": "8bg9iA-B5KcJ"
      },
      "execution_count": 18,
      "outputs": []
    },
    {
      "cell_type": "markdown",
      "source": [
        "# Using wandb for hyperparameter tuning"
      ],
      "metadata": {
        "id": "myJr_nVfSEH0"
      }
    },
    {
      "cell_type": "code",
      "source": [
        "!pip install wandb"
      ],
      "metadata": {
        "id": "rFH9Z3EsSIsd"
      },
      "execution_count": null,
      "outputs": []
    },
    {
      "cell_type": "code",
      "source": [
        "import wandb\n",
        "import numpy as np\n",
        "from types import SimpleNamespace\n",
        "import random"
      ],
      "metadata": {
        "id": "55S316Udot0O"
      },
      "execution_count": 20,
      "outputs": []
    },
    {
      "cell_type": "code",
      "source": [
        "def run_model_wandb(x_train, y_train, x_val, y_val, epochs = 10, num_hidden_layers = 3, num_neurons = 128, learning_rate = 0.001, act_fn = 'tanh',\n",
        "                    weight_init = 'random', optimizer = 'momentum',  batch_size = 512, l2_reg = 0):\n",
        "  '''\n",
        "  number of epochs: 5, 10\n",
        "  number of hidden layers: 3, 4, 5\n",
        "  size of every hidden layer: 32, 64, 128\n",
        "  weight decay (L2 regularisation): 0, 0.0005, 0.5\n",
        "  learning rate: 1e-3, 1e-4\n",
        "  optimizer: sgd, momentum, nesterov, rmsprop, adam, nadam\n",
        "  batch size: 16, 32, 64\n",
        "  weight initialisation: random, Xavier\n",
        "  activation functions: sigmoid, tanh, relu\n",
        "  '''\n",
        "\n",
        "  nn_layers = [inp_features] + [num_neurons]*num_hidden_layers + [c]\n",
        "  parameters, prev_v = initialize_parameters(nn_layers, weight_init)\n",
        "  params_nesterov = parameters.copy()\n",
        "  l = len(parameters) // 2                              # no. of hidden layers + outer layer\n",
        "  beta = 0.9                                            # decay rate\n",
        "  training_loss = []\n",
        "  validation_loss = []\n",
        "  for epoch in range(epochs):\n",
        "    if optimizer == 'sgd':\n",
        "      batch_size = 1\n",
        "    for i in range(0, x_train.shape[0], batch_size):\n",
        "      batch_sz = min(batch_size, x_train.shape[0] - i)\n",
        "      if optimizer == 'nesterov':\n",
        "        for j in range(1, l+1):\n",
        "          params_nesterov[\"W\"+str(j)] = parameters[\"W\"+str(j)] - beta*prev_v[\"W\"+str(j)]\n",
        "          params_nesterov[\"b\"+str(j)] = parameters[\"b\"+str(j)] - beta*prev_v[\"b\"+str(j)]\n",
        "        # calculating grads for look ahead\n",
        "        y_hat, h, a = forward_propagation(x_train[i:i+batch_sz,:], nn_layers, params_nesterov, act_fn)\n",
        "        grads = back_propagation(y_hat, y_train[:,i:i+batch_sz], h, a, nn_layers, params_nesterov, act_fn, batch_sz, l2_reg)\n",
        "        # parameter update for nesterove using grad calculated by look ahead\n",
        "        parameters, prev_v = param_update_momentum(parameters, grads , lr, beta, prev_v)\n",
        "\n",
        "      else:\n",
        "        y_hat, h, a = forward_propagation(x_train[i:i+batch_sz,:], nn_layers, parameters, act_fn)\n",
        "        grads = back_propagation(y_hat, y_train[:,i:i+batch_sz], h, a, nn_layers, parameters, act_fn, batch_sz, l2_reg)\n",
        "        if optimizer == 'sgd':\n",
        "          parameters = param_update_sgd(parameters, grads, lr)\n",
        "        elif optimizer == 'momentum':\n",
        "          parameters, prev_v = param_update_momentum(parameters, grads , lr, beta, prev_v)\n",
        "\n",
        "    # model evaluation\n",
        "    y_hat, _, _ = forward_propagation(x_train, nn_layers, parameters, act_fn)\n",
        "    cost = compute_loss(y_train, y_hat, 54000)\n",
        "    training_loss.append(cost)\n",
        "\n",
        "    #one-hot encoding y_hat\n",
        "    y_hat_encoded = np.zeros_like(y_hat)\n",
        "    for i in range(y_hat.shape[1]):\n",
        "      max_index = np.argmax(y_hat[:, i])\n",
        "      y_hat_encoded[max_index, i] = 1\n",
        "    accuracy = np.mean(y_hat_encoded == y_train)\n",
        "    wandb.log({'train loss': cost, 'train accuracy': accuracy * 100, 'epoch': epoch+1})\n",
        "\n",
        "    # loss for the validation set\n",
        "    y_val_hat, _, _ = forward_propagation(x_val, nn_layers, parameters, act_fn)\n",
        "    val_cost = compute_loss(y_val, y_val_hat, 6000)\n",
        "    validation_loss.append(val_cost)\n",
        "    #one-hot encoding y_val_hat\n",
        "    y_val_hat_encoded = np.zeros_like(y_val_hat)\n",
        "    for i in range(y_val_hat.shape[1]):\n",
        "      max_index = np.argmax(y_val_hat[:, i])\n",
        "      y_val_hat_encoded[max_index, i] = 1\n",
        "    val_accuracy = np.mean(y_val_hat_encoded == y_val)\n",
        "    wandb.log({'val_accuracy': val_accuracy * 100})\n",
        "\n",
        "    print(\"Epochs = \", epoch, \"\\tTraining cost:\", cost, \"\\tAccuracy:\", accuracy, \"\\t Validation Accuracy:\", val_accuracy)\n",
        "  #l1 = [y_train, y_hat, training_loss, y_val, y_val_hat, validation_loss]\n",
        "  #plot_loss_curve(training_loss, validation_loss)\n",
        "  return parameters"
      ],
      "metadata": {
        "id": "Sox35WPJqs4q"
      },
      "execution_count": 51,
      "outputs": []
    },
    {
      "cell_type": "code",
      "source": [
        "wandb.login(key='4966bf774ea7ce7b47a6e7360b1fad927ece6f1c')"
      ],
      "metadata": {
        "colab": {
          "base_uri": "https://localhost:8080/"
        },
        "id": "vE4yqDQWo2ru",
        "outputId": "56d0b103-0fe3-49a6-b0ad-ab6fb61dea06"
      },
      "execution_count": 52,
      "outputs": [
        {
          "output_type": "stream",
          "name": "stderr",
          "text": [
            "\u001b[34m\u001b[1mwandb\u001b[0m: \u001b[33mWARNING\u001b[0m If you're specifying your api key in code, ensure this code is not shared publicly.\n",
            "\u001b[34m\u001b[1mwandb\u001b[0m: \u001b[33mWARNING\u001b[0m Consider setting the WANDB_API_KEY environment variable, or running `wandb login` from the command line.\n",
            "\u001b[34m\u001b[1mwandb\u001b[0m: Appending key for api.wandb.ai to your netrc file: /root/.netrc\n"
          ]
        },
        {
          "output_type": "execute_result",
          "data": {
            "text/plain": [
              "True"
            ]
          },
          "metadata": {},
          "execution_count": 52
        }
      ]
    },
    {
      "cell_type": "markdown",
      "source": [
        "epochs = 10, num_hidden_layers = 1, num_neurons = 128, learning_rate = 0.001, act_fn = 'sigmoid', weight_init = 'xavier',\n",
        "                optimizer = 'sgd',  batch_size = 512, wt_decay_l2 = 0 <br>\n",
        "x_train, y_train, epochs = 10, num_hidden_layers = 3, num_neurons = 128, learning_rate = 0.001, act_fn = 'tanh', weight_init = 'xavier',\n",
        "                optimizer = 'sgd',  batch_size = 512, wt_decay_l2 = 0"
      ],
      "metadata": {
        "id": "By4s9mWrpE4W"
      }
    },
    {
      "cell_type": "code",
      "source": [
        "# config file\n",
        "sweep_config = {\n",
        "    'method': 'grid',\n",
        "    'name' : 'sweep dl111',\n",
        "\n",
        "    'metric': {\n",
        "      'name': 'val_accuracy',\n",
        "      'goal': 'maximize'\n",
        "    },\n",
        "    'parameters': {\n",
        "\n",
        "        'epochs': {\n",
        "            'values': [5,10]\n",
        "        },\n",
        "        'num_hidden_layers':{\n",
        "            'values': [3,4,5]\n",
        "        },\n",
        "         'num_neurons':{\n",
        "            'values':[32,64,128]\n",
        "        },\n",
        "        'learning_rate':{\n",
        "            'values':[0.001, 0.0001]\n",
        "        },\n",
        "        'act_fn': {\n",
        "            'values': ['sigmoid','relu', 'tanh']\n",
        "        },\n",
        "        'optimizer': {\n",
        "            'values': ['momentum']\n",
        "        },\n",
        "        'batch_size': {\n",
        "            'values': [16, 32, 64]\n",
        "        },\n",
        "        'weight_init': {\n",
        "            'values': ['random', 'xavier']\n",
        "        },\n",
        "        'l2_reg':{\n",
        "            'values': [0, 0.0005, 0.5]\n",
        "        }\n",
        "    }\n",
        "}\n",
        "\n",
        "sweep_id = wandb.sweep(sweep = sweep_config, project='wandb-basics')"
      ],
      "metadata": {
        "colab": {
          "base_uri": "https://localhost:8080/"
        },
        "id": "SqDMRmgmo5RZ",
        "outputId": "934e50ff-54e1-40f7-975c-7d965fdc18a1"
      },
      "execution_count": 53,
      "outputs": [
        {
          "output_type": "stream",
          "name": "stdout",
          "text": [
            "Create sweep with ID: n6we5uyl\n",
            "Sweep URL: https://wandb.ai/abhinavtk/wandb-basics/sweeps/n6we5uyl\n"
          ]
        }
      ]
    },
    {
      "cell_type": "code",
      "source": [
        "def main():\n",
        "  '''\n",
        "  WandB calls main function each time with differnet combination.\n",
        "\n",
        "  We can retrive the same and use the same values for our hypermeters.\n",
        "\n",
        "  '''\n",
        "\n",
        "  with wandb.init() as run:\n",
        "    run_name=\"-hl_\"+str(wandb.config.num_hidden_layers)+\"-hs_\"+str(wandb.config.num_neurons)+\"-ac_\"+  \\\n",
        "    wandb.config.act_fn+\"-opt_\"+wandb.config.optimizer\n",
        "    wandb.run.name = run_name\n",
        "    #obj=NN(wandb.config['num_layers'],wandb.config['hidden_size'])\n",
        "    #hl_3_bs_16_ac_tanh\n",
        "    iter = 0\n",
        "    epochs = 10\n",
        "    lr = 0.01 # learning rate\n",
        "    batch_size = 64\n",
        "    params = run_model_wandb(x_train, y_train_encoded, x_val, y_val_encoded)\n",
        "\n",
        "wandb.agent(sweep_id, function = main, count = 20) # calls main function for count number of times.\n",
        "wandb.finish()\n",
        ""
      ],
      "metadata": {
        "colab": {
          "base_uri": "https://localhost:8080/",
          "height": 1000,
          "referenced_widgets": [
            "8a15262176b34c048f73957a0f426e12",
            "5ef4523384844d5ca8155e94d756a3ff",
            "2bdc9cb588a14de28abb4b1ea04a28b4",
            "59cad478c7304e69b07a0938f29669a6",
            "c1939f9d6a3a47ad91bd00c58197c6df",
            "c57c8f194248437d80ffcca29280c29d",
            "bd6c0879efbc476ca3a0701421c0b45a",
            "6e7c7135b4054a31b486561feca5f993",
            "c5f5f0e80211448cb33e6bf9f0ab4d2a",
            "2551d4a20a1842d0ac8d9e95b4e23ce4",
            "9e04a320e77c4859a5ded536f328e8ed",
            "507d94a392f346cda2b80e6a3008fa44",
            "c76e06e1d4304e0991adc61ad644acc7",
            "1000177a4df84b9698bd23dcaff08173",
            "bc15f8cc16694e62a462921f8a088b3e",
            "72d5d75af4474f558a3a531df936fa85",
            "26b4fd177cb641cb9e27f486258d28ac",
            "cdb41bb1fc1a4755a5a3cf55622ce8f0",
            "81afa02e3ab44a18b338f4504becd2e4",
            "90c3db5ed77f445eac3b23337d277487",
            "61e2453b8e1f47d9b266e099f54cbfd6",
            "a539bc1d1b1d40629149787b0743bb4e",
            "ae753e61954a4aafac26209c9690896b",
            "0d602cb064824711935e975df69f66ab",
            "715229ac7bc341e485b33cd67f415c94",
            "08b370d63489451196be6cf9ed15c874",
            "9f6065cfc3d14f4eb14568ebe8590a86",
            "f16d6ef40d2d4366a0762fa8dc22089e",
            "a35a7abb6fd04d6baf6071834bd6aee9",
            "6749665607444072930d37d5d937e9b5",
            "1ac3645cd06a40c3aa1a1db33079818c",
            "14fc3b44c4024b7da2f0696514580199",
            "ddb0ed58963b43f9a20bc92b7322a38e",
            "333f10896ee148b9be3215875ffead20",
            "8b6ffce2779c498db70d6d2219833f46",
            "2a7f700c7e024130a8be88427048078e",
            "d20af0348eb0407ab54f312af7c1f9a8",
            "84bc24f53e1647debb1aabb00e69ded8",
            "d699ea9e04d4444ba8e39b973b09a01d",
            "bfcd8f2ca0ee47829ebba5f89327f055",
            "fa36b2b56deb448eb30ae8d3cf929b14",
            "64d901f463824527adbaf73395d882dc",
            "342460e518194c27b702567bcc63f0fe",
            "0a888275c22344fdb21dd41540cb0e38",
            "4dee14b1f2f34ca98057d4e49589a4d9",
            "9d0922d4ea294f0291a0c4e9923b388e",
            "40103bc888934ebd82cf5cdeb76c43a7",
            "ed9cbaf6c2af405c898148eff654e270",
            "ac885a81bd3144fd8a2259b76df2832d",
            "6ab332a9c13a4bc695980299ee75b7e4",
            "69822cde280144abbfcdae2c2a99f585",
            "71b70c400f7741bf80723b39bb281c99",
            "f15226f7870449dc85e7bf8573319057",
            "5ded39842d9643d393517e18d0c616a2",
            "4f974a395c444acf8b4ed398598cd7f8",
            "94185c0156044e2ca6e42ad188524896",
            "bc02cd26242c46ca9013525688d3538b",
            "21446bc7ac3a49bda87a0e627d419877",
            "ce55475349e1490fa154d35a083a52dc",
            "0c026da57ef3457687b5c1f8c877d1f0",
            "1587f37b7686418b9d69494a1dd8e178",
            "087552a9ab444149959fd5f06627a3c2",
            "a76ce3ae6c4d4ef58d1e90e4ce30fed2",
            "332248172ba6446888333ddac10dd1d8",
            "1e0d85ea620a45f481b9318e0cd882eb",
            "a9da89ef957240f0868ee630a7e32f0b",
            "d5623b64289742c7b9f682d7e275b72e",
            "eaa96e5329dc44f5b0a72dca267291cc",
            "c466868947a04b5c87a0b7c043e50c57",
            "66e57b8548924ef0af0d1dfe4d9073e8",
            "e593fef3b7174f0d89b284e1d805f203",
            "d861bee947a646eabe6671fbfda75ad5",
            "97f1febedcfa43b58476c267d405b0b8",
            "ea4d7262bd5a4cca9974bb4eb8eab703",
            "8e49d2b5c5fb4900a1cbaefc9e6c0a9b",
            "f4a9d1cee538481bb2be4d7702d8a056",
            "f5123f579ee54651b4a91d988a84d03b",
            "67800eeb42e5417c8fe6c91e367d7d9e",
            "79cf28e52fbb4cf98a6934a8b6fe8cfb",
            "9d2cc2fa3e214c4390af67e460506120",
            "d5c5de6a46e542b1b3e5fc257d37c5fb",
            "1e14a4be34564d0ca14a8f9ea3df2785",
            "7d95ca8440ee47a6970b4942c26e8242",
            "d0f55595152841b28c68fd80de7811d6",
            "3bf27197c7df4e599bda15cda15c8b6e",
            "c2938b60af66484aa5b13099bd219b36",
            "98d9ad5714fc496ca98e4881b7043756",
            "5e998dbf4a8942b5873fdb16c808c764",
            "9cbb3371e8e2428088e3e08f1d0902bd",
            "bd51b7e607ae4d00b5bce83bb317341e",
            "1d973d70397341799853832e280238b9",
            "263f5223eb6b45b585e948759852c92d",
            "b0660661fea24127983d9bfa9cc1d49d",
            "1330c48349f246158c79db419700cff2",
            "30c37876894445bab386daccc5799569",
            "27db265ee9524942b06d9f0a71e52332",
            "57fd37a37b294a0fb22243cfb7adf757",
            "4fcb5743388d47169e66e1aa9f0d95b3",
            "b847168174614dad9a55b5a0494d7bdd",
            "ac45a5deee9a4fd9bb994d1d8aac5d68",
            "6e947abcb8494eee801f9e1e845ea9b5",
            "678bed1461474ade8ae86bc32113040b",
            "b0a0ccc5867f49a19ec9c3187b22ec5e",
            "7564b56729f04b37b6e3a389cb0bcffd",
            "1ebe3af84d1545b4b50af4f16e0c628a",
            "c2576a6bd02148ad8f09296d5cb017a0",
            "f91fce8e79324ee1a045fd8e9c334241",
            "cb4946abea4c44c2b0de47c51425c1a9",
            "9bef80fabc344e1991d2e3681e57e25f",
            "9fa8ec77785040b985e8ebde4aaecfee",
            "5e65754826604a5b847d94164c42199a",
            "5cd1b27509a244b08011c53f96482a17",
            "e2a12b04d1404fb89f7733808df97104",
            "133e6721f1bd48f88217a56029d44be7",
            "d783636bbffd4cd288de772d5d858575",
            "6dab117ef4b145ddadf4adec3d8c7e7c",
            "07c41b6adbb04dba9b6eefbf25fb14ab",
            "7f96ba4cab0941949fa398395cc8a55b",
            "af2cac7578144e1992fc24024e5942a3",
            "fec820f10bec4f08838589fc0aac6420",
            "12d77b9137fd4b5a99bd5e421f6f4a92",
            "46932d83ca4e46b2b186144cc8c42798",
            "ae1a2c08bbcb4d2d9788ebd7d2b77bc5",
            "40627891e1554c869fae13ee8a58f17b",
            "40668e4ea3934e72aac61a92c6c5aedf",
            "b5fff029c36a462f862e498562639f3f",
            "881f4052b3dc44ceb909ee8c2e80723e",
            "993c358df1d244beb621056c3ec269e5",
            "040be4f3544e48a29c81f07b7ebb84e5",
            "2b5e3119482e441487ac58f28a52b4e2",
            "a44adcebf83d4bc399f5a71c3f1bbccd",
            "42bb19424cec4a2eb1494f366296d93b",
            "7a1186891d3d493d8d890195c5683640",
            "40db6ac7fb4344a686d14a8ef3b5f909",
            "60af22fe9c0c4666b954aa099f8115bc",
            "b6a257c8b8fd4a9b8a118d46a330c121",
            "bc58f8655f434049a8f3b246c6b1f268",
            "66876ad684744bcf916db4a0378d6375",
            "1babd5d79b0e464cb167a4793e31a66a",
            "74f078e294f045a4af1dd4ced09c8e17",
            "96e61c61a2984322a11564ca0a7905e6",
            "04f15e4a52be4bdaaa236f6fa2c6e3a0",
            "9a89410f38c84457af92e6464c01a701",
            "a36e26eda80747d29bfeae9423d77b4b",
            "5eac90bbf00940f3aee0696c1e2b49c4",
            "67380a25e78e4b7ab7d01d98dfdef932",
            "0898ddb0a91743a7be1533c4f8bf3346",
            "3b58d3d8275b4050ac5e573da56b2af9",
            "6cde63f1a1b54c86b88e624de253565f",
            "78e4e8ce18b8444f8cb7903ca96398d6",
            "6885702a6d274f4c9e3814fdc2911bed",
            "beefd624588a4349a3f062462575e46d",
            "c1dd0e805b0e49e8a456ed493c426be7",
            "bd7dfc4d43444152b59b91d70faf4b2b",
            "f8ae089d88224eedabf45509581531c6",
            "abf46d6651b944d5bed362295e40eaab",
            "59ee237ea6e347c1b722ba2cfd4283f4",
            "4f7e0229c8d14a4b9b6677992c280028",
            "d84a02bf321a4f528e29d9b62d4cb57d",
            "00226d17356143a289d91eab6c1399bb"
          ]
        },
        "id": "S28bVLcnqEQ8",
        "outputId": "1c8a135b-acf5-4d55-83ec-9183271ea632"
      },
      "execution_count": 54,
      "outputs": [
        {
          "output_type": "stream",
          "name": "stderr",
          "text": [
            "\u001b[34m\u001b[1mwandb\u001b[0m: Agent Starting Run: 1q83xee1 with config:\n",
            "\u001b[34m\u001b[1mwandb\u001b[0m: \tact_fn: sigmoid\n",
            "\u001b[34m\u001b[1mwandb\u001b[0m: \tbatch_size: 16\n",
            "\u001b[34m\u001b[1mwandb\u001b[0m: \tepochs: 5\n",
            "\u001b[34m\u001b[1mwandb\u001b[0m: \tl2_reg: 0\n",
            "\u001b[34m\u001b[1mwandb\u001b[0m: \tlearning_rate: 0.001\n",
            "\u001b[34m\u001b[1mwandb\u001b[0m: \tnum_hidden_layers: 3\n",
            "\u001b[34m\u001b[1mwandb\u001b[0m: \tnum_neurons: 32\n",
            "\u001b[34m\u001b[1mwandb\u001b[0m: \toptimizer: momentum\n",
            "\u001b[34m\u001b[1mwandb\u001b[0m: \tweight_init: random\n"
          ]
        },
        {
          "output_type": "display_data",
          "data": {
            "text/plain": [
              "<IPython.core.display.HTML object>"
            ],
            "text/html": [
              "Tracking run with wandb version 0.16.4"
            ]
          },
          "metadata": {}
        },
        {
          "output_type": "display_data",
          "data": {
            "text/plain": [
              "<IPython.core.display.HTML object>"
            ],
            "text/html": [
              "Run data is saved locally in <code>/content/wandb/run-20240311_123412-1q83xee1</code>"
            ]
          },
          "metadata": {}
        },
        {
          "output_type": "display_data",
          "data": {
            "text/plain": [
              "<IPython.core.display.HTML object>"
            ],
            "text/html": [
              "Syncing run <strong><a href='https://wandb.ai/abhinavtk/wandb-basics/runs/1q83xee1' target=\"_blank\">solar-sweep-1</a></strong> to <a href='https://wandb.ai/abhinavtk/wandb-basics' target=\"_blank\">Weights & Biases</a> (<a href='https://wandb.me/run' target=\"_blank\">docs</a>)<br/>Sweep page: <a href='https://wandb.ai/abhinavtk/wandb-basics/sweeps/n6we5uyl' target=\"_blank\">https://wandb.ai/abhinavtk/wandb-basics/sweeps/n6we5uyl</a>"
            ]
          },
          "metadata": {}
        },
        {
          "output_type": "display_data",
          "data": {
            "text/plain": [
              "<IPython.core.display.HTML object>"
            ],
            "text/html": [
              " View project at <a href='https://wandb.ai/abhinavtk/wandb-basics' target=\"_blank\">https://wandb.ai/abhinavtk/wandb-basics</a>"
            ]
          },
          "metadata": {}
        },
        {
          "output_type": "display_data",
          "data": {
            "text/plain": [
              "<IPython.core.display.HTML object>"
            ],
            "text/html": [
              " View sweep at <a href='https://wandb.ai/abhinavtk/wandb-basics/sweeps/n6we5uyl' target=\"_blank\">https://wandb.ai/abhinavtk/wandb-basics/sweeps/n6we5uyl</a>"
            ]
          },
          "metadata": {}
        },
        {
          "output_type": "display_data",
          "data": {
            "text/plain": [
              "<IPython.core.display.HTML object>"
            ],
            "text/html": [
              " View run at <a href='https://wandb.ai/abhinavtk/wandb-basics/runs/1q83xee1' target=\"_blank\">https://wandb.ai/abhinavtk/wandb-basics/runs/1q83xee1</a>"
            ]
          },
          "metadata": {}
        },
        {
          "output_type": "stream",
          "name": "stdout",
          "text": [
            "Epochs =  0 \tTraining cost: 3.2003514221858738 \tAccuracy: 0.9119518518518519 \t Validation Accuracy: 0.91\n",
            "Epochs =  1 \tTraining cost: 2.1656509279951854 \tAccuracy: 0.9228444444444445 \t Validation Accuracy: 0.9195666666666666\n",
            "Epochs =  2 \tTraining cost: 1.6435924684809091 \tAccuracy: 0.9277740740740741 \t Validation Accuracy: 0.9221333333333334\n",
            "Epochs =  3 \tTraining cost: 1.335223395796518 \tAccuracy: 0.9341111111111111 \t Validation Accuracy: 0.9296333333333333\n",
            "Epochs =  4 \tTraining cost: 1.189423546142259 \tAccuracy: 0.9360740740740741 \t Validation Accuracy: 0.9315666666666667\n",
            "Epochs =  5 \tTraining cost: 1.0826888334195868 \tAccuracy: 0.9391037037037037 \t Validation Accuracy: 0.9352\n",
            "Epochs =  6 \tTraining cost: 1.001908892251492 \tAccuracy: 0.9408555555555556 \t Validation Accuracy: 0.9351\n",
            "Epochs =  7 \tTraining cost: 0.927766016763525 \tAccuracy: 0.9429592592592593 \t Validation Accuracy: 0.938\n",
            "Epochs =  8 \tTraining cost: 0.8819533172785067 \tAccuracy: 0.9452814814814815 \t Validation Accuracy: 0.9376333333333333\n",
            "Epochs =  9 \tTraining cost: 0.8407229471427216 \tAccuracy: 0.9461740740740741 \t Validation Accuracy: 0.9388666666666666\n"
          ]
        },
        {
          "output_type": "display_data",
          "data": {
            "text/plain": [
              "VBox(children=(Label(value='0.001 MB of 0.001 MB uploaded\\r'), FloatProgress(value=1.0, max=1.0)))"
            ],
            "application/vnd.jupyter.widget-view+json": {
              "version_major": 2,
              "version_minor": 0,
              "model_id": "8a15262176b34c048f73957a0f426e12"
            }
          },
          "metadata": {}
        },
        {
          "output_type": "display_data",
          "data": {
            "text/plain": [
              "<IPython.core.display.HTML object>"
            ],
            "text/html": [
              "<style>\n",
              "    table.wandb td:nth-child(1) { padding: 0 10px; text-align: left ; width: auto;} td:nth-child(2) {text-align: left ; width: 100%}\n",
              "    .wandb-row { display: flex; flex-direction: row; flex-wrap: wrap; justify-content: flex-start; width: 100% }\n",
              "    .wandb-col { display: flex; flex-direction: column; flex-basis: 100%; flex: 1; padding: 10px; }\n",
              "    </style>\n",
              "<div class=\"wandb-row\"><div class=\"wandb-col\"><h3>Run history:</h3><br/><table class=\"wandb\"><tr><td>epoch</td><td>▁▂▃▃▄▅▆▆▇█</td></tr><tr><td>train accuracy</td><td>▁▃▄▆▆▇▇▇██</td></tr><tr><td>train loss</td><td>█▅▃▂▂▂▁▁▁▁</td></tr><tr><td>val_accuracy</td><td>▁▃▄▆▆▇▇███</td></tr></table><br/></div><div class=\"wandb-col\"><h3>Run summary:</h3><br/><table class=\"wandb\"><tr><td>epoch</td><td>10</td></tr><tr><td>train accuracy</td><td>94.61741</td></tr><tr><td>train loss</td><td>0.84072</td></tr><tr><td>val_accuracy</td><td>93.88667</td></tr></table><br/></div></div>"
            ]
          },
          "metadata": {}
        },
        {
          "output_type": "display_data",
          "data": {
            "text/plain": [
              "<IPython.core.display.HTML object>"
            ],
            "text/html": [
              " View run <strong style=\"color:#cdcd00\">solar-sweep-1</strong> at: <a href='https://wandb.ai/abhinavtk/wandb-basics/runs/1q83xee1' target=\"_blank\">https://wandb.ai/abhinavtk/wandb-basics/runs/1q83xee1</a><br/>Synced 5 W&B file(s), 0 media file(s), 0 artifact file(s) and 0 other file(s)"
            ]
          },
          "metadata": {}
        },
        {
          "output_type": "display_data",
          "data": {
            "text/plain": [
              "<IPython.core.display.HTML object>"
            ],
            "text/html": [
              "Find logs at: <code>./wandb/run-20240311_123412-1q83xee1/logs</code>"
            ]
          },
          "metadata": {}
        },
        {
          "output_type": "stream",
          "name": "stderr",
          "text": [
            "\u001b[34m\u001b[1mwandb\u001b[0m: Agent Starting Run: l9ikbgga with config:\n",
            "\u001b[34m\u001b[1mwandb\u001b[0m: \tact_fn: sigmoid\n",
            "\u001b[34m\u001b[1mwandb\u001b[0m: \tbatch_size: 16\n",
            "\u001b[34m\u001b[1mwandb\u001b[0m: \tepochs: 5\n",
            "\u001b[34m\u001b[1mwandb\u001b[0m: \tl2_reg: 0\n",
            "\u001b[34m\u001b[1mwandb\u001b[0m: \tlearning_rate: 0.001\n",
            "\u001b[34m\u001b[1mwandb\u001b[0m: \tnum_hidden_layers: 3\n",
            "\u001b[34m\u001b[1mwandb\u001b[0m: \tnum_neurons: 32\n",
            "\u001b[34m\u001b[1mwandb\u001b[0m: \toptimizer: momentum\n",
            "\u001b[34m\u001b[1mwandb\u001b[0m: \tweight_init: xavier\n"
          ]
        },
        {
          "output_type": "display_data",
          "data": {
            "text/plain": [
              "<IPython.core.display.HTML object>"
            ],
            "text/html": [
              "Tracking run with wandb version 0.16.4"
            ]
          },
          "metadata": {}
        },
        {
          "output_type": "display_data",
          "data": {
            "text/plain": [
              "<IPython.core.display.HTML object>"
            ],
            "text/html": [
              "Run data is saved locally in <code>/content/wandb/run-20240311_123545-l9ikbgga</code>"
            ]
          },
          "metadata": {}
        },
        {
          "output_type": "display_data",
          "data": {
            "text/plain": [
              "<IPython.core.display.HTML object>"
            ],
            "text/html": [
              "Syncing run <strong><a href='https://wandb.ai/abhinavtk/wandb-basics/runs/l9ikbgga' target=\"_blank\">dark-sweep-2</a></strong> to <a href='https://wandb.ai/abhinavtk/wandb-basics' target=\"_blank\">Weights & Biases</a> (<a href='https://wandb.me/run' target=\"_blank\">docs</a>)<br/>Sweep page: <a href='https://wandb.ai/abhinavtk/wandb-basics/sweeps/n6we5uyl' target=\"_blank\">https://wandb.ai/abhinavtk/wandb-basics/sweeps/n6we5uyl</a>"
            ]
          },
          "metadata": {}
        },
        {
          "output_type": "display_data",
          "data": {
            "text/plain": [
              "<IPython.core.display.HTML object>"
            ],
            "text/html": [
              " View project at <a href='https://wandb.ai/abhinavtk/wandb-basics' target=\"_blank\">https://wandb.ai/abhinavtk/wandb-basics</a>"
            ]
          },
          "metadata": {}
        },
        {
          "output_type": "display_data",
          "data": {
            "text/plain": [
              "<IPython.core.display.HTML object>"
            ],
            "text/html": [
              " View sweep at <a href='https://wandb.ai/abhinavtk/wandb-basics/sweeps/n6we5uyl' target=\"_blank\">https://wandb.ai/abhinavtk/wandb-basics/sweeps/n6we5uyl</a>"
            ]
          },
          "metadata": {}
        },
        {
          "output_type": "display_data",
          "data": {
            "text/plain": [
              "<IPython.core.display.HTML object>"
            ],
            "text/html": [
              " View run at <a href='https://wandb.ai/abhinavtk/wandb-basics/runs/l9ikbgga' target=\"_blank\">https://wandb.ai/abhinavtk/wandb-basics/runs/l9ikbgga</a>"
            ]
          },
          "metadata": {}
        },
        {
          "output_type": "stream",
          "name": "stdout",
          "text": [
            "Epochs =  0 \tTraining cost: 3.2003514221858738 \tAccuracy: 0.9119518518518519 \t Validation Accuracy: 0.91\n",
            "Epochs =  1 \tTraining cost: 2.1656509279951854 \tAccuracy: 0.9228444444444445 \t Validation Accuracy: 0.9195666666666666\n",
            "Epochs =  2 \tTraining cost: 1.6435924684809091 \tAccuracy: 0.9277740740740741 \t Validation Accuracy: 0.9221333333333334\n",
            "Epochs =  3 \tTraining cost: 1.335223395796518 \tAccuracy: 0.9341111111111111 \t Validation Accuracy: 0.9296333333333333\n",
            "Epochs =  4 \tTraining cost: 1.189423546142259 \tAccuracy: 0.9360740740740741 \t Validation Accuracy: 0.9315666666666667\n",
            "Epochs =  5 \tTraining cost: 1.0826888334195868 \tAccuracy: 0.9391037037037037 \t Validation Accuracy: 0.9352\n",
            "Epochs =  6 \tTraining cost: 1.001908892251492 \tAccuracy: 0.9408555555555556 \t Validation Accuracy: 0.9351\n",
            "Epochs =  7 \tTraining cost: 0.927766016763525 \tAccuracy: 0.9429592592592593 \t Validation Accuracy: 0.938\n",
            "Epochs =  8 \tTraining cost: 0.8819533172785067 \tAccuracy: 0.9452814814814815 \t Validation Accuracy: 0.9376333333333333\n",
            "Epochs =  9 \tTraining cost: 0.8407229471427216 \tAccuracy: 0.9461740740740741 \t Validation Accuracy: 0.9388666666666666\n"
          ]
        },
        {
          "output_type": "display_data",
          "data": {
            "text/plain": [
              "VBox(children=(Label(value='0.001 MB of 0.012 MB uploaded\\r'), FloatProgress(value=0.08676842706717819, max=1.…"
            ],
            "application/vnd.jupyter.widget-view+json": {
              "version_major": 2,
              "version_minor": 0,
              "model_id": "c5f5f0e80211448cb33e6bf9f0ab4d2a"
            }
          },
          "metadata": {}
        },
        {
          "output_type": "display_data",
          "data": {
            "text/plain": [
              "<IPython.core.display.HTML object>"
            ],
            "text/html": [
              "<style>\n",
              "    table.wandb td:nth-child(1) { padding: 0 10px; text-align: left ; width: auto;} td:nth-child(2) {text-align: left ; width: 100%}\n",
              "    .wandb-row { display: flex; flex-direction: row; flex-wrap: wrap; justify-content: flex-start; width: 100% }\n",
              "    .wandb-col { display: flex; flex-direction: column; flex-basis: 100%; flex: 1; padding: 10px; }\n",
              "    </style>\n",
              "<div class=\"wandb-row\"><div class=\"wandb-col\"><h3>Run history:</h3><br/><table class=\"wandb\"><tr><td>epoch</td><td>▁▂▃▃▄▅▆▆▇█</td></tr><tr><td>train accuracy</td><td>▁▃▄▆▆▇▇▇██</td></tr><tr><td>train loss</td><td>█▅▃▂▂▂▁▁▁▁</td></tr><tr><td>val_accuracy</td><td>▁▃▄▆▆▇▇███</td></tr></table><br/></div><div class=\"wandb-col\"><h3>Run summary:</h3><br/><table class=\"wandb\"><tr><td>epoch</td><td>10</td></tr><tr><td>train accuracy</td><td>94.61741</td></tr><tr><td>train loss</td><td>0.84072</td></tr><tr><td>val_accuracy</td><td>93.88667</td></tr></table><br/></div></div>"
            ]
          },
          "metadata": {}
        },
        {
          "output_type": "display_data",
          "data": {
            "text/plain": [
              "<IPython.core.display.HTML object>"
            ],
            "text/html": [
              " View run <strong style=\"color:#cdcd00\">dark-sweep-2</strong> at: <a href='https://wandb.ai/abhinavtk/wandb-basics/runs/l9ikbgga' target=\"_blank\">https://wandb.ai/abhinavtk/wandb-basics/runs/l9ikbgga</a><br/>Synced 5 W&B file(s), 0 media file(s), 0 artifact file(s) and 0 other file(s)"
            ]
          },
          "metadata": {}
        },
        {
          "output_type": "display_data",
          "data": {
            "text/plain": [
              "<IPython.core.display.HTML object>"
            ],
            "text/html": [
              "Find logs at: <code>./wandb/run-20240311_123545-l9ikbgga/logs</code>"
            ]
          },
          "metadata": {}
        },
        {
          "output_type": "stream",
          "name": "stderr",
          "text": [
            "\u001b[34m\u001b[1mwandb\u001b[0m: Agent Starting Run: 0hql5i9w with config:\n",
            "\u001b[34m\u001b[1mwandb\u001b[0m: \tact_fn: sigmoid\n",
            "\u001b[34m\u001b[1mwandb\u001b[0m: \tbatch_size: 16\n",
            "\u001b[34m\u001b[1mwandb\u001b[0m: \tepochs: 5\n",
            "\u001b[34m\u001b[1mwandb\u001b[0m: \tl2_reg: 0\n",
            "\u001b[34m\u001b[1mwandb\u001b[0m: \tlearning_rate: 0.001\n",
            "\u001b[34m\u001b[1mwandb\u001b[0m: \tnum_hidden_layers: 3\n",
            "\u001b[34m\u001b[1mwandb\u001b[0m: \tnum_neurons: 64\n",
            "\u001b[34m\u001b[1mwandb\u001b[0m: \toptimizer: momentum\n",
            "\u001b[34m\u001b[1mwandb\u001b[0m: \tweight_init: random\n"
          ]
        },
        {
          "output_type": "display_data",
          "data": {
            "text/plain": [
              "<IPython.core.display.HTML object>"
            ],
            "text/html": [
              "Tracking run with wandb version 0.16.4"
            ]
          },
          "metadata": {}
        },
        {
          "output_type": "display_data",
          "data": {
            "text/plain": [
              "<IPython.core.display.HTML object>"
            ],
            "text/html": [
              "Run data is saved locally in <code>/content/wandb/run-20240311_123717-0hql5i9w</code>"
            ]
          },
          "metadata": {}
        },
        {
          "output_type": "display_data",
          "data": {
            "text/plain": [
              "<IPython.core.display.HTML object>"
            ],
            "text/html": [
              "Syncing run <strong><a href='https://wandb.ai/abhinavtk/wandb-basics/runs/0hql5i9w' target=\"_blank\">grateful-sweep-3</a></strong> to <a href='https://wandb.ai/abhinavtk/wandb-basics' target=\"_blank\">Weights & Biases</a> (<a href='https://wandb.me/run' target=\"_blank\">docs</a>)<br/>Sweep page: <a href='https://wandb.ai/abhinavtk/wandb-basics/sweeps/n6we5uyl' target=\"_blank\">https://wandb.ai/abhinavtk/wandb-basics/sweeps/n6we5uyl</a>"
            ]
          },
          "metadata": {}
        },
        {
          "output_type": "display_data",
          "data": {
            "text/plain": [
              "<IPython.core.display.HTML object>"
            ],
            "text/html": [
              " View project at <a href='https://wandb.ai/abhinavtk/wandb-basics' target=\"_blank\">https://wandb.ai/abhinavtk/wandb-basics</a>"
            ]
          },
          "metadata": {}
        },
        {
          "output_type": "display_data",
          "data": {
            "text/plain": [
              "<IPython.core.display.HTML object>"
            ],
            "text/html": [
              " View sweep at <a href='https://wandb.ai/abhinavtk/wandb-basics/sweeps/n6we5uyl' target=\"_blank\">https://wandb.ai/abhinavtk/wandb-basics/sweeps/n6we5uyl</a>"
            ]
          },
          "metadata": {}
        },
        {
          "output_type": "display_data",
          "data": {
            "text/plain": [
              "<IPython.core.display.HTML object>"
            ],
            "text/html": [
              " View run at <a href='https://wandb.ai/abhinavtk/wandb-basics/runs/0hql5i9w' target=\"_blank\">https://wandb.ai/abhinavtk/wandb-basics/runs/0hql5i9w</a>"
            ]
          },
          "metadata": {}
        },
        {
          "output_type": "stream",
          "name": "stdout",
          "text": [
            "Epochs =  0 \tTraining cost: 3.2003514221858738 \tAccuracy: 0.9119518518518519 \t Validation Accuracy: 0.91\n",
            "Epochs =  1 \tTraining cost: 2.1656509279951854 \tAccuracy: 0.9228444444444445 \t Validation Accuracy: 0.9195666666666666\n",
            "Epochs =  2 \tTraining cost: 1.6435924684809091 \tAccuracy: 0.9277740740740741 \t Validation Accuracy: 0.9221333333333334\n",
            "Epochs =  3 \tTraining cost: 1.335223395796518 \tAccuracy: 0.9341111111111111 \t Validation Accuracy: 0.9296333333333333\n",
            "Epochs =  4 \tTraining cost: 1.189423546142259 \tAccuracy: 0.9360740740740741 \t Validation Accuracy: 0.9315666666666667\n",
            "Epochs =  5 \tTraining cost: 1.0826888334195868 \tAccuracy: 0.9391037037037037 \t Validation Accuracy: 0.9352\n",
            "Epochs =  6 \tTraining cost: 1.001908892251492 \tAccuracy: 0.9408555555555556 \t Validation Accuracy: 0.9351\n",
            "Epochs =  7 \tTraining cost: 0.927766016763525 \tAccuracy: 0.9429592592592593 \t Validation Accuracy: 0.938\n",
            "Epochs =  8 \tTraining cost: 0.8819533172785067 \tAccuracy: 0.9452814814814815 \t Validation Accuracy: 0.9376333333333333\n",
            "Epochs =  9 \tTraining cost: 0.8407229471427216 \tAccuracy: 0.9461740740740741 \t Validation Accuracy: 0.9388666666666666\n"
          ]
        },
        {
          "output_type": "display_data",
          "data": {
            "text/plain": [
              "VBox(children=(Label(value='0.001 MB of 0.001 MB uploaded\\r'), FloatProgress(value=1.0, max=1.0)))"
            ],
            "application/vnd.jupyter.widget-view+json": {
              "version_major": 2,
              "version_minor": 0,
              "model_id": "26b4fd177cb641cb9e27f486258d28ac"
            }
          },
          "metadata": {}
        },
        {
          "output_type": "display_data",
          "data": {
            "text/plain": [
              "<IPython.core.display.HTML object>"
            ],
            "text/html": [
              "<style>\n",
              "    table.wandb td:nth-child(1) { padding: 0 10px; text-align: left ; width: auto;} td:nth-child(2) {text-align: left ; width: 100%}\n",
              "    .wandb-row { display: flex; flex-direction: row; flex-wrap: wrap; justify-content: flex-start; width: 100% }\n",
              "    .wandb-col { display: flex; flex-direction: column; flex-basis: 100%; flex: 1; padding: 10px; }\n",
              "    </style>\n",
              "<div class=\"wandb-row\"><div class=\"wandb-col\"><h3>Run history:</h3><br/><table class=\"wandb\"><tr><td>epoch</td><td>▁▂▃▃▄▅▆▆▇█</td></tr><tr><td>train accuracy</td><td>▁▃▄▆▆▇▇▇██</td></tr><tr><td>train loss</td><td>█▅▃▂▂▂▁▁▁▁</td></tr><tr><td>val_accuracy</td><td>▁▃▄▆▆▇▇███</td></tr></table><br/></div><div class=\"wandb-col\"><h3>Run summary:</h3><br/><table class=\"wandb\"><tr><td>epoch</td><td>10</td></tr><tr><td>train accuracy</td><td>94.61741</td></tr><tr><td>train loss</td><td>0.84072</td></tr><tr><td>val_accuracy</td><td>93.88667</td></tr></table><br/></div></div>"
            ]
          },
          "metadata": {}
        },
        {
          "output_type": "display_data",
          "data": {
            "text/plain": [
              "<IPython.core.display.HTML object>"
            ],
            "text/html": [
              " View run <strong style=\"color:#cdcd00\">grateful-sweep-3</strong> at: <a href='https://wandb.ai/abhinavtk/wandb-basics/runs/0hql5i9w' target=\"_blank\">https://wandb.ai/abhinavtk/wandb-basics/runs/0hql5i9w</a><br/>Synced 5 W&B file(s), 0 media file(s), 0 artifact file(s) and 0 other file(s)"
            ]
          },
          "metadata": {}
        },
        {
          "output_type": "display_data",
          "data": {
            "text/plain": [
              "<IPython.core.display.HTML object>"
            ],
            "text/html": [
              "Find logs at: <code>./wandb/run-20240311_123717-0hql5i9w/logs</code>"
            ]
          },
          "metadata": {}
        },
        {
          "output_type": "stream",
          "name": "stderr",
          "text": [
            "\u001b[34m\u001b[1mwandb\u001b[0m: Agent Starting Run: nk4vnv96 with config:\n",
            "\u001b[34m\u001b[1mwandb\u001b[0m: \tact_fn: sigmoid\n",
            "\u001b[34m\u001b[1mwandb\u001b[0m: \tbatch_size: 16\n",
            "\u001b[34m\u001b[1mwandb\u001b[0m: \tepochs: 5\n",
            "\u001b[34m\u001b[1mwandb\u001b[0m: \tl2_reg: 0\n",
            "\u001b[34m\u001b[1mwandb\u001b[0m: \tlearning_rate: 0.001\n",
            "\u001b[34m\u001b[1mwandb\u001b[0m: \tnum_hidden_layers: 3\n",
            "\u001b[34m\u001b[1mwandb\u001b[0m: \tnum_neurons: 64\n",
            "\u001b[34m\u001b[1mwandb\u001b[0m: \toptimizer: momentum\n",
            "\u001b[34m\u001b[1mwandb\u001b[0m: \tweight_init: xavier\n"
          ]
        },
        {
          "output_type": "display_data",
          "data": {
            "text/plain": [
              "<IPython.core.display.HTML object>"
            ],
            "text/html": [
              "Tracking run with wandb version 0.16.4"
            ]
          },
          "metadata": {}
        },
        {
          "output_type": "display_data",
          "data": {
            "text/plain": [
              "<IPython.core.display.HTML object>"
            ],
            "text/html": [
              "Run data is saved locally in <code>/content/wandb/run-20240311_123848-nk4vnv96</code>"
            ]
          },
          "metadata": {}
        },
        {
          "output_type": "display_data",
          "data": {
            "text/plain": [
              "<IPython.core.display.HTML object>"
            ],
            "text/html": [
              "Syncing run <strong><a href='https://wandb.ai/abhinavtk/wandb-basics/runs/nk4vnv96' target=\"_blank\">glorious-sweep-4</a></strong> to <a href='https://wandb.ai/abhinavtk/wandb-basics' target=\"_blank\">Weights & Biases</a> (<a href='https://wandb.me/run' target=\"_blank\">docs</a>)<br/>Sweep page: <a href='https://wandb.ai/abhinavtk/wandb-basics/sweeps/n6we5uyl' target=\"_blank\">https://wandb.ai/abhinavtk/wandb-basics/sweeps/n6we5uyl</a>"
            ]
          },
          "metadata": {}
        },
        {
          "output_type": "display_data",
          "data": {
            "text/plain": [
              "<IPython.core.display.HTML object>"
            ],
            "text/html": [
              " View project at <a href='https://wandb.ai/abhinavtk/wandb-basics' target=\"_blank\">https://wandb.ai/abhinavtk/wandb-basics</a>"
            ]
          },
          "metadata": {}
        },
        {
          "output_type": "display_data",
          "data": {
            "text/plain": [
              "<IPython.core.display.HTML object>"
            ],
            "text/html": [
              " View sweep at <a href='https://wandb.ai/abhinavtk/wandb-basics/sweeps/n6we5uyl' target=\"_blank\">https://wandb.ai/abhinavtk/wandb-basics/sweeps/n6we5uyl</a>"
            ]
          },
          "metadata": {}
        },
        {
          "output_type": "display_data",
          "data": {
            "text/plain": [
              "<IPython.core.display.HTML object>"
            ],
            "text/html": [
              " View run at <a href='https://wandb.ai/abhinavtk/wandb-basics/runs/nk4vnv96' target=\"_blank\">https://wandb.ai/abhinavtk/wandb-basics/runs/nk4vnv96</a>"
            ]
          },
          "metadata": {}
        },
        {
          "output_type": "stream",
          "name": "stdout",
          "text": [
            "Epochs =  0 \tTraining cost: 3.2003514221858738 \tAccuracy: 0.9119518518518519 \t Validation Accuracy: 0.91\n",
            "Epochs =  1 \tTraining cost: 2.1656509279951854 \tAccuracy: 0.9228444444444445 \t Validation Accuracy: 0.9195666666666666\n",
            "Epochs =  2 \tTraining cost: 1.6435924684809091 \tAccuracy: 0.9277740740740741 \t Validation Accuracy: 0.9221333333333334\n",
            "Epochs =  3 \tTraining cost: 1.335223395796518 \tAccuracy: 0.9341111111111111 \t Validation Accuracy: 0.9296333333333333\n",
            "Epochs =  4 \tTraining cost: 1.189423546142259 \tAccuracy: 0.9360740740740741 \t Validation Accuracy: 0.9315666666666667\n",
            "Epochs =  5 \tTraining cost: 1.0826888334195868 \tAccuracy: 0.9391037037037037 \t Validation Accuracy: 0.9352\n",
            "Epochs =  6 \tTraining cost: 1.001908892251492 \tAccuracy: 0.9408555555555556 \t Validation Accuracy: 0.9351\n",
            "Epochs =  7 \tTraining cost: 0.927766016763525 \tAccuracy: 0.9429592592592593 \t Validation Accuracy: 0.938\n",
            "Epochs =  8 \tTraining cost: 0.8819533172785067 \tAccuracy: 0.9452814814814815 \t Validation Accuracy: 0.9376333333333333\n",
            "Epochs =  9 \tTraining cost: 0.8407229471427216 \tAccuracy: 0.9461740740740741 \t Validation Accuracy: 0.9388666666666666\n"
          ]
        },
        {
          "output_type": "display_data",
          "data": {
            "text/plain": [
              "VBox(children=(Label(value='0.001 MB of 0.001 MB uploaded\\r'), FloatProgress(value=1.0, max=1.0)))"
            ],
            "application/vnd.jupyter.widget-view+json": {
              "version_major": 2,
              "version_minor": 0,
              "model_id": "715229ac7bc341e485b33cd67f415c94"
            }
          },
          "metadata": {}
        },
        {
          "output_type": "display_data",
          "data": {
            "text/plain": [
              "<IPython.core.display.HTML object>"
            ],
            "text/html": [
              "<style>\n",
              "    table.wandb td:nth-child(1) { padding: 0 10px; text-align: left ; width: auto;} td:nth-child(2) {text-align: left ; width: 100%}\n",
              "    .wandb-row { display: flex; flex-direction: row; flex-wrap: wrap; justify-content: flex-start; width: 100% }\n",
              "    .wandb-col { display: flex; flex-direction: column; flex-basis: 100%; flex: 1; padding: 10px; }\n",
              "    </style>\n",
              "<div class=\"wandb-row\"><div class=\"wandb-col\"><h3>Run history:</h3><br/><table class=\"wandb\"><tr><td>epoch</td><td>▁▂▃▃▄▅▆▆▇█</td></tr><tr><td>train accuracy</td><td>▁▃▄▆▆▇▇▇██</td></tr><tr><td>train loss</td><td>█▅▃▂▂▂▁▁▁▁</td></tr><tr><td>val_accuracy</td><td>▁▃▄▆▆▇▇███</td></tr></table><br/></div><div class=\"wandb-col\"><h3>Run summary:</h3><br/><table class=\"wandb\"><tr><td>epoch</td><td>10</td></tr><tr><td>train accuracy</td><td>94.61741</td></tr><tr><td>train loss</td><td>0.84072</td></tr><tr><td>val_accuracy</td><td>93.88667</td></tr></table><br/></div></div>"
            ]
          },
          "metadata": {}
        },
        {
          "output_type": "display_data",
          "data": {
            "text/plain": [
              "<IPython.core.display.HTML object>"
            ],
            "text/html": [
              " View run <strong style=\"color:#cdcd00\">glorious-sweep-4</strong> at: <a href='https://wandb.ai/abhinavtk/wandb-basics/runs/nk4vnv96' target=\"_blank\">https://wandb.ai/abhinavtk/wandb-basics/runs/nk4vnv96</a><br/>Synced 5 W&B file(s), 0 media file(s), 0 artifact file(s) and 0 other file(s)"
            ]
          },
          "metadata": {}
        },
        {
          "output_type": "display_data",
          "data": {
            "text/plain": [
              "<IPython.core.display.HTML object>"
            ],
            "text/html": [
              "Find logs at: <code>./wandb/run-20240311_123848-nk4vnv96/logs</code>"
            ]
          },
          "metadata": {}
        },
        {
          "output_type": "stream",
          "name": "stderr",
          "text": [
            "\u001b[34m\u001b[1mwandb\u001b[0m: Agent Starting Run: zqs4zn5v with config:\n",
            "\u001b[34m\u001b[1mwandb\u001b[0m: \tact_fn: sigmoid\n",
            "\u001b[34m\u001b[1mwandb\u001b[0m: \tbatch_size: 16\n",
            "\u001b[34m\u001b[1mwandb\u001b[0m: \tepochs: 5\n",
            "\u001b[34m\u001b[1mwandb\u001b[0m: \tl2_reg: 0\n",
            "\u001b[34m\u001b[1mwandb\u001b[0m: \tlearning_rate: 0.001\n",
            "\u001b[34m\u001b[1mwandb\u001b[0m: \tnum_hidden_layers: 3\n",
            "\u001b[34m\u001b[1mwandb\u001b[0m: \tnum_neurons: 128\n",
            "\u001b[34m\u001b[1mwandb\u001b[0m: \toptimizer: momentum\n",
            "\u001b[34m\u001b[1mwandb\u001b[0m: \tweight_init: random\n"
          ]
        },
        {
          "output_type": "display_data",
          "data": {
            "text/plain": [
              "<IPython.core.display.HTML object>"
            ],
            "text/html": [
              "Tracking run with wandb version 0.16.4"
            ]
          },
          "metadata": {}
        },
        {
          "output_type": "display_data",
          "data": {
            "text/plain": [
              "<IPython.core.display.HTML object>"
            ],
            "text/html": [
              "Run data is saved locally in <code>/content/wandb/run-20240311_124020-zqs4zn5v</code>"
            ]
          },
          "metadata": {}
        },
        {
          "output_type": "display_data",
          "data": {
            "text/plain": [
              "<IPython.core.display.HTML object>"
            ],
            "text/html": [
              "Syncing run <strong><a href='https://wandb.ai/abhinavtk/wandb-basics/runs/zqs4zn5v' target=\"_blank\">woven-sweep-5</a></strong> to <a href='https://wandb.ai/abhinavtk/wandb-basics' target=\"_blank\">Weights & Biases</a> (<a href='https://wandb.me/run' target=\"_blank\">docs</a>)<br/>Sweep page: <a href='https://wandb.ai/abhinavtk/wandb-basics/sweeps/n6we5uyl' target=\"_blank\">https://wandb.ai/abhinavtk/wandb-basics/sweeps/n6we5uyl</a>"
            ]
          },
          "metadata": {}
        },
        {
          "output_type": "display_data",
          "data": {
            "text/plain": [
              "<IPython.core.display.HTML object>"
            ],
            "text/html": [
              " View project at <a href='https://wandb.ai/abhinavtk/wandb-basics' target=\"_blank\">https://wandb.ai/abhinavtk/wandb-basics</a>"
            ]
          },
          "metadata": {}
        },
        {
          "output_type": "display_data",
          "data": {
            "text/plain": [
              "<IPython.core.display.HTML object>"
            ],
            "text/html": [
              " View sweep at <a href='https://wandb.ai/abhinavtk/wandb-basics/sweeps/n6we5uyl' target=\"_blank\">https://wandb.ai/abhinavtk/wandb-basics/sweeps/n6we5uyl</a>"
            ]
          },
          "metadata": {}
        },
        {
          "output_type": "display_data",
          "data": {
            "text/plain": [
              "<IPython.core.display.HTML object>"
            ],
            "text/html": [
              " View run at <a href='https://wandb.ai/abhinavtk/wandb-basics/runs/zqs4zn5v' target=\"_blank\">https://wandb.ai/abhinavtk/wandb-basics/runs/zqs4zn5v</a>"
            ]
          },
          "metadata": {}
        },
        {
          "output_type": "stream",
          "name": "stdout",
          "text": [
            "Epochs =  0 \tTraining cost: 3.2003514221858738 \tAccuracy: 0.9119518518518519 \t Validation Accuracy: 0.91\n",
            "Epochs =  1 \tTraining cost: 2.1656509279951854 \tAccuracy: 0.9228444444444445 \t Validation Accuracy: 0.9195666666666666\n",
            "Epochs =  2 \tTraining cost: 1.6435924684809091 \tAccuracy: 0.9277740740740741 \t Validation Accuracy: 0.9221333333333334\n",
            "Epochs =  3 \tTraining cost: 1.335223395796518 \tAccuracy: 0.9341111111111111 \t Validation Accuracy: 0.9296333333333333\n",
            "Epochs =  4 \tTraining cost: 1.189423546142259 \tAccuracy: 0.9360740740740741 \t Validation Accuracy: 0.9315666666666667\n",
            "Epochs =  5 \tTraining cost: 1.0826888334195868 \tAccuracy: 0.9391037037037037 \t Validation Accuracy: 0.9352\n",
            "Epochs =  6 \tTraining cost: 1.001908892251492 \tAccuracy: 0.9408555555555556 \t Validation Accuracy: 0.9351\n",
            "Epochs =  7 \tTraining cost: 0.927766016763525 \tAccuracy: 0.9429592592592593 \t Validation Accuracy: 0.938\n",
            "Epochs =  8 \tTraining cost: 0.8819533172785067 \tAccuracy: 0.9452814814814815 \t Validation Accuracy: 0.9376333333333333\n",
            "Epochs =  9 \tTraining cost: 0.8407229471427216 \tAccuracy: 0.9461740740740741 \t Validation Accuracy: 0.9388666666666666\n"
          ]
        },
        {
          "output_type": "display_data",
          "data": {
            "text/plain": [
              "VBox(children=(Label(value='0.001 MB of 0.001 MB uploaded\\r'), FloatProgress(value=1.0, max=1.0)))"
            ],
            "application/vnd.jupyter.widget-view+json": {
              "version_major": 2,
              "version_minor": 0,
              "model_id": "ddb0ed58963b43f9a20bc92b7322a38e"
            }
          },
          "metadata": {}
        },
        {
          "output_type": "display_data",
          "data": {
            "text/plain": [
              "<IPython.core.display.HTML object>"
            ],
            "text/html": [
              "<style>\n",
              "    table.wandb td:nth-child(1) { padding: 0 10px; text-align: left ; width: auto;} td:nth-child(2) {text-align: left ; width: 100%}\n",
              "    .wandb-row { display: flex; flex-direction: row; flex-wrap: wrap; justify-content: flex-start; width: 100% }\n",
              "    .wandb-col { display: flex; flex-direction: column; flex-basis: 100%; flex: 1; padding: 10px; }\n",
              "    </style>\n",
              "<div class=\"wandb-row\"><div class=\"wandb-col\"><h3>Run history:</h3><br/><table class=\"wandb\"><tr><td>epoch</td><td>▁▂▃▃▄▅▆▆▇█</td></tr><tr><td>train accuracy</td><td>▁▃▄▆▆▇▇▇██</td></tr><tr><td>train loss</td><td>█▅▃▂▂▂▁▁▁▁</td></tr><tr><td>val_accuracy</td><td>▁▃▄▆▆▇▇███</td></tr></table><br/></div><div class=\"wandb-col\"><h3>Run summary:</h3><br/><table class=\"wandb\"><tr><td>epoch</td><td>10</td></tr><tr><td>train accuracy</td><td>94.61741</td></tr><tr><td>train loss</td><td>0.84072</td></tr><tr><td>val_accuracy</td><td>93.88667</td></tr></table><br/></div></div>"
            ]
          },
          "metadata": {}
        },
        {
          "output_type": "display_data",
          "data": {
            "text/plain": [
              "<IPython.core.display.HTML object>"
            ],
            "text/html": [
              " View run <strong style=\"color:#cdcd00\">woven-sweep-5</strong> at: <a href='https://wandb.ai/abhinavtk/wandb-basics/runs/zqs4zn5v' target=\"_blank\">https://wandb.ai/abhinavtk/wandb-basics/runs/zqs4zn5v</a><br/>Synced 5 W&B file(s), 0 media file(s), 0 artifact file(s) and 0 other file(s)"
            ]
          },
          "metadata": {}
        },
        {
          "output_type": "display_data",
          "data": {
            "text/plain": [
              "<IPython.core.display.HTML object>"
            ],
            "text/html": [
              "Find logs at: <code>./wandb/run-20240311_124020-zqs4zn5v/logs</code>"
            ]
          },
          "metadata": {}
        },
        {
          "output_type": "stream",
          "name": "stderr",
          "text": [
            "\u001b[34m\u001b[1mwandb\u001b[0m: Agent Starting Run: y2nq7rag with config:\n",
            "\u001b[34m\u001b[1mwandb\u001b[0m: \tact_fn: sigmoid\n",
            "\u001b[34m\u001b[1mwandb\u001b[0m: \tbatch_size: 16\n",
            "\u001b[34m\u001b[1mwandb\u001b[0m: \tepochs: 5\n",
            "\u001b[34m\u001b[1mwandb\u001b[0m: \tl2_reg: 0\n",
            "\u001b[34m\u001b[1mwandb\u001b[0m: \tlearning_rate: 0.001\n",
            "\u001b[34m\u001b[1mwandb\u001b[0m: \tnum_hidden_layers: 3\n",
            "\u001b[34m\u001b[1mwandb\u001b[0m: \tnum_neurons: 128\n",
            "\u001b[34m\u001b[1mwandb\u001b[0m: \toptimizer: momentum\n",
            "\u001b[34m\u001b[1mwandb\u001b[0m: \tweight_init: xavier\n"
          ]
        },
        {
          "output_type": "display_data",
          "data": {
            "text/plain": [
              "<IPython.core.display.HTML object>"
            ],
            "text/html": [
              "Tracking run with wandb version 0.16.4"
            ]
          },
          "metadata": {}
        },
        {
          "output_type": "display_data",
          "data": {
            "text/plain": [
              "<IPython.core.display.HTML object>"
            ],
            "text/html": [
              "Run data is saved locally in <code>/content/wandb/run-20240311_124151-y2nq7rag</code>"
            ]
          },
          "metadata": {}
        },
        {
          "output_type": "display_data",
          "data": {
            "text/plain": [
              "<IPython.core.display.HTML object>"
            ],
            "text/html": [
              "Syncing run <strong><a href='https://wandb.ai/abhinavtk/wandb-basics/runs/y2nq7rag' target=\"_blank\">light-sweep-6</a></strong> to <a href='https://wandb.ai/abhinavtk/wandb-basics' target=\"_blank\">Weights & Biases</a> (<a href='https://wandb.me/run' target=\"_blank\">docs</a>)<br/>Sweep page: <a href='https://wandb.ai/abhinavtk/wandb-basics/sweeps/n6we5uyl' target=\"_blank\">https://wandb.ai/abhinavtk/wandb-basics/sweeps/n6we5uyl</a>"
            ]
          },
          "metadata": {}
        },
        {
          "output_type": "display_data",
          "data": {
            "text/plain": [
              "<IPython.core.display.HTML object>"
            ],
            "text/html": [
              " View project at <a href='https://wandb.ai/abhinavtk/wandb-basics' target=\"_blank\">https://wandb.ai/abhinavtk/wandb-basics</a>"
            ]
          },
          "metadata": {}
        },
        {
          "output_type": "display_data",
          "data": {
            "text/plain": [
              "<IPython.core.display.HTML object>"
            ],
            "text/html": [
              " View sweep at <a href='https://wandb.ai/abhinavtk/wandb-basics/sweeps/n6we5uyl' target=\"_blank\">https://wandb.ai/abhinavtk/wandb-basics/sweeps/n6we5uyl</a>"
            ]
          },
          "metadata": {}
        },
        {
          "output_type": "display_data",
          "data": {
            "text/plain": [
              "<IPython.core.display.HTML object>"
            ],
            "text/html": [
              " View run at <a href='https://wandb.ai/abhinavtk/wandb-basics/runs/y2nq7rag' target=\"_blank\">https://wandb.ai/abhinavtk/wandb-basics/runs/y2nq7rag</a>"
            ]
          },
          "metadata": {}
        },
        {
          "output_type": "stream",
          "name": "stdout",
          "text": [
            "Epochs =  0 \tTraining cost: 3.2003514221858738 \tAccuracy: 0.9119518518518519 \t Validation Accuracy: 0.91\n",
            "Epochs =  1 \tTraining cost: 2.1656509279951854 \tAccuracy: 0.9228444444444445 \t Validation Accuracy: 0.9195666666666666\n",
            "Epochs =  2 \tTraining cost: 1.6435924684809091 \tAccuracy: 0.9277740740740741 \t Validation Accuracy: 0.9221333333333334\n",
            "Epochs =  3 \tTraining cost: 1.335223395796518 \tAccuracy: 0.9341111111111111 \t Validation Accuracy: 0.9296333333333333\n",
            "Epochs =  4 \tTraining cost: 1.189423546142259 \tAccuracy: 0.9360740740740741 \t Validation Accuracy: 0.9315666666666667\n",
            "Epochs =  5 \tTraining cost: 1.0826888334195868 \tAccuracy: 0.9391037037037037 \t Validation Accuracy: 0.9352\n",
            "Epochs =  6 \tTraining cost: 1.001908892251492 \tAccuracy: 0.9408555555555556 \t Validation Accuracy: 0.9351\n",
            "Epochs =  7 \tTraining cost: 0.927766016763525 \tAccuracy: 0.9429592592592593 \t Validation Accuracy: 0.938\n",
            "Epochs =  8 \tTraining cost: 0.8819533172785067 \tAccuracy: 0.9452814814814815 \t Validation Accuracy: 0.9376333333333333\n",
            "Epochs =  9 \tTraining cost: 0.8407229471427216 \tAccuracy: 0.9461740740740741 \t Validation Accuracy: 0.9388666666666666\n"
          ]
        },
        {
          "output_type": "display_data",
          "data": {
            "text/plain": [
              "VBox(children=(Label(value='0.001 MB of 0.001 MB uploaded\\r'), FloatProgress(value=1.0, max=1.0)))"
            ],
            "application/vnd.jupyter.widget-view+json": {
              "version_major": 2,
              "version_minor": 0,
              "model_id": "fa36b2b56deb448eb30ae8d3cf929b14"
            }
          },
          "metadata": {}
        },
        {
          "output_type": "display_data",
          "data": {
            "text/plain": [
              "<IPython.core.display.HTML object>"
            ],
            "text/html": [
              "<style>\n",
              "    table.wandb td:nth-child(1) { padding: 0 10px; text-align: left ; width: auto;} td:nth-child(2) {text-align: left ; width: 100%}\n",
              "    .wandb-row { display: flex; flex-direction: row; flex-wrap: wrap; justify-content: flex-start; width: 100% }\n",
              "    .wandb-col { display: flex; flex-direction: column; flex-basis: 100%; flex: 1; padding: 10px; }\n",
              "    </style>\n",
              "<div class=\"wandb-row\"><div class=\"wandb-col\"><h3>Run history:</h3><br/><table class=\"wandb\"><tr><td>epoch</td><td>▁▂▃▃▄▅▆▆▇█</td></tr><tr><td>train accuracy</td><td>▁▃▄▆▆▇▇▇██</td></tr><tr><td>train loss</td><td>█▅▃▂▂▂▁▁▁▁</td></tr><tr><td>val_accuracy</td><td>▁▃▄▆▆▇▇███</td></tr></table><br/></div><div class=\"wandb-col\"><h3>Run summary:</h3><br/><table class=\"wandb\"><tr><td>epoch</td><td>10</td></tr><tr><td>train accuracy</td><td>94.61741</td></tr><tr><td>train loss</td><td>0.84072</td></tr><tr><td>val_accuracy</td><td>93.88667</td></tr></table><br/></div></div>"
            ]
          },
          "metadata": {}
        },
        {
          "output_type": "display_data",
          "data": {
            "text/plain": [
              "<IPython.core.display.HTML object>"
            ],
            "text/html": [
              " View run <strong style=\"color:#cdcd00\">light-sweep-6</strong> at: <a href='https://wandb.ai/abhinavtk/wandb-basics/runs/y2nq7rag' target=\"_blank\">https://wandb.ai/abhinavtk/wandb-basics/runs/y2nq7rag</a><br/>Synced 5 W&B file(s), 0 media file(s), 0 artifact file(s) and 0 other file(s)"
            ]
          },
          "metadata": {}
        },
        {
          "output_type": "display_data",
          "data": {
            "text/plain": [
              "<IPython.core.display.HTML object>"
            ],
            "text/html": [
              "Find logs at: <code>./wandb/run-20240311_124151-y2nq7rag/logs</code>"
            ]
          },
          "metadata": {}
        },
        {
          "output_type": "stream",
          "name": "stderr",
          "text": [
            "\u001b[34m\u001b[1mwandb\u001b[0m: Agent Starting Run: p2n75eoa with config:\n",
            "\u001b[34m\u001b[1mwandb\u001b[0m: \tact_fn: sigmoid\n",
            "\u001b[34m\u001b[1mwandb\u001b[0m: \tbatch_size: 16\n",
            "\u001b[34m\u001b[1mwandb\u001b[0m: \tepochs: 5\n",
            "\u001b[34m\u001b[1mwandb\u001b[0m: \tl2_reg: 0\n",
            "\u001b[34m\u001b[1mwandb\u001b[0m: \tlearning_rate: 0.001\n",
            "\u001b[34m\u001b[1mwandb\u001b[0m: \tnum_hidden_layers: 4\n",
            "\u001b[34m\u001b[1mwandb\u001b[0m: \tnum_neurons: 32\n",
            "\u001b[34m\u001b[1mwandb\u001b[0m: \toptimizer: momentum\n",
            "\u001b[34m\u001b[1mwandb\u001b[0m: \tweight_init: random\n"
          ]
        },
        {
          "output_type": "display_data",
          "data": {
            "text/plain": [
              "<IPython.core.display.HTML object>"
            ],
            "text/html": [
              "Tracking run with wandb version 0.16.4"
            ]
          },
          "metadata": {}
        },
        {
          "output_type": "display_data",
          "data": {
            "text/plain": [
              "<IPython.core.display.HTML object>"
            ],
            "text/html": [
              "Run data is saved locally in <code>/content/wandb/run-20240311_124323-p2n75eoa</code>"
            ]
          },
          "metadata": {}
        },
        {
          "output_type": "display_data",
          "data": {
            "text/plain": [
              "<IPython.core.display.HTML object>"
            ],
            "text/html": [
              "Syncing run <strong><a href='https://wandb.ai/abhinavtk/wandb-basics/runs/p2n75eoa' target=\"_blank\">dark-sweep-7</a></strong> to <a href='https://wandb.ai/abhinavtk/wandb-basics' target=\"_blank\">Weights & Biases</a> (<a href='https://wandb.me/run' target=\"_blank\">docs</a>)<br/>Sweep page: <a href='https://wandb.ai/abhinavtk/wandb-basics/sweeps/n6we5uyl' target=\"_blank\">https://wandb.ai/abhinavtk/wandb-basics/sweeps/n6we5uyl</a>"
            ]
          },
          "metadata": {}
        },
        {
          "output_type": "display_data",
          "data": {
            "text/plain": [
              "<IPython.core.display.HTML object>"
            ],
            "text/html": [
              " View project at <a href='https://wandb.ai/abhinavtk/wandb-basics' target=\"_blank\">https://wandb.ai/abhinavtk/wandb-basics</a>"
            ]
          },
          "metadata": {}
        },
        {
          "output_type": "display_data",
          "data": {
            "text/plain": [
              "<IPython.core.display.HTML object>"
            ],
            "text/html": [
              " View sweep at <a href='https://wandb.ai/abhinavtk/wandb-basics/sweeps/n6we5uyl' target=\"_blank\">https://wandb.ai/abhinavtk/wandb-basics/sweeps/n6we5uyl</a>"
            ]
          },
          "metadata": {}
        },
        {
          "output_type": "display_data",
          "data": {
            "text/plain": [
              "<IPython.core.display.HTML object>"
            ],
            "text/html": [
              " View run at <a href='https://wandb.ai/abhinavtk/wandb-basics/runs/p2n75eoa' target=\"_blank\">https://wandb.ai/abhinavtk/wandb-basics/runs/p2n75eoa</a>"
            ]
          },
          "metadata": {}
        },
        {
          "output_type": "stream",
          "name": "stdout",
          "text": [
            "Epochs =  0 \tTraining cost: 3.2003514221858738 \tAccuracy: 0.9119518518518519 \t Validation Accuracy: 0.91\n",
            "Epochs =  1 \tTraining cost: 2.1656509279951854 \tAccuracy: 0.9228444444444445 \t Validation Accuracy: 0.9195666666666666\n",
            "Epochs =  2 \tTraining cost: 1.6435924684809091 \tAccuracy: 0.9277740740740741 \t Validation Accuracy: 0.9221333333333334\n",
            "Epochs =  3 \tTraining cost: 1.335223395796518 \tAccuracy: 0.9341111111111111 \t Validation Accuracy: 0.9296333333333333\n",
            "Epochs =  4 \tTraining cost: 1.189423546142259 \tAccuracy: 0.9360740740740741 \t Validation Accuracy: 0.9315666666666667\n",
            "Epochs =  5 \tTraining cost: 1.0826888334195868 \tAccuracy: 0.9391037037037037 \t Validation Accuracy: 0.9352\n",
            "Epochs =  6 \tTraining cost: 1.001908892251492 \tAccuracy: 0.9408555555555556 \t Validation Accuracy: 0.9351\n",
            "Epochs =  7 \tTraining cost: 0.927766016763525 \tAccuracy: 0.9429592592592593 \t Validation Accuracy: 0.938\n",
            "Epochs =  8 \tTraining cost: 0.8819533172785067 \tAccuracy: 0.9452814814814815 \t Validation Accuracy: 0.9376333333333333\n",
            "Epochs =  9 \tTraining cost: 0.8407229471427216 \tAccuracy: 0.9461740740740741 \t Validation Accuracy: 0.9388666666666666\n"
          ]
        },
        {
          "output_type": "display_data",
          "data": {
            "text/plain": [
              "VBox(children=(Label(value='0.001 MB of 0.001 MB uploaded\\r'), FloatProgress(value=1.0, max=1.0)))"
            ],
            "application/vnd.jupyter.widget-view+json": {
              "version_major": 2,
              "version_minor": 0,
              "model_id": "ac885a81bd3144fd8a2259b76df2832d"
            }
          },
          "metadata": {}
        },
        {
          "output_type": "display_data",
          "data": {
            "text/plain": [
              "<IPython.core.display.HTML object>"
            ],
            "text/html": [
              "<style>\n",
              "    table.wandb td:nth-child(1) { padding: 0 10px; text-align: left ; width: auto;} td:nth-child(2) {text-align: left ; width: 100%}\n",
              "    .wandb-row { display: flex; flex-direction: row; flex-wrap: wrap; justify-content: flex-start; width: 100% }\n",
              "    .wandb-col { display: flex; flex-direction: column; flex-basis: 100%; flex: 1; padding: 10px; }\n",
              "    </style>\n",
              "<div class=\"wandb-row\"><div class=\"wandb-col\"><h3>Run history:</h3><br/><table class=\"wandb\"><tr><td>epoch</td><td>▁▂▃▃▄▅▆▆▇█</td></tr><tr><td>train accuracy</td><td>▁▃▄▆▆▇▇▇██</td></tr><tr><td>train loss</td><td>█▅▃▂▂▂▁▁▁▁</td></tr><tr><td>val_accuracy</td><td>▁▃▄▆▆▇▇███</td></tr></table><br/></div><div class=\"wandb-col\"><h3>Run summary:</h3><br/><table class=\"wandb\"><tr><td>epoch</td><td>10</td></tr><tr><td>train accuracy</td><td>94.61741</td></tr><tr><td>train loss</td><td>0.84072</td></tr><tr><td>val_accuracy</td><td>93.88667</td></tr></table><br/></div></div>"
            ]
          },
          "metadata": {}
        },
        {
          "output_type": "display_data",
          "data": {
            "text/plain": [
              "<IPython.core.display.HTML object>"
            ],
            "text/html": [
              " View run <strong style=\"color:#cdcd00\">dark-sweep-7</strong> at: <a href='https://wandb.ai/abhinavtk/wandb-basics/runs/p2n75eoa' target=\"_blank\">https://wandb.ai/abhinavtk/wandb-basics/runs/p2n75eoa</a><br/>Synced 5 W&B file(s), 0 media file(s), 0 artifact file(s) and 0 other file(s)"
            ]
          },
          "metadata": {}
        },
        {
          "output_type": "display_data",
          "data": {
            "text/plain": [
              "<IPython.core.display.HTML object>"
            ],
            "text/html": [
              "Find logs at: <code>./wandb/run-20240311_124323-p2n75eoa/logs</code>"
            ]
          },
          "metadata": {}
        },
        {
          "output_type": "stream",
          "name": "stderr",
          "text": [
            "\u001b[34m\u001b[1mwandb\u001b[0m: Agent Starting Run: ouj1pk4h with config:\n",
            "\u001b[34m\u001b[1mwandb\u001b[0m: \tact_fn: sigmoid\n",
            "\u001b[34m\u001b[1mwandb\u001b[0m: \tbatch_size: 16\n",
            "\u001b[34m\u001b[1mwandb\u001b[0m: \tepochs: 5\n",
            "\u001b[34m\u001b[1mwandb\u001b[0m: \tl2_reg: 0\n",
            "\u001b[34m\u001b[1mwandb\u001b[0m: \tlearning_rate: 0.001\n",
            "\u001b[34m\u001b[1mwandb\u001b[0m: \tnum_hidden_layers: 4\n",
            "\u001b[34m\u001b[1mwandb\u001b[0m: \tnum_neurons: 32\n",
            "\u001b[34m\u001b[1mwandb\u001b[0m: \toptimizer: momentum\n",
            "\u001b[34m\u001b[1mwandb\u001b[0m: \tweight_init: xavier\n"
          ]
        },
        {
          "output_type": "display_data",
          "data": {
            "text/plain": [
              "<IPython.core.display.HTML object>"
            ],
            "text/html": [
              "Tracking run with wandb version 0.16.4"
            ]
          },
          "metadata": {}
        },
        {
          "output_type": "display_data",
          "data": {
            "text/plain": [
              "<IPython.core.display.HTML object>"
            ],
            "text/html": [
              "Run data is saved locally in <code>/content/wandb/run-20240311_124454-ouj1pk4h</code>"
            ]
          },
          "metadata": {}
        },
        {
          "output_type": "display_data",
          "data": {
            "text/plain": [
              "<IPython.core.display.HTML object>"
            ],
            "text/html": [
              "Syncing run <strong><a href='https://wandb.ai/abhinavtk/wandb-basics/runs/ouj1pk4h' target=\"_blank\">pretty-sweep-8</a></strong> to <a href='https://wandb.ai/abhinavtk/wandb-basics' target=\"_blank\">Weights & Biases</a> (<a href='https://wandb.me/run' target=\"_blank\">docs</a>)<br/>Sweep page: <a href='https://wandb.ai/abhinavtk/wandb-basics/sweeps/n6we5uyl' target=\"_blank\">https://wandb.ai/abhinavtk/wandb-basics/sweeps/n6we5uyl</a>"
            ]
          },
          "metadata": {}
        },
        {
          "output_type": "display_data",
          "data": {
            "text/plain": [
              "<IPython.core.display.HTML object>"
            ],
            "text/html": [
              " View project at <a href='https://wandb.ai/abhinavtk/wandb-basics' target=\"_blank\">https://wandb.ai/abhinavtk/wandb-basics</a>"
            ]
          },
          "metadata": {}
        },
        {
          "output_type": "display_data",
          "data": {
            "text/plain": [
              "<IPython.core.display.HTML object>"
            ],
            "text/html": [
              " View sweep at <a href='https://wandb.ai/abhinavtk/wandb-basics/sweeps/n6we5uyl' target=\"_blank\">https://wandb.ai/abhinavtk/wandb-basics/sweeps/n6we5uyl</a>"
            ]
          },
          "metadata": {}
        },
        {
          "output_type": "display_data",
          "data": {
            "text/plain": [
              "<IPython.core.display.HTML object>"
            ],
            "text/html": [
              " View run at <a href='https://wandb.ai/abhinavtk/wandb-basics/runs/ouj1pk4h' target=\"_blank\">https://wandb.ai/abhinavtk/wandb-basics/runs/ouj1pk4h</a>"
            ]
          },
          "metadata": {}
        },
        {
          "output_type": "stream",
          "name": "stdout",
          "text": [
            "Epochs =  0 \tTraining cost: 3.2003514221858738 \tAccuracy: 0.9119518518518519 \t Validation Accuracy: 0.91\n",
            "Epochs =  1 \tTraining cost: 2.1656509279951854 \tAccuracy: 0.9228444444444445 \t Validation Accuracy: 0.9195666666666666\n",
            "Epochs =  2 \tTraining cost: 1.6435924684809091 \tAccuracy: 0.9277740740740741 \t Validation Accuracy: 0.9221333333333334\n",
            "Epochs =  3 \tTraining cost: 1.335223395796518 \tAccuracy: 0.9341111111111111 \t Validation Accuracy: 0.9296333333333333\n",
            "Epochs =  4 \tTraining cost: 1.189423546142259 \tAccuracy: 0.9360740740740741 \t Validation Accuracy: 0.9315666666666667\n",
            "Epochs =  5 \tTraining cost: 1.0826888334195868 \tAccuracy: 0.9391037037037037 \t Validation Accuracy: 0.9352\n",
            "Epochs =  6 \tTraining cost: 1.001908892251492 \tAccuracy: 0.9408555555555556 \t Validation Accuracy: 0.9351\n",
            "Epochs =  7 \tTraining cost: 0.927766016763525 \tAccuracy: 0.9429592592592593 \t Validation Accuracy: 0.938\n",
            "Epochs =  8 \tTraining cost: 0.8819533172785067 \tAccuracy: 0.9452814814814815 \t Validation Accuracy: 0.9376333333333333\n",
            "Epochs =  9 \tTraining cost: 0.8407229471427216 \tAccuracy: 0.9461740740740741 \t Validation Accuracy: 0.9388666666666666\n"
          ]
        },
        {
          "output_type": "display_data",
          "data": {
            "text/plain": [
              "VBox(children=(Label(value='0.002 MB of 0.012 MB uploaded\\r'), FloatProgress(value=0.15605615409729023, max=1.…"
            ],
            "application/vnd.jupyter.widget-view+json": {
              "version_major": 2,
              "version_minor": 0,
              "model_id": "bc02cd26242c46ca9013525688d3538b"
            }
          },
          "metadata": {}
        },
        {
          "output_type": "display_data",
          "data": {
            "text/plain": [
              "<IPython.core.display.HTML object>"
            ],
            "text/html": [
              "<style>\n",
              "    table.wandb td:nth-child(1) { padding: 0 10px; text-align: left ; width: auto;} td:nth-child(2) {text-align: left ; width: 100%}\n",
              "    .wandb-row { display: flex; flex-direction: row; flex-wrap: wrap; justify-content: flex-start; width: 100% }\n",
              "    .wandb-col { display: flex; flex-direction: column; flex-basis: 100%; flex: 1; padding: 10px; }\n",
              "    </style>\n",
              "<div class=\"wandb-row\"><div class=\"wandb-col\"><h3>Run history:</h3><br/><table class=\"wandb\"><tr><td>epoch</td><td>▁▂▃▃▄▅▆▆▇█</td></tr><tr><td>train accuracy</td><td>▁▃▄▆▆▇▇▇██</td></tr><tr><td>train loss</td><td>█▅▃▂▂▂▁▁▁▁</td></tr><tr><td>val_accuracy</td><td>▁▃▄▆▆▇▇███</td></tr></table><br/></div><div class=\"wandb-col\"><h3>Run summary:</h3><br/><table class=\"wandb\"><tr><td>epoch</td><td>10</td></tr><tr><td>train accuracy</td><td>94.61741</td></tr><tr><td>train loss</td><td>0.84072</td></tr><tr><td>val_accuracy</td><td>93.88667</td></tr></table><br/></div></div>"
            ]
          },
          "metadata": {}
        },
        {
          "output_type": "display_data",
          "data": {
            "text/plain": [
              "<IPython.core.display.HTML object>"
            ],
            "text/html": [
              " View run <strong style=\"color:#cdcd00\">pretty-sweep-8</strong> at: <a href='https://wandb.ai/abhinavtk/wandb-basics/runs/ouj1pk4h' target=\"_blank\">https://wandb.ai/abhinavtk/wandb-basics/runs/ouj1pk4h</a><br/>Synced 5 W&B file(s), 0 media file(s), 0 artifact file(s) and 0 other file(s)"
            ]
          },
          "metadata": {}
        },
        {
          "output_type": "display_data",
          "data": {
            "text/plain": [
              "<IPython.core.display.HTML object>"
            ],
            "text/html": [
              "Find logs at: <code>./wandb/run-20240311_124454-ouj1pk4h/logs</code>"
            ]
          },
          "metadata": {}
        },
        {
          "output_type": "stream",
          "name": "stderr",
          "text": [
            "\u001b[34m\u001b[1mwandb\u001b[0m: Agent Starting Run: ug17o1ul with config:\n",
            "\u001b[34m\u001b[1mwandb\u001b[0m: \tact_fn: sigmoid\n",
            "\u001b[34m\u001b[1mwandb\u001b[0m: \tbatch_size: 16\n",
            "\u001b[34m\u001b[1mwandb\u001b[0m: \tepochs: 5\n",
            "\u001b[34m\u001b[1mwandb\u001b[0m: \tl2_reg: 0\n",
            "\u001b[34m\u001b[1mwandb\u001b[0m: \tlearning_rate: 0.001\n",
            "\u001b[34m\u001b[1mwandb\u001b[0m: \tnum_hidden_layers: 4\n",
            "\u001b[34m\u001b[1mwandb\u001b[0m: \tnum_neurons: 64\n",
            "\u001b[34m\u001b[1mwandb\u001b[0m: \toptimizer: momentum\n",
            "\u001b[34m\u001b[1mwandb\u001b[0m: \tweight_init: random\n"
          ]
        },
        {
          "output_type": "display_data",
          "data": {
            "text/plain": [
              "<IPython.core.display.HTML object>"
            ],
            "text/html": [
              "Tracking run with wandb version 0.16.4"
            ]
          },
          "metadata": {}
        },
        {
          "output_type": "display_data",
          "data": {
            "text/plain": [
              "<IPython.core.display.HTML object>"
            ],
            "text/html": [
              "Run data is saved locally in <code>/content/wandb/run-20240311_124621-ug17o1ul</code>"
            ]
          },
          "metadata": {}
        },
        {
          "output_type": "display_data",
          "data": {
            "text/plain": [
              "<IPython.core.display.HTML object>"
            ],
            "text/html": [
              "Syncing run <strong><a href='https://wandb.ai/abhinavtk/wandb-basics/runs/ug17o1ul' target=\"_blank\">flowing-sweep-9</a></strong> to <a href='https://wandb.ai/abhinavtk/wandb-basics' target=\"_blank\">Weights & Biases</a> (<a href='https://wandb.me/run' target=\"_blank\">docs</a>)<br/>Sweep page: <a href='https://wandb.ai/abhinavtk/wandb-basics/sweeps/n6we5uyl' target=\"_blank\">https://wandb.ai/abhinavtk/wandb-basics/sweeps/n6we5uyl</a>"
            ]
          },
          "metadata": {}
        },
        {
          "output_type": "display_data",
          "data": {
            "text/plain": [
              "<IPython.core.display.HTML object>"
            ],
            "text/html": [
              " View project at <a href='https://wandb.ai/abhinavtk/wandb-basics' target=\"_blank\">https://wandb.ai/abhinavtk/wandb-basics</a>"
            ]
          },
          "metadata": {}
        },
        {
          "output_type": "display_data",
          "data": {
            "text/plain": [
              "<IPython.core.display.HTML object>"
            ],
            "text/html": [
              " View sweep at <a href='https://wandb.ai/abhinavtk/wandb-basics/sweeps/n6we5uyl' target=\"_blank\">https://wandb.ai/abhinavtk/wandb-basics/sweeps/n6we5uyl</a>"
            ]
          },
          "metadata": {}
        },
        {
          "output_type": "display_data",
          "data": {
            "text/plain": [
              "<IPython.core.display.HTML object>"
            ],
            "text/html": [
              " View run at <a href='https://wandb.ai/abhinavtk/wandb-basics/runs/ug17o1ul' target=\"_blank\">https://wandb.ai/abhinavtk/wandb-basics/runs/ug17o1ul</a>"
            ]
          },
          "metadata": {}
        },
        {
          "output_type": "stream",
          "name": "stdout",
          "text": [
            "Epochs =  0 \tTraining cost: 3.2003514221858738 \tAccuracy: 0.9119518518518519 \t Validation Accuracy: 0.91\n",
            "Epochs =  1 \tTraining cost: 2.1656509279951854 \tAccuracy: 0.9228444444444445 \t Validation Accuracy: 0.9195666666666666\n",
            "Epochs =  2 \tTraining cost: 1.6435924684809091 \tAccuracy: 0.9277740740740741 \t Validation Accuracy: 0.9221333333333334\n",
            "Epochs =  3 \tTraining cost: 1.335223395796518 \tAccuracy: 0.9341111111111111 \t Validation Accuracy: 0.9296333333333333\n",
            "Epochs =  4 \tTraining cost: 1.189423546142259 \tAccuracy: 0.9360740740740741 \t Validation Accuracy: 0.9315666666666667\n",
            "Epochs =  5 \tTraining cost: 1.0826888334195868 \tAccuracy: 0.9391037037037037 \t Validation Accuracy: 0.9352\n",
            "Epochs =  6 \tTraining cost: 1.001908892251492 \tAccuracy: 0.9408555555555556 \t Validation Accuracy: 0.9351\n",
            "Epochs =  7 \tTraining cost: 0.927766016763525 \tAccuracy: 0.9429592592592593 \t Validation Accuracy: 0.938\n",
            "Epochs =  8 \tTraining cost: 0.8819533172785067 \tAccuracy: 0.9452814814814815 \t Validation Accuracy: 0.9376333333333333\n",
            "Epochs =  9 \tTraining cost: 0.8407229471427216 \tAccuracy: 0.9461740740740741 \t Validation Accuracy: 0.9388666666666666\n"
          ]
        },
        {
          "output_type": "display_data",
          "data": {
            "text/plain": [
              "VBox(children=(Label(value='0.001 MB of 0.011 MB uploaded\\r'), FloatProgress(value=0.09561932175946748, max=1.…"
            ],
            "application/vnd.jupyter.widget-view+json": {
              "version_major": 2,
              "version_minor": 0,
              "model_id": "1e0d85ea620a45f481b9318e0cd882eb"
            }
          },
          "metadata": {}
        },
        {
          "output_type": "display_data",
          "data": {
            "text/plain": [
              "<IPython.core.display.HTML object>"
            ],
            "text/html": [
              "<style>\n",
              "    table.wandb td:nth-child(1) { padding: 0 10px; text-align: left ; width: auto;} td:nth-child(2) {text-align: left ; width: 100%}\n",
              "    .wandb-row { display: flex; flex-direction: row; flex-wrap: wrap; justify-content: flex-start; width: 100% }\n",
              "    .wandb-col { display: flex; flex-direction: column; flex-basis: 100%; flex: 1; padding: 10px; }\n",
              "    </style>\n",
              "<div class=\"wandb-row\"><div class=\"wandb-col\"><h3>Run history:</h3><br/><table class=\"wandb\"><tr><td>epoch</td><td>▁▂▃▃▄▅▆▆▇█</td></tr><tr><td>train accuracy</td><td>▁▃▄▆▆▇▇▇██</td></tr><tr><td>train loss</td><td>█▅▃▂▂▂▁▁▁▁</td></tr><tr><td>val_accuracy</td><td>▁▃▄▆▆▇▇███</td></tr></table><br/></div><div class=\"wandb-col\"><h3>Run summary:</h3><br/><table class=\"wandb\"><tr><td>epoch</td><td>10</td></tr><tr><td>train accuracy</td><td>94.61741</td></tr><tr><td>train loss</td><td>0.84072</td></tr><tr><td>val_accuracy</td><td>93.88667</td></tr></table><br/></div></div>"
            ]
          },
          "metadata": {}
        },
        {
          "output_type": "display_data",
          "data": {
            "text/plain": [
              "<IPython.core.display.HTML object>"
            ],
            "text/html": [
              " View run <strong style=\"color:#cdcd00\">flowing-sweep-9</strong> at: <a href='https://wandb.ai/abhinavtk/wandb-basics/runs/ug17o1ul' target=\"_blank\">https://wandb.ai/abhinavtk/wandb-basics/runs/ug17o1ul</a><br/>Synced 5 W&B file(s), 0 media file(s), 0 artifact file(s) and 0 other file(s)"
            ]
          },
          "metadata": {}
        },
        {
          "output_type": "display_data",
          "data": {
            "text/plain": [
              "<IPython.core.display.HTML object>"
            ],
            "text/html": [
              "Find logs at: <code>./wandb/run-20240311_124621-ug17o1ul/logs</code>"
            ]
          },
          "metadata": {}
        },
        {
          "output_type": "stream",
          "name": "stderr",
          "text": [
            "\u001b[34m\u001b[1mwandb\u001b[0m: Agent Starting Run: 83mk56uo with config:\n",
            "\u001b[34m\u001b[1mwandb\u001b[0m: \tact_fn: sigmoid\n",
            "\u001b[34m\u001b[1mwandb\u001b[0m: \tbatch_size: 16\n",
            "\u001b[34m\u001b[1mwandb\u001b[0m: \tepochs: 5\n",
            "\u001b[34m\u001b[1mwandb\u001b[0m: \tl2_reg: 0\n",
            "\u001b[34m\u001b[1mwandb\u001b[0m: \tlearning_rate: 0.001\n",
            "\u001b[34m\u001b[1mwandb\u001b[0m: \tnum_hidden_layers: 4\n",
            "\u001b[34m\u001b[1mwandb\u001b[0m: \tnum_neurons: 64\n",
            "\u001b[34m\u001b[1mwandb\u001b[0m: \toptimizer: momentum\n",
            "\u001b[34m\u001b[1mwandb\u001b[0m: \tweight_init: xavier\n"
          ]
        },
        {
          "output_type": "display_data",
          "data": {
            "text/plain": [
              "<IPython.core.display.HTML object>"
            ],
            "text/html": [
              "Tracking run with wandb version 0.16.4"
            ]
          },
          "metadata": {}
        },
        {
          "output_type": "display_data",
          "data": {
            "text/plain": [
              "<IPython.core.display.HTML object>"
            ],
            "text/html": [
              "Run data is saved locally in <code>/content/wandb/run-20240311_124753-83mk56uo</code>"
            ]
          },
          "metadata": {}
        },
        {
          "output_type": "display_data",
          "data": {
            "text/plain": [
              "<IPython.core.display.HTML object>"
            ],
            "text/html": [
              "Syncing run <strong><a href='https://wandb.ai/abhinavtk/wandb-basics/runs/83mk56uo' target=\"_blank\">floral-sweep-10</a></strong> to <a href='https://wandb.ai/abhinavtk/wandb-basics' target=\"_blank\">Weights & Biases</a> (<a href='https://wandb.me/run' target=\"_blank\">docs</a>)<br/>Sweep page: <a href='https://wandb.ai/abhinavtk/wandb-basics/sweeps/n6we5uyl' target=\"_blank\">https://wandb.ai/abhinavtk/wandb-basics/sweeps/n6we5uyl</a>"
            ]
          },
          "metadata": {}
        },
        {
          "output_type": "display_data",
          "data": {
            "text/plain": [
              "<IPython.core.display.HTML object>"
            ],
            "text/html": [
              " View project at <a href='https://wandb.ai/abhinavtk/wandb-basics' target=\"_blank\">https://wandb.ai/abhinavtk/wandb-basics</a>"
            ]
          },
          "metadata": {}
        },
        {
          "output_type": "display_data",
          "data": {
            "text/plain": [
              "<IPython.core.display.HTML object>"
            ],
            "text/html": [
              " View sweep at <a href='https://wandb.ai/abhinavtk/wandb-basics/sweeps/n6we5uyl' target=\"_blank\">https://wandb.ai/abhinavtk/wandb-basics/sweeps/n6we5uyl</a>"
            ]
          },
          "metadata": {}
        },
        {
          "output_type": "display_data",
          "data": {
            "text/plain": [
              "<IPython.core.display.HTML object>"
            ],
            "text/html": [
              " View run at <a href='https://wandb.ai/abhinavtk/wandb-basics/runs/83mk56uo' target=\"_blank\">https://wandb.ai/abhinavtk/wandb-basics/runs/83mk56uo</a>"
            ]
          },
          "metadata": {}
        },
        {
          "output_type": "stream",
          "name": "stdout",
          "text": [
            "Epochs =  0 \tTraining cost: 3.2003514221858738 \tAccuracy: 0.9119518518518519 \t Validation Accuracy: 0.91\n",
            "Epochs =  1 \tTraining cost: 2.1656509279951854 \tAccuracy: 0.9228444444444445 \t Validation Accuracy: 0.9195666666666666\n",
            "Epochs =  2 \tTraining cost: 1.6435924684809091 \tAccuracy: 0.9277740740740741 \t Validation Accuracy: 0.9221333333333334\n",
            "Epochs =  3 \tTraining cost: 1.335223395796518 \tAccuracy: 0.9341111111111111 \t Validation Accuracy: 0.9296333333333333\n",
            "Epochs =  4 \tTraining cost: 1.189423546142259 \tAccuracy: 0.9360740740740741 \t Validation Accuracy: 0.9315666666666667\n",
            "Epochs =  5 \tTraining cost: 1.0826888334195868 \tAccuracy: 0.9391037037037037 \t Validation Accuracy: 0.9352\n",
            "Epochs =  6 \tTraining cost: 1.001908892251492 \tAccuracy: 0.9408555555555556 \t Validation Accuracy: 0.9351\n",
            "Epochs =  7 \tTraining cost: 0.927766016763525 \tAccuracy: 0.9429592592592593 \t Validation Accuracy: 0.938\n",
            "Epochs =  8 \tTraining cost: 0.8819533172785067 \tAccuracy: 0.9452814814814815 \t Validation Accuracy: 0.9376333333333333\n",
            "Epochs =  9 \tTraining cost: 0.8407229471427216 \tAccuracy: 0.9461740740740741 \t Validation Accuracy: 0.9388666666666666\n"
          ]
        },
        {
          "output_type": "display_data",
          "data": {
            "text/plain": [
              "VBox(children=(Label(value='0.012 MB of 0.012 MB uploaded\\r'), FloatProgress(value=1.0, max=1.0)))"
            ],
            "application/vnd.jupyter.widget-view+json": {
              "version_major": 2,
              "version_minor": 0,
              "model_id": "97f1febedcfa43b58476c267d405b0b8"
            }
          },
          "metadata": {}
        },
        {
          "output_type": "display_data",
          "data": {
            "text/plain": [
              "<IPython.core.display.HTML object>"
            ],
            "text/html": [
              "<style>\n",
              "    table.wandb td:nth-child(1) { padding: 0 10px; text-align: left ; width: auto;} td:nth-child(2) {text-align: left ; width: 100%}\n",
              "    .wandb-row { display: flex; flex-direction: row; flex-wrap: wrap; justify-content: flex-start; width: 100% }\n",
              "    .wandb-col { display: flex; flex-direction: column; flex-basis: 100%; flex: 1; padding: 10px; }\n",
              "    </style>\n",
              "<div class=\"wandb-row\"><div class=\"wandb-col\"><h3>Run history:</h3><br/><table class=\"wandb\"><tr><td>epoch</td><td>▁▂▃▃▄▅▆▆▇█</td></tr><tr><td>train accuracy</td><td>▁▃▄▆▆▇▇▇██</td></tr><tr><td>train loss</td><td>█▅▃▂▂▂▁▁▁▁</td></tr><tr><td>val_accuracy</td><td>▁▃▄▆▆▇▇███</td></tr></table><br/></div><div class=\"wandb-col\"><h3>Run summary:</h3><br/><table class=\"wandb\"><tr><td>epoch</td><td>10</td></tr><tr><td>train accuracy</td><td>94.61741</td></tr><tr><td>train loss</td><td>0.84072</td></tr><tr><td>val_accuracy</td><td>93.88667</td></tr></table><br/></div></div>"
            ]
          },
          "metadata": {}
        },
        {
          "output_type": "display_data",
          "data": {
            "text/plain": [
              "<IPython.core.display.HTML object>"
            ],
            "text/html": [
              " View run <strong style=\"color:#cdcd00\">floral-sweep-10</strong> at: <a href='https://wandb.ai/abhinavtk/wandb-basics/runs/83mk56uo' target=\"_blank\">https://wandb.ai/abhinavtk/wandb-basics/runs/83mk56uo</a><br/>Synced 5 W&B file(s), 0 media file(s), 0 artifact file(s) and 0 other file(s)"
            ]
          },
          "metadata": {}
        },
        {
          "output_type": "display_data",
          "data": {
            "text/plain": [
              "<IPython.core.display.HTML object>"
            ],
            "text/html": [
              "Find logs at: <code>./wandb/run-20240311_124753-83mk56uo/logs</code>"
            ]
          },
          "metadata": {}
        },
        {
          "output_type": "stream",
          "name": "stderr",
          "text": [
            "\u001b[34m\u001b[1mwandb\u001b[0m: Agent Starting Run: hsxbraey with config:\n",
            "\u001b[34m\u001b[1mwandb\u001b[0m: \tact_fn: sigmoid\n",
            "\u001b[34m\u001b[1mwandb\u001b[0m: \tbatch_size: 16\n",
            "\u001b[34m\u001b[1mwandb\u001b[0m: \tepochs: 5\n",
            "\u001b[34m\u001b[1mwandb\u001b[0m: \tl2_reg: 0\n",
            "\u001b[34m\u001b[1mwandb\u001b[0m: \tlearning_rate: 0.001\n",
            "\u001b[34m\u001b[1mwandb\u001b[0m: \tnum_hidden_layers: 4\n",
            "\u001b[34m\u001b[1mwandb\u001b[0m: \tnum_neurons: 128\n",
            "\u001b[34m\u001b[1mwandb\u001b[0m: \toptimizer: momentum\n",
            "\u001b[34m\u001b[1mwandb\u001b[0m: \tweight_init: random\n"
          ]
        },
        {
          "output_type": "display_data",
          "data": {
            "text/plain": [
              "<IPython.core.display.HTML object>"
            ],
            "text/html": [
              "Tracking run with wandb version 0.16.4"
            ]
          },
          "metadata": {}
        },
        {
          "output_type": "display_data",
          "data": {
            "text/plain": [
              "<IPython.core.display.HTML object>"
            ],
            "text/html": [
              "Run data is saved locally in <code>/content/wandb/run-20240311_124920-hsxbraey</code>"
            ]
          },
          "metadata": {}
        },
        {
          "output_type": "display_data",
          "data": {
            "text/plain": [
              "<IPython.core.display.HTML object>"
            ],
            "text/html": [
              "Syncing run <strong><a href='https://wandb.ai/abhinavtk/wandb-basics/runs/hsxbraey' target=\"_blank\">absurd-sweep-11</a></strong> to <a href='https://wandb.ai/abhinavtk/wandb-basics' target=\"_blank\">Weights & Biases</a> (<a href='https://wandb.me/run' target=\"_blank\">docs</a>)<br/>Sweep page: <a href='https://wandb.ai/abhinavtk/wandb-basics/sweeps/n6we5uyl' target=\"_blank\">https://wandb.ai/abhinavtk/wandb-basics/sweeps/n6we5uyl</a>"
            ]
          },
          "metadata": {}
        },
        {
          "output_type": "display_data",
          "data": {
            "text/plain": [
              "<IPython.core.display.HTML object>"
            ],
            "text/html": [
              " View project at <a href='https://wandb.ai/abhinavtk/wandb-basics' target=\"_blank\">https://wandb.ai/abhinavtk/wandb-basics</a>"
            ]
          },
          "metadata": {}
        },
        {
          "output_type": "display_data",
          "data": {
            "text/plain": [
              "<IPython.core.display.HTML object>"
            ],
            "text/html": [
              " View sweep at <a href='https://wandb.ai/abhinavtk/wandb-basics/sweeps/n6we5uyl' target=\"_blank\">https://wandb.ai/abhinavtk/wandb-basics/sweeps/n6we5uyl</a>"
            ]
          },
          "metadata": {}
        },
        {
          "output_type": "display_data",
          "data": {
            "text/plain": [
              "<IPython.core.display.HTML object>"
            ],
            "text/html": [
              " View run at <a href='https://wandb.ai/abhinavtk/wandb-basics/runs/hsxbraey' target=\"_blank\">https://wandb.ai/abhinavtk/wandb-basics/runs/hsxbraey</a>"
            ]
          },
          "metadata": {}
        },
        {
          "output_type": "stream",
          "name": "stdout",
          "text": [
            "Epochs =  0 \tTraining cost: 3.2003514221858738 \tAccuracy: 0.9119518518518519 \t Validation Accuracy: 0.91\n",
            "Epochs =  1 \tTraining cost: 2.1656509279951854 \tAccuracy: 0.9228444444444445 \t Validation Accuracy: 0.9195666666666666\n",
            "Epochs =  2 \tTraining cost: 1.6435924684809091 \tAccuracy: 0.9277740740740741 \t Validation Accuracy: 0.9221333333333334\n",
            "Epochs =  3 \tTraining cost: 1.335223395796518 \tAccuracy: 0.9341111111111111 \t Validation Accuracy: 0.9296333333333333\n",
            "Epochs =  4 \tTraining cost: 1.189423546142259 \tAccuracy: 0.9360740740740741 \t Validation Accuracy: 0.9315666666666667\n",
            "Epochs =  5 \tTraining cost: 1.0826888334195868 \tAccuracy: 0.9391037037037037 \t Validation Accuracy: 0.9352\n",
            "Epochs =  6 \tTraining cost: 1.001908892251492 \tAccuracy: 0.9408555555555556 \t Validation Accuracy: 0.9351\n",
            "Epochs =  7 \tTraining cost: 0.927766016763525 \tAccuracy: 0.9429592592592593 \t Validation Accuracy: 0.938\n",
            "Epochs =  8 \tTraining cost: 0.8819533172785067 \tAccuracy: 0.9452814814814815 \t Validation Accuracy: 0.9376333333333333\n",
            "Epochs =  9 \tTraining cost: 0.8407229471427216 \tAccuracy: 0.9461740740740741 \t Validation Accuracy: 0.9388666666666666\n"
          ]
        },
        {
          "output_type": "display_data",
          "data": {
            "text/plain": [
              "VBox(children=(Label(value='0.001 MB of 0.001 MB uploaded\\r'), FloatProgress(value=1.0, max=1.0)))"
            ],
            "application/vnd.jupyter.widget-view+json": {
              "version_major": 2,
              "version_minor": 0,
              "model_id": "d5c5de6a46e542b1b3e5fc257d37c5fb"
            }
          },
          "metadata": {}
        },
        {
          "output_type": "display_data",
          "data": {
            "text/plain": [
              "<IPython.core.display.HTML object>"
            ],
            "text/html": [
              "<style>\n",
              "    table.wandb td:nth-child(1) { padding: 0 10px; text-align: left ; width: auto;} td:nth-child(2) {text-align: left ; width: 100%}\n",
              "    .wandb-row { display: flex; flex-direction: row; flex-wrap: wrap; justify-content: flex-start; width: 100% }\n",
              "    .wandb-col { display: flex; flex-direction: column; flex-basis: 100%; flex: 1; padding: 10px; }\n",
              "    </style>\n",
              "<div class=\"wandb-row\"><div class=\"wandb-col\"><h3>Run history:</h3><br/><table class=\"wandb\"><tr><td>epoch</td><td>▁▂▃▃▄▅▆▆▇█</td></tr><tr><td>train accuracy</td><td>▁▃▄▆▆▇▇▇██</td></tr><tr><td>train loss</td><td>█▅▃▂▂▂▁▁▁▁</td></tr><tr><td>val_accuracy</td><td>▁▃▄▆▆▇▇███</td></tr></table><br/></div><div class=\"wandb-col\"><h3>Run summary:</h3><br/><table class=\"wandb\"><tr><td>epoch</td><td>10</td></tr><tr><td>train accuracy</td><td>94.61741</td></tr><tr><td>train loss</td><td>0.84072</td></tr><tr><td>val_accuracy</td><td>93.88667</td></tr></table><br/></div></div>"
            ]
          },
          "metadata": {}
        },
        {
          "output_type": "display_data",
          "data": {
            "text/plain": [
              "<IPython.core.display.HTML object>"
            ],
            "text/html": [
              " View run <strong style=\"color:#cdcd00\">absurd-sweep-11</strong> at: <a href='https://wandb.ai/abhinavtk/wandb-basics/runs/hsxbraey' target=\"_blank\">https://wandb.ai/abhinavtk/wandb-basics/runs/hsxbraey</a><br/>Synced 5 W&B file(s), 0 media file(s), 0 artifact file(s) and 0 other file(s)"
            ]
          },
          "metadata": {}
        },
        {
          "output_type": "display_data",
          "data": {
            "text/plain": [
              "<IPython.core.display.HTML object>"
            ],
            "text/html": [
              "Find logs at: <code>./wandb/run-20240311_124920-hsxbraey/logs</code>"
            ]
          },
          "metadata": {}
        },
        {
          "output_type": "stream",
          "name": "stderr",
          "text": [
            "\u001b[34m\u001b[1mwandb\u001b[0m: Agent Starting Run: 6zj4gc4g with config:\n",
            "\u001b[34m\u001b[1mwandb\u001b[0m: \tact_fn: sigmoid\n",
            "\u001b[34m\u001b[1mwandb\u001b[0m: \tbatch_size: 16\n",
            "\u001b[34m\u001b[1mwandb\u001b[0m: \tepochs: 5\n",
            "\u001b[34m\u001b[1mwandb\u001b[0m: \tl2_reg: 0\n",
            "\u001b[34m\u001b[1mwandb\u001b[0m: \tlearning_rate: 0.001\n",
            "\u001b[34m\u001b[1mwandb\u001b[0m: \tnum_hidden_layers: 4\n",
            "\u001b[34m\u001b[1mwandb\u001b[0m: \tnum_neurons: 128\n",
            "\u001b[34m\u001b[1mwandb\u001b[0m: \toptimizer: momentum\n",
            "\u001b[34m\u001b[1mwandb\u001b[0m: \tweight_init: xavier\n"
          ]
        },
        {
          "output_type": "display_data",
          "data": {
            "text/plain": [
              "<IPython.core.display.HTML object>"
            ],
            "text/html": [
              "Tracking run with wandb version 0.16.4"
            ]
          },
          "metadata": {}
        },
        {
          "output_type": "display_data",
          "data": {
            "text/plain": [
              "<IPython.core.display.HTML object>"
            ],
            "text/html": [
              "Run data is saved locally in <code>/content/wandb/run-20240311_125050-6zj4gc4g</code>"
            ]
          },
          "metadata": {}
        },
        {
          "output_type": "display_data",
          "data": {
            "text/plain": [
              "<IPython.core.display.HTML object>"
            ],
            "text/html": [
              "Syncing run <strong><a href='https://wandb.ai/abhinavtk/wandb-basics/runs/6zj4gc4g' target=\"_blank\">upbeat-sweep-12</a></strong> to <a href='https://wandb.ai/abhinavtk/wandb-basics' target=\"_blank\">Weights & Biases</a> (<a href='https://wandb.me/run' target=\"_blank\">docs</a>)<br/>Sweep page: <a href='https://wandb.ai/abhinavtk/wandb-basics/sweeps/n6we5uyl' target=\"_blank\">https://wandb.ai/abhinavtk/wandb-basics/sweeps/n6we5uyl</a>"
            ]
          },
          "metadata": {}
        },
        {
          "output_type": "display_data",
          "data": {
            "text/plain": [
              "<IPython.core.display.HTML object>"
            ],
            "text/html": [
              " View project at <a href='https://wandb.ai/abhinavtk/wandb-basics' target=\"_blank\">https://wandb.ai/abhinavtk/wandb-basics</a>"
            ]
          },
          "metadata": {}
        },
        {
          "output_type": "display_data",
          "data": {
            "text/plain": [
              "<IPython.core.display.HTML object>"
            ],
            "text/html": [
              " View sweep at <a href='https://wandb.ai/abhinavtk/wandb-basics/sweeps/n6we5uyl' target=\"_blank\">https://wandb.ai/abhinavtk/wandb-basics/sweeps/n6we5uyl</a>"
            ]
          },
          "metadata": {}
        },
        {
          "output_type": "display_data",
          "data": {
            "text/plain": [
              "<IPython.core.display.HTML object>"
            ],
            "text/html": [
              " View run at <a href='https://wandb.ai/abhinavtk/wandb-basics/runs/6zj4gc4g' target=\"_blank\">https://wandb.ai/abhinavtk/wandb-basics/runs/6zj4gc4g</a>"
            ]
          },
          "metadata": {}
        },
        {
          "output_type": "stream",
          "name": "stdout",
          "text": [
            "Epochs =  0 \tTraining cost: 3.2003514221858738 \tAccuracy: 0.9119518518518519 \t Validation Accuracy: 0.91\n",
            "Epochs =  1 \tTraining cost: 2.1656509279951854 \tAccuracy: 0.9228444444444445 \t Validation Accuracy: 0.9195666666666666\n",
            "Epochs =  2 \tTraining cost: 1.6435924684809091 \tAccuracy: 0.9277740740740741 \t Validation Accuracy: 0.9221333333333334\n",
            "Epochs =  3 \tTraining cost: 1.335223395796518 \tAccuracy: 0.9341111111111111 \t Validation Accuracy: 0.9296333333333333\n",
            "Epochs =  4 \tTraining cost: 1.189423546142259 \tAccuracy: 0.9360740740740741 \t Validation Accuracy: 0.9315666666666667\n",
            "Epochs =  5 \tTraining cost: 1.0826888334195868 \tAccuracy: 0.9391037037037037 \t Validation Accuracy: 0.9352\n",
            "Epochs =  6 \tTraining cost: 1.001908892251492 \tAccuracy: 0.9408555555555556 \t Validation Accuracy: 0.9351\n",
            "Epochs =  7 \tTraining cost: 0.927766016763525 \tAccuracy: 0.9429592592592593 \t Validation Accuracy: 0.938\n",
            "Epochs =  8 \tTraining cost: 0.8819533172785067 \tAccuracy: 0.9452814814814815 \t Validation Accuracy: 0.9376333333333333\n",
            "Epochs =  9 \tTraining cost: 0.8407229471427216 \tAccuracy: 0.9461740740740741 \t Validation Accuracy: 0.9388666666666666\n"
          ]
        },
        {
          "output_type": "display_data",
          "data": {
            "text/plain": [
              "VBox(children=(Label(value='0.001 MB of 0.001 MB uploaded\\r'), FloatProgress(value=1.0, max=1.0)))"
            ],
            "application/vnd.jupyter.widget-view+json": {
              "version_major": 2,
              "version_minor": 0,
              "model_id": "9cbb3371e8e2428088e3e08f1d0902bd"
            }
          },
          "metadata": {}
        },
        {
          "output_type": "display_data",
          "data": {
            "text/plain": [
              "<IPython.core.display.HTML object>"
            ],
            "text/html": [
              "<style>\n",
              "    table.wandb td:nth-child(1) { padding: 0 10px; text-align: left ; width: auto;} td:nth-child(2) {text-align: left ; width: 100%}\n",
              "    .wandb-row { display: flex; flex-direction: row; flex-wrap: wrap; justify-content: flex-start; width: 100% }\n",
              "    .wandb-col { display: flex; flex-direction: column; flex-basis: 100%; flex: 1; padding: 10px; }\n",
              "    </style>\n",
              "<div class=\"wandb-row\"><div class=\"wandb-col\"><h3>Run history:</h3><br/><table class=\"wandb\"><tr><td>epoch</td><td>▁▂▃▃▄▅▆▆▇█</td></tr><tr><td>train accuracy</td><td>▁▃▄▆▆▇▇▇██</td></tr><tr><td>train loss</td><td>█▅▃▂▂▂▁▁▁▁</td></tr><tr><td>val_accuracy</td><td>▁▃▄▆▆▇▇███</td></tr></table><br/></div><div class=\"wandb-col\"><h3>Run summary:</h3><br/><table class=\"wandb\"><tr><td>epoch</td><td>10</td></tr><tr><td>train accuracy</td><td>94.61741</td></tr><tr><td>train loss</td><td>0.84072</td></tr><tr><td>val_accuracy</td><td>93.88667</td></tr></table><br/></div></div>"
            ]
          },
          "metadata": {}
        },
        {
          "output_type": "display_data",
          "data": {
            "text/plain": [
              "<IPython.core.display.HTML object>"
            ],
            "text/html": [
              " View run <strong style=\"color:#cdcd00\">upbeat-sweep-12</strong> at: <a href='https://wandb.ai/abhinavtk/wandb-basics/runs/6zj4gc4g' target=\"_blank\">https://wandb.ai/abhinavtk/wandb-basics/runs/6zj4gc4g</a><br/>Synced 5 W&B file(s), 0 media file(s), 0 artifact file(s) and 0 other file(s)"
            ]
          },
          "metadata": {}
        },
        {
          "output_type": "display_data",
          "data": {
            "text/plain": [
              "<IPython.core.display.HTML object>"
            ],
            "text/html": [
              "Find logs at: <code>./wandb/run-20240311_125050-6zj4gc4g/logs</code>"
            ]
          },
          "metadata": {}
        },
        {
          "output_type": "stream",
          "name": "stderr",
          "text": [
            "\u001b[34m\u001b[1mwandb\u001b[0m: Agent Starting Run: qr4oomkm with config:\n",
            "\u001b[34m\u001b[1mwandb\u001b[0m: \tact_fn: sigmoid\n",
            "\u001b[34m\u001b[1mwandb\u001b[0m: \tbatch_size: 16\n",
            "\u001b[34m\u001b[1mwandb\u001b[0m: \tepochs: 5\n",
            "\u001b[34m\u001b[1mwandb\u001b[0m: \tl2_reg: 0\n",
            "\u001b[34m\u001b[1mwandb\u001b[0m: \tlearning_rate: 0.001\n",
            "\u001b[34m\u001b[1mwandb\u001b[0m: \tnum_hidden_layers: 5\n",
            "\u001b[34m\u001b[1mwandb\u001b[0m: \tnum_neurons: 32\n",
            "\u001b[34m\u001b[1mwandb\u001b[0m: \toptimizer: momentum\n",
            "\u001b[34m\u001b[1mwandb\u001b[0m: \tweight_init: random\n"
          ]
        },
        {
          "output_type": "display_data",
          "data": {
            "text/plain": [
              "<IPython.core.display.HTML object>"
            ],
            "text/html": [
              "Tracking run with wandb version 0.16.4"
            ]
          },
          "metadata": {}
        },
        {
          "output_type": "display_data",
          "data": {
            "text/plain": [
              "<IPython.core.display.HTML object>"
            ],
            "text/html": [
              "Run data is saved locally in <code>/content/wandb/run-20240311_125225-qr4oomkm</code>"
            ]
          },
          "metadata": {}
        },
        {
          "output_type": "display_data",
          "data": {
            "text/plain": [
              "<IPython.core.display.HTML object>"
            ],
            "text/html": [
              "Syncing run <strong><a href='https://wandb.ai/abhinavtk/wandb-basics/runs/qr4oomkm' target=\"_blank\">generous-sweep-13</a></strong> to <a href='https://wandb.ai/abhinavtk/wandb-basics' target=\"_blank\">Weights & Biases</a> (<a href='https://wandb.me/run' target=\"_blank\">docs</a>)<br/>Sweep page: <a href='https://wandb.ai/abhinavtk/wandb-basics/sweeps/n6we5uyl' target=\"_blank\">https://wandb.ai/abhinavtk/wandb-basics/sweeps/n6we5uyl</a>"
            ]
          },
          "metadata": {}
        },
        {
          "output_type": "display_data",
          "data": {
            "text/plain": [
              "<IPython.core.display.HTML object>"
            ],
            "text/html": [
              " View project at <a href='https://wandb.ai/abhinavtk/wandb-basics' target=\"_blank\">https://wandb.ai/abhinavtk/wandb-basics</a>"
            ]
          },
          "metadata": {}
        },
        {
          "output_type": "display_data",
          "data": {
            "text/plain": [
              "<IPython.core.display.HTML object>"
            ],
            "text/html": [
              " View sweep at <a href='https://wandb.ai/abhinavtk/wandb-basics/sweeps/n6we5uyl' target=\"_blank\">https://wandb.ai/abhinavtk/wandb-basics/sweeps/n6we5uyl</a>"
            ]
          },
          "metadata": {}
        },
        {
          "output_type": "display_data",
          "data": {
            "text/plain": [
              "<IPython.core.display.HTML object>"
            ],
            "text/html": [
              " View run at <a href='https://wandb.ai/abhinavtk/wandb-basics/runs/qr4oomkm' target=\"_blank\">https://wandb.ai/abhinavtk/wandb-basics/runs/qr4oomkm</a>"
            ]
          },
          "metadata": {}
        },
        {
          "output_type": "stream",
          "name": "stdout",
          "text": [
            "Epochs =  0 \tTraining cost: 3.2003514221858738 \tAccuracy: 0.9119518518518519 \t Validation Accuracy: 0.91\n",
            "Epochs =  1 \tTraining cost: 2.1656509279951854 \tAccuracy: 0.9228444444444445 \t Validation Accuracy: 0.9195666666666666\n",
            "Epochs =  2 \tTraining cost: 1.6435924684809091 \tAccuracy: 0.9277740740740741 \t Validation Accuracy: 0.9221333333333334\n",
            "Epochs =  3 \tTraining cost: 1.335223395796518 \tAccuracy: 0.9341111111111111 \t Validation Accuracy: 0.9296333333333333\n",
            "Epochs =  4 \tTraining cost: 1.189423546142259 \tAccuracy: 0.9360740740740741 \t Validation Accuracy: 0.9315666666666667\n",
            "Epochs =  5 \tTraining cost: 1.0826888334195868 \tAccuracy: 0.9391037037037037 \t Validation Accuracy: 0.9352\n",
            "Epochs =  6 \tTraining cost: 1.001908892251492 \tAccuracy: 0.9408555555555556 \t Validation Accuracy: 0.9351\n",
            "Epochs =  7 \tTraining cost: 0.927766016763525 \tAccuracy: 0.9429592592592593 \t Validation Accuracy: 0.938\n",
            "Epochs =  8 \tTraining cost: 0.8819533172785067 \tAccuracy: 0.9452814814814815 \t Validation Accuracy: 0.9376333333333333\n",
            "Epochs =  9 \tTraining cost: 0.8407229471427216 \tAccuracy: 0.9461740740740741 \t Validation Accuracy: 0.9388666666666666\n"
          ]
        },
        {
          "output_type": "display_data",
          "data": {
            "text/plain": [
              "VBox(children=(Label(value='0.001 MB of 0.001 MB uploaded\\r'), FloatProgress(value=1.0, max=1.0)))"
            ],
            "application/vnd.jupyter.widget-view+json": {
              "version_major": 2,
              "version_minor": 0,
              "model_id": "57fd37a37b294a0fb22243cfb7adf757"
            }
          },
          "metadata": {}
        },
        {
          "output_type": "display_data",
          "data": {
            "text/plain": [
              "<IPython.core.display.HTML object>"
            ],
            "text/html": [
              "<style>\n",
              "    table.wandb td:nth-child(1) { padding: 0 10px; text-align: left ; width: auto;} td:nth-child(2) {text-align: left ; width: 100%}\n",
              "    .wandb-row { display: flex; flex-direction: row; flex-wrap: wrap; justify-content: flex-start; width: 100% }\n",
              "    .wandb-col { display: flex; flex-direction: column; flex-basis: 100%; flex: 1; padding: 10px; }\n",
              "    </style>\n",
              "<div class=\"wandb-row\"><div class=\"wandb-col\"><h3>Run history:</h3><br/><table class=\"wandb\"><tr><td>epoch</td><td>▁▂▃▃▄▅▆▆▇█</td></tr><tr><td>train accuracy</td><td>▁▃▄▆▆▇▇▇██</td></tr><tr><td>train loss</td><td>█▅▃▂▂▂▁▁▁▁</td></tr><tr><td>val_accuracy</td><td>▁▃▄▆▆▇▇███</td></tr></table><br/></div><div class=\"wandb-col\"><h3>Run summary:</h3><br/><table class=\"wandb\"><tr><td>epoch</td><td>10</td></tr><tr><td>train accuracy</td><td>94.61741</td></tr><tr><td>train loss</td><td>0.84072</td></tr><tr><td>val_accuracy</td><td>93.88667</td></tr></table><br/></div></div>"
            ]
          },
          "metadata": {}
        },
        {
          "output_type": "display_data",
          "data": {
            "text/plain": [
              "<IPython.core.display.HTML object>"
            ],
            "text/html": [
              " View run <strong style=\"color:#cdcd00\">generous-sweep-13</strong> at: <a href='https://wandb.ai/abhinavtk/wandb-basics/runs/qr4oomkm' target=\"_blank\">https://wandb.ai/abhinavtk/wandb-basics/runs/qr4oomkm</a><br/>Synced 5 W&B file(s), 0 media file(s), 0 artifact file(s) and 0 other file(s)"
            ]
          },
          "metadata": {}
        },
        {
          "output_type": "display_data",
          "data": {
            "text/plain": [
              "<IPython.core.display.HTML object>"
            ],
            "text/html": [
              "Find logs at: <code>./wandb/run-20240311_125225-qr4oomkm/logs</code>"
            ]
          },
          "metadata": {}
        },
        {
          "output_type": "stream",
          "name": "stderr",
          "text": [
            "\u001b[34m\u001b[1mwandb\u001b[0m: Agent Starting Run: 31ukvz2f with config:\n",
            "\u001b[34m\u001b[1mwandb\u001b[0m: \tact_fn: sigmoid\n",
            "\u001b[34m\u001b[1mwandb\u001b[0m: \tbatch_size: 16\n",
            "\u001b[34m\u001b[1mwandb\u001b[0m: \tepochs: 5\n",
            "\u001b[34m\u001b[1mwandb\u001b[0m: \tl2_reg: 0\n",
            "\u001b[34m\u001b[1mwandb\u001b[0m: \tlearning_rate: 0.001\n",
            "\u001b[34m\u001b[1mwandb\u001b[0m: \tnum_hidden_layers: 5\n",
            "\u001b[34m\u001b[1mwandb\u001b[0m: \tnum_neurons: 32\n",
            "\u001b[34m\u001b[1mwandb\u001b[0m: \toptimizer: momentum\n",
            "\u001b[34m\u001b[1mwandb\u001b[0m: \tweight_init: xavier\n"
          ]
        },
        {
          "output_type": "display_data",
          "data": {
            "text/plain": [
              "<IPython.core.display.HTML object>"
            ],
            "text/html": [
              "Tracking run with wandb version 0.16.4"
            ]
          },
          "metadata": {}
        },
        {
          "output_type": "display_data",
          "data": {
            "text/plain": [
              "<IPython.core.display.HTML object>"
            ],
            "text/html": [
              "Run data is saved locally in <code>/content/wandb/run-20240311_125356-31ukvz2f</code>"
            ]
          },
          "metadata": {}
        },
        {
          "output_type": "display_data",
          "data": {
            "text/plain": [
              "<IPython.core.display.HTML object>"
            ],
            "text/html": [
              "Syncing run <strong><a href='https://wandb.ai/abhinavtk/wandb-basics/runs/31ukvz2f' target=\"_blank\">ethereal-sweep-14</a></strong> to <a href='https://wandb.ai/abhinavtk/wandb-basics' target=\"_blank\">Weights & Biases</a> (<a href='https://wandb.me/run' target=\"_blank\">docs</a>)<br/>Sweep page: <a href='https://wandb.ai/abhinavtk/wandb-basics/sweeps/n6we5uyl' target=\"_blank\">https://wandb.ai/abhinavtk/wandb-basics/sweeps/n6we5uyl</a>"
            ]
          },
          "metadata": {}
        },
        {
          "output_type": "display_data",
          "data": {
            "text/plain": [
              "<IPython.core.display.HTML object>"
            ],
            "text/html": [
              " View project at <a href='https://wandb.ai/abhinavtk/wandb-basics' target=\"_blank\">https://wandb.ai/abhinavtk/wandb-basics</a>"
            ]
          },
          "metadata": {}
        },
        {
          "output_type": "display_data",
          "data": {
            "text/plain": [
              "<IPython.core.display.HTML object>"
            ],
            "text/html": [
              " View sweep at <a href='https://wandb.ai/abhinavtk/wandb-basics/sweeps/n6we5uyl' target=\"_blank\">https://wandb.ai/abhinavtk/wandb-basics/sweeps/n6we5uyl</a>"
            ]
          },
          "metadata": {}
        },
        {
          "output_type": "display_data",
          "data": {
            "text/plain": [
              "<IPython.core.display.HTML object>"
            ],
            "text/html": [
              " View run at <a href='https://wandb.ai/abhinavtk/wandb-basics/runs/31ukvz2f' target=\"_blank\">https://wandb.ai/abhinavtk/wandb-basics/runs/31ukvz2f</a>"
            ]
          },
          "metadata": {}
        },
        {
          "output_type": "stream",
          "name": "stdout",
          "text": [
            "Epochs =  0 \tTraining cost: 3.2003514221858738 \tAccuracy: 0.9119518518518519 \t Validation Accuracy: 0.91\n",
            "Epochs =  1 \tTraining cost: 2.1656509279951854 \tAccuracy: 0.9228444444444445 \t Validation Accuracy: 0.9195666666666666\n",
            "Epochs =  2 \tTraining cost: 1.6435924684809091 \tAccuracy: 0.9277740740740741 \t Validation Accuracy: 0.9221333333333334\n",
            "Epochs =  3 \tTraining cost: 1.335223395796518 \tAccuracy: 0.9341111111111111 \t Validation Accuracy: 0.9296333333333333\n",
            "Epochs =  4 \tTraining cost: 1.189423546142259 \tAccuracy: 0.9360740740740741 \t Validation Accuracy: 0.9315666666666667\n",
            "Epochs =  5 \tTraining cost: 1.0826888334195868 \tAccuracy: 0.9391037037037037 \t Validation Accuracy: 0.9352\n",
            "Epochs =  6 \tTraining cost: 1.001908892251492 \tAccuracy: 0.9408555555555556 \t Validation Accuracy: 0.9351\n",
            "Epochs =  7 \tTraining cost: 0.927766016763525 \tAccuracy: 0.9429592592592593 \t Validation Accuracy: 0.938\n",
            "Epochs =  8 \tTraining cost: 0.8819533172785067 \tAccuracy: 0.9452814814814815 \t Validation Accuracy: 0.9376333333333333\n",
            "Epochs =  9 \tTraining cost: 0.8407229471427216 \tAccuracy: 0.9461740740740741 \t Validation Accuracy: 0.9388666666666666\n"
          ]
        },
        {
          "output_type": "display_data",
          "data": {
            "text/plain": [
              "VBox(children=(Label(value='0.001 MB of 0.001 MB uploaded\\r'), FloatProgress(value=1.0, max=1.0)))"
            ],
            "application/vnd.jupyter.widget-view+json": {
              "version_major": 2,
              "version_minor": 0,
              "model_id": "1ebe3af84d1545b4b50af4f16e0c628a"
            }
          },
          "metadata": {}
        },
        {
          "output_type": "display_data",
          "data": {
            "text/plain": [
              "<IPython.core.display.HTML object>"
            ],
            "text/html": [
              "<style>\n",
              "    table.wandb td:nth-child(1) { padding: 0 10px; text-align: left ; width: auto;} td:nth-child(2) {text-align: left ; width: 100%}\n",
              "    .wandb-row { display: flex; flex-direction: row; flex-wrap: wrap; justify-content: flex-start; width: 100% }\n",
              "    .wandb-col { display: flex; flex-direction: column; flex-basis: 100%; flex: 1; padding: 10px; }\n",
              "    </style>\n",
              "<div class=\"wandb-row\"><div class=\"wandb-col\"><h3>Run history:</h3><br/><table class=\"wandb\"><tr><td>epoch</td><td>▁▂▃▃▄▅▆▆▇█</td></tr><tr><td>train accuracy</td><td>▁▃▄▆▆▇▇▇██</td></tr><tr><td>train loss</td><td>█▅▃▂▂▂▁▁▁▁</td></tr><tr><td>val_accuracy</td><td>▁▃▄▆▆▇▇███</td></tr></table><br/></div><div class=\"wandb-col\"><h3>Run summary:</h3><br/><table class=\"wandb\"><tr><td>epoch</td><td>10</td></tr><tr><td>train accuracy</td><td>94.61741</td></tr><tr><td>train loss</td><td>0.84072</td></tr><tr><td>val_accuracy</td><td>93.88667</td></tr></table><br/></div></div>"
            ]
          },
          "metadata": {}
        },
        {
          "output_type": "display_data",
          "data": {
            "text/plain": [
              "<IPython.core.display.HTML object>"
            ],
            "text/html": [
              " View run <strong style=\"color:#cdcd00\">ethereal-sweep-14</strong> at: <a href='https://wandb.ai/abhinavtk/wandb-basics/runs/31ukvz2f' target=\"_blank\">https://wandb.ai/abhinavtk/wandb-basics/runs/31ukvz2f</a><br/>Synced 5 W&B file(s), 0 media file(s), 0 artifact file(s) and 0 other file(s)"
            ]
          },
          "metadata": {}
        },
        {
          "output_type": "display_data",
          "data": {
            "text/plain": [
              "<IPython.core.display.HTML object>"
            ],
            "text/html": [
              "Find logs at: <code>./wandb/run-20240311_125356-31ukvz2f/logs</code>"
            ]
          },
          "metadata": {}
        },
        {
          "output_type": "stream",
          "name": "stderr",
          "text": [
            "\u001b[34m\u001b[1mwandb\u001b[0m: Agent Starting Run: vuucf5uc with config:\n",
            "\u001b[34m\u001b[1mwandb\u001b[0m: \tact_fn: sigmoid\n",
            "\u001b[34m\u001b[1mwandb\u001b[0m: \tbatch_size: 16\n",
            "\u001b[34m\u001b[1mwandb\u001b[0m: \tepochs: 5\n",
            "\u001b[34m\u001b[1mwandb\u001b[0m: \tl2_reg: 0\n",
            "\u001b[34m\u001b[1mwandb\u001b[0m: \tlearning_rate: 0.001\n",
            "\u001b[34m\u001b[1mwandb\u001b[0m: \tnum_hidden_layers: 5\n",
            "\u001b[34m\u001b[1mwandb\u001b[0m: \tnum_neurons: 64\n",
            "\u001b[34m\u001b[1mwandb\u001b[0m: \toptimizer: momentum\n",
            "\u001b[34m\u001b[1mwandb\u001b[0m: \tweight_init: random\n"
          ]
        },
        {
          "output_type": "display_data",
          "data": {
            "text/plain": [
              "<IPython.core.display.HTML object>"
            ],
            "text/html": [
              "Tracking run with wandb version 0.16.4"
            ]
          },
          "metadata": {}
        },
        {
          "output_type": "display_data",
          "data": {
            "text/plain": [
              "<IPython.core.display.HTML object>"
            ],
            "text/html": [
              "Run data is saved locally in <code>/content/wandb/run-20240311_125531-vuucf5uc</code>"
            ]
          },
          "metadata": {}
        },
        {
          "output_type": "display_data",
          "data": {
            "text/plain": [
              "<IPython.core.display.HTML object>"
            ],
            "text/html": [
              "Syncing run <strong><a href='https://wandb.ai/abhinavtk/wandb-basics/runs/vuucf5uc' target=\"_blank\">colorful-sweep-15</a></strong> to <a href='https://wandb.ai/abhinavtk/wandb-basics' target=\"_blank\">Weights & Biases</a> (<a href='https://wandb.me/run' target=\"_blank\">docs</a>)<br/>Sweep page: <a href='https://wandb.ai/abhinavtk/wandb-basics/sweeps/n6we5uyl' target=\"_blank\">https://wandb.ai/abhinavtk/wandb-basics/sweeps/n6we5uyl</a>"
            ]
          },
          "metadata": {}
        },
        {
          "output_type": "display_data",
          "data": {
            "text/plain": [
              "<IPython.core.display.HTML object>"
            ],
            "text/html": [
              " View project at <a href='https://wandb.ai/abhinavtk/wandb-basics' target=\"_blank\">https://wandb.ai/abhinavtk/wandb-basics</a>"
            ]
          },
          "metadata": {}
        },
        {
          "output_type": "display_data",
          "data": {
            "text/plain": [
              "<IPython.core.display.HTML object>"
            ],
            "text/html": [
              " View sweep at <a href='https://wandb.ai/abhinavtk/wandb-basics/sweeps/n6we5uyl' target=\"_blank\">https://wandb.ai/abhinavtk/wandb-basics/sweeps/n6we5uyl</a>"
            ]
          },
          "metadata": {}
        },
        {
          "output_type": "display_data",
          "data": {
            "text/plain": [
              "<IPython.core.display.HTML object>"
            ],
            "text/html": [
              " View run at <a href='https://wandb.ai/abhinavtk/wandb-basics/runs/vuucf5uc' target=\"_blank\">https://wandb.ai/abhinavtk/wandb-basics/runs/vuucf5uc</a>"
            ]
          },
          "metadata": {}
        },
        {
          "output_type": "stream",
          "name": "stdout",
          "text": [
            "Epochs =  0 \tTraining cost: 3.2003514221858738 \tAccuracy: 0.9119518518518519 \t Validation Accuracy: 0.91\n",
            "Epochs =  1 \tTraining cost: 2.1656509279951854 \tAccuracy: 0.9228444444444445 \t Validation Accuracy: 0.9195666666666666\n",
            "Epochs =  2 \tTraining cost: 1.6435924684809091 \tAccuracy: 0.9277740740740741 \t Validation Accuracy: 0.9221333333333334\n",
            "Epochs =  3 \tTraining cost: 1.335223395796518 \tAccuracy: 0.9341111111111111 \t Validation Accuracy: 0.9296333333333333\n",
            "Epochs =  4 \tTraining cost: 1.189423546142259 \tAccuracy: 0.9360740740740741 \t Validation Accuracy: 0.9315666666666667\n",
            "Epochs =  5 \tTraining cost: 1.0826888334195868 \tAccuracy: 0.9391037037037037 \t Validation Accuracy: 0.9352\n",
            "Epochs =  6 \tTraining cost: 1.001908892251492 \tAccuracy: 0.9408555555555556 \t Validation Accuracy: 0.9351\n",
            "Epochs =  7 \tTraining cost: 0.927766016763525 \tAccuracy: 0.9429592592592593 \t Validation Accuracy: 0.938\n",
            "Epochs =  8 \tTraining cost: 0.8819533172785067 \tAccuracy: 0.9452814814814815 \t Validation Accuracy: 0.9376333333333333\n",
            "Epochs =  9 \tTraining cost: 0.8407229471427216 \tAccuracy: 0.9461740740740741 \t Validation Accuracy: 0.9388666666666666\n"
          ]
        },
        {
          "output_type": "display_data",
          "data": {
            "text/plain": [
              "VBox(children=(Label(value='0.001 MB of 0.001 MB uploaded\\r'), FloatProgress(value=1.0, max=1.0)))"
            ],
            "application/vnd.jupyter.widget-view+json": {
              "version_major": 2,
              "version_minor": 0,
              "model_id": "e2a12b04d1404fb89f7733808df97104"
            }
          },
          "metadata": {}
        },
        {
          "output_type": "display_data",
          "data": {
            "text/plain": [
              "<IPython.core.display.HTML object>"
            ],
            "text/html": [
              "<style>\n",
              "    table.wandb td:nth-child(1) { padding: 0 10px; text-align: left ; width: auto;} td:nth-child(2) {text-align: left ; width: 100%}\n",
              "    .wandb-row { display: flex; flex-direction: row; flex-wrap: wrap; justify-content: flex-start; width: 100% }\n",
              "    .wandb-col { display: flex; flex-direction: column; flex-basis: 100%; flex: 1; padding: 10px; }\n",
              "    </style>\n",
              "<div class=\"wandb-row\"><div class=\"wandb-col\"><h3>Run history:</h3><br/><table class=\"wandb\"><tr><td>epoch</td><td>▁▂▃▃▄▅▆▆▇█</td></tr><tr><td>train accuracy</td><td>▁▃▄▆▆▇▇▇██</td></tr><tr><td>train loss</td><td>█▅▃▂▂▂▁▁▁▁</td></tr><tr><td>val_accuracy</td><td>▁▃▄▆▆▇▇███</td></tr></table><br/></div><div class=\"wandb-col\"><h3>Run summary:</h3><br/><table class=\"wandb\"><tr><td>epoch</td><td>10</td></tr><tr><td>train accuracy</td><td>94.61741</td></tr><tr><td>train loss</td><td>0.84072</td></tr><tr><td>val_accuracy</td><td>93.88667</td></tr></table><br/></div></div>"
            ]
          },
          "metadata": {}
        },
        {
          "output_type": "display_data",
          "data": {
            "text/plain": [
              "<IPython.core.display.HTML object>"
            ],
            "text/html": [
              " View run <strong style=\"color:#cdcd00\">colorful-sweep-15</strong> at: <a href='https://wandb.ai/abhinavtk/wandb-basics/runs/vuucf5uc' target=\"_blank\">https://wandb.ai/abhinavtk/wandb-basics/runs/vuucf5uc</a><br/>Synced 5 W&B file(s), 0 media file(s), 0 artifact file(s) and 0 other file(s)"
            ]
          },
          "metadata": {}
        },
        {
          "output_type": "display_data",
          "data": {
            "text/plain": [
              "<IPython.core.display.HTML object>"
            ],
            "text/html": [
              "Find logs at: <code>./wandb/run-20240311_125531-vuucf5uc/logs</code>"
            ]
          },
          "metadata": {}
        },
        {
          "output_type": "stream",
          "name": "stderr",
          "text": [
            "\u001b[34m\u001b[1mwandb\u001b[0m: Agent Starting Run: 2oriol5d with config:\n",
            "\u001b[34m\u001b[1mwandb\u001b[0m: \tact_fn: sigmoid\n",
            "\u001b[34m\u001b[1mwandb\u001b[0m: \tbatch_size: 16\n",
            "\u001b[34m\u001b[1mwandb\u001b[0m: \tepochs: 5\n",
            "\u001b[34m\u001b[1mwandb\u001b[0m: \tl2_reg: 0\n",
            "\u001b[34m\u001b[1mwandb\u001b[0m: \tlearning_rate: 0.001\n",
            "\u001b[34m\u001b[1mwandb\u001b[0m: \tnum_hidden_layers: 5\n",
            "\u001b[34m\u001b[1mwandb\u001b[0m: \tnum_neurons: 64\n",
            "\u001b[34m\u001b[1mwandb\u001b[0m: \toptimizer: momentum\n",
            "\u001b[34m\u001b[1mwandb\u001b[0m: \tweight_init: xavier\n"
          ]
        },
        {
          "output_type": "display_data",
          "data": {
            "text/plain": [
              "<IPython.core.display.HTML object>"
            ],
            "text/html": [
              "Tracking run with wandb version 0.16.4"
            ]
          },
          "metadata": {}
        },
        {
          "output_type": "display_data",
          "data": {
            "text/plain": [
              "<IPython.core.display.HTML object>"
            ],
            "text/html": [
              "Run data is saved locally in <code>/content/wandb/run-20240311_125703-2oriol5d</code>"
            ]
          },
          "metadata": {}
        },
        {
          "output_type": "display_data",
          "data": {
            "text/plain": [
              "<IPython.core.display.HTML object>"
            ],
            "text/html": [
              "Syncing run <strong><a href='https://wandb.ai/abhinavtk/wandb-basics/runs/2oriol5d' target=\"_blank\">iconic-sweep-16</a></strong> to <a href='https://wandb.ai/abhinavtk/wandb-basics' target=\"_blank\">Weights & Biases</a> (<a href='https://wandb.me/run' target=\"_blank\">docs</a>)<br/>Sweep page: <a href='https://wandb.ai/abhinavtk/wandb-basics/sweeps/n6we5uyl' target=\"_blank\">https://wandb.ai/abhinavtk/wandb-basics/sweeps/n6we5uyl</a>"
            ]
          },
          "metadata": {}
        },
        {
          "output_type": "display_data",
          "data": {
            "text/plain": [
              "<IPython.core.display.HTML object>"
            ],
            "text/html": [
              " View project at <a href='https://wandb.ai/abhinavtk/wandb-basics' target=\"_blank\">https://wandb.ai/abhinavtk/wandb-basics</a>"
            ]
          },
          "metadata": {}
        },
        {
          "output_type": "display_data",
          "data": {
            "text/plain": [
              "<IPython.core.display.HTML object>"
            ],
            "text/html": [
              " View sweep at <a href='https://wandb.ai/abhinavtk/wandb-basics/sweeps/n6we5uyl' target=\"_blank\">https://wandb.ai/abhinavtk/wandb-basics/sweeps/n6we5uyl</a>"
            ]
          },
          "metadata": {}
        },
        {
          "output_type": "display_data",
          "data": {
            "text/plain": [
              "<IPython.core.display.HTML object>"
            ],
            "text/html": [
              " View run at <a href='https://wandb.ai/abhinavtk/wandb-basics/runs/2oriol5d' target=\"_blank\">https://wandb.ai/abhinavtk/wandb-basics/runs/2oriol5d</a>"
            ]
          },
          "metadata": {}
        },
        {
          "output_type": "stream",
          "name": "stdout",
          "text": [
            "Epochs =  0 \tTraining cost: 3.2003514221858738 \tAccuracy: 0.9119518518518519 \t Validation Accuracy: 0.91\n",
            "Epochs =  1 \tTraining cost: 2.1656509279951854 \tAccuracy: 0.9228444444444445 \t Validation Accuracy: 0.9195666666666666\n",
            "Epochs =  2 \tTraining cost: 1.6435924684809091 \tAccuracy: 0.9277740740740741 \t Validation Accuracy: 0.9221333333333334\n",
            "Epochs =  3 \tTraining cost: 1.335223395796518 \tAccuracy: 0.9341111111111111 \t Validation Accuracy: 0.9296333333333333\n",
            "Epochs =  4 \tTraining cost: 1.189423546142259 \tAccuracy: 0.9360740740740741 \t Validation Accuracy: 0.9315666666666667\n",
            "Epochs =  5 \tTraining cost: 1.0826888334195868 \tAccuracy: 0.9391037037037037 \t Validation Accuracy: 0.9352\n",
            "Epochs =  6 \tTraining cost: 1.001908892251492 \tAccuracy: 0.9408555555555556 \t Validation Accuracy: 0.9351\n",
            "Epochs =  7 \tTraining cost: 0.927766016763525 \tAccuracy: 0.9429592592592593 \t Validation Accuracy: 0.938\n",
            "Epochs =  8 \tTraining cost: 0.8819533172785067 \tAccuracy: 0.9452814814814815 \t Validation Accuracy: 0.9376333333333333\n",
            "Epochs =  9 \tTraining cost: 0.8407229471427216 \tAccuracy: 0.9461740740740741 \t Validation Accuracy: 0.9388666666666666\n"
          ]
        },
        {
          "output_type": "display_data",
          "data": {
            "text/plain": [
              "VBox(children=(Label(value='0.001 MB of 0.001 MB uploaded\\r'), FloatProgress(value=1.0, max=1.0)))"
            ],
            "application/vnd.jupyter.widget-view+json": {
              "version_major": 2,
              "version_minor": 0,
              "model_id": "12d77b9137fd4b5a99bd5e421f6f4a92"
            }
          },
          "metadata": {}
        },
        {
          "output_type": "display_data",
          "data": {
            "text/plain": [
              "<IPython.core.display.HTML object>"
            ],
            "text/html": [
              "<style>\n",
              "    table.wandb td:nth-child(1) { padding: 0 10px; text-align: left ; width: auto;} td:nth-child(2) {text-align: left ; width: 100%}\n",
              "    .wandb-row { display: flex; flex-direction: row; flex-wrap: wrap; justify-content: flex-start; width: 100% }\n",
              "    .wandb-col { display: flex; flex-direction: column; flex-basis: 100%; flex: 1; padding: 10px; }\n",
              "    </style>\n",
              "<div class=\"wandb-row\"><div class=\"wandb-col\"><h3>Run history:</h3><br/><table class=\"wandb\"><tr><td>epoch</td><td>▁▂▃▃▄▅▆▆▇█</td></tr><tr><td>train accuracy</td><td>▁▃▄▆▆▇▇▇██</td></tr><tr><td>train loss</td><td>█▅▃▂▂▂▁▁▁▁</td></tr><tr><td>val_accuracy</td><td>▁▃▄▆▆▇▇███</td></tr></table><br/></div><div class=\"wandb-col\"><h3>Run summary:</h3><br/><table class=\"wandb\"><tr><td>epoch</td><td>10</td></tr><tr><td>train accuracy</td><td>94.61741</td></tr><tr><td>train loss</td><td>0.84072</td></tr><tr><td>val_accuracy</td><td>93.88667</td></tr></table><br/></div></div>"
            ]
          },
          "metadata": {}
        },
        {
          "output_type": "display_data",
          "data": {
            "text/plain": [
              "<IPython.core.display.HTML object>"
            ],
            "text/html": [
              " View run <strong style=\"color:#cdcd00\">iconic-sweep-16</strong> at: <a href='https://wandb.ai/abhinavtk/wandb-basics/runs/2oriol5d' target=\"_blank\">https://wandb.ai/abhinavtk/wandb-basics/runs/2oriol5d</a><br/>Synced 5 W&B file(s), 0 media file(s), 0 artifact file(s) and 0 other file(s)"
            ]
          },
          "metadata": {}
        },
        {
          "output_type": "display_data",
          "data": {
            "text/plain": [
              "<IPython.core.display.HTML object>"
            ],
            "text/html": [
              "Find logs at: <code>./wandb/run-20240311_125703-2oriol5d/logs</code>"
            ]
          },
          "metadata": {}
        },
        {
          "output_type": "stream",
          "name": "stderr",
          "text": [
            "\u001b[34m\u001b[1mwandb\u001b[0m: Agent Starting Run: m5yk4b3s with config:\n",
            "\u001b[34m\u001b[1mwandb\u001b[0m: \tact_fn: sigmoid\n",
            "\u001b[34m\u001b[1mwandb\u001b[0m: \tbatch_size: 16\n",
            "\u001b[34m\u001b[1mwandb\u001b[0m: \tepochs: 5\n",
            "\u001b[34m\u001b[1mwandb\u001b[0m: \tl2_reg: 0\n",
            "\u001b[34m\u001b[1mwandb\u001b[0m: \tlearning_rate: 0.001\n",
            "\u001b[34m\u001b[1mwandb\u001b[0m: \tnum_hidden_layers: 5\n",
            "\u001b[34m\u001b[1mwandb\u001b[0m: \tnum_neurons: 128\n",
            "\u001b[34m\u001b[1mwandb\u001b[0m: \toptimizer: momentum\n",
            "\u001b[34m\u001b[1mwandb\u001b[0m: \tweight_init: random\n"
          ]
        },
        {
          "output_type": "display_data",
          "data": {
            "text/plain": [
              "<IPython.core.display.HTML object>"
            ],
            "text/html": [
              "Tracking run with wandb version 0.16.4"
            ]
          },
          "metadata": {}
        },
        {
          "output_type": "display_data",
          "data": {
            "text/plain": [
              "<IPython.core.display.HTML object>"
            ],
            "text/html": [
              "Run data is saved locally in <code>/content/wandb/run-20240311_125834-m5yk4b3s</code>"
            ]
          },
          "metadata": {}
        },
        {
          "output_type": "display_data",
          "data": {
            "text/plain": [
              "<IPython.core.display.HTML object>"
            ],
            "text/html": [
              "Syncing run <strong><a href='https://wandb.ai/abhinavtk/wandb-basics/runs/m5yk4b3s' target=\"_blank\">lyric-sweep-17</a></strong> to <a href='https://wandb.ai/abhinavtk/wandb-basics' target=\"_blank\">Weights & Biases</a> (<a href='https://wandb.me/run' target=\"_blank\">docs</a>)<br/>Sweep page: <a href='https://wandb.ai/abhinavtk/wandb-basics/sweeps/n6we5uyl' target=\"_blank\">https://wandb.ai/abhinavtk/wandb-basics/sweeps/n6we5uyl</a>"
            ]
          },
          "metadata": {}
        },
        {
          "output_type": "display_data",
          "data": {
            "text/plain": [
              "<IPython.core.display.HTML object>"
            ],
            "text/html": [
              " View project at <a href='https://wandb.ai/abhinavtk/wandb-basics' target=\"_blank\">https://wandb.ai/abhinavtk/wandb-basics</a>"
            ]
          },
          "metadata": {}
        },
        {
          "output_type": "display_data",
          "data": {
            "text/plain": [
              "<IPython.core.display.HTML object>"
            ],
            "text/html": [
              " View sweep at <a href='https://wandb.ai/abhinavtk/wandb-basics/sweeps/n6we5uyl' target=\"_blank\">https://wandb.ai/abhinavtk/wandb-basics/sweeps/n6we5uyl</a>"
            ]
          },
          "metadata": {}
        },
        {
          "output_type": "display_data",
          "data": {
            "text/plain": [
              "<IPython.core.display.HTML object>"
            ],
            "text/html": [
              " View run at <a href='https://wandb.ai/abhinavtk/wandb-basics/runs/m5yk4b3s' target=\"_blank\">https://wandb.ai/abhinavtk/wandb-basics/runs/m5yk4b3s</a>"
            ]
          },
          "metadata": {}
        },
        {
          "output_type": "stream",
          "name": "stdout",
          "text": [
            "Epochs =  0 \tTraining cost: 3.2003514221858738 \tAccuracy: 0.9119518518518519 \t Validation Accuracy: 0.91\n",
            "Epochs =  1 \tTraining cost: 2.1656509279951854 \tAccuracy: 0.9228444444444445 \t Validation Accuracy: 0.9195666666666666\n",
            "Epochs =  2 \tTraining cost: 1.6435924684809091 \tAccuracy: 0.9277740740740741 \t Validation Accuracy: 0.9221333333333334\n",
            "Epochs =  3 \tTraining cost: 1.335223395796518 \tAccuracy: 0.9341111111111111 \t Validation Accuracy: 0.9296333333333333\n",
            "Epochs =  4 \tTraining cost: 1.189423546142259 \tAccuracy: 0.9360740740740741 \t Validation Accuracy: 0.9315666666666667\n",
            "Epochs =  5 \tTraining cost: 1.0826888334195868 \tAccuracy: 0.9391037037037037 \t Validation Accuracy: 0.9352\n",
            "Epochs =  6 \tTraining cost: 1.001908892251492 \tAccuracy: 0.9408555555555556 \t Validation Accuracy: 0.9351\n",
            "Epochs =  7 \tTraining cost: 0.927766016763525 \tAccuracy: 0.9429592592592593 \t Validation Accuracy: 0.938\n",
            "Epochs =  8 \tTraining cost: 0.8819533172785067 \tAccuracy: 0.9452814814814815 \t Validation Accuracy: 0.9376333333333333\n",
            "Epochs =  9 \tTraining cost: 0.8407229471427216 \tAccuracy: 0.9461740740740741 \t Validation Accuracy: 0.9388666666666666\n"
          ]
        },
        {
          "output_type": "display_data",
          "data": {
            "text/plain": [
              "VBox(children=(Label(value='0.001 MB of 0.001 MB uploaded\\r'), FloatProgress(value=1.0, max=1.0)))"
            ],
            "application/vnd.jupyter.widget-view+json": {
              "version_major": 2,
              "version_minor": 0,
              "model_id": "040be4f3544e48a29c81f07b7ebb84e5"
            }
          },
          "metadata": {}
        },
        {
          "output_type": "display_data",
          "data": {
            "text/plain": [
              "<IPython.core.display.HTML object>"
            ],
            "text/html": [
              "<style>\n",
              "    table.wandb td:nth-child(1) { padding: 0 10px; text-align: left ; width: auto;} td:nth-child(2) {text-align: left ; width: 100%}\n",
              "    .wandb-row { display: flex; flex-direction: row; flex-wrap: wrap; justify-content: flex-start; width: 100% }\n",
              "    .wandb-col { display: flex; flex-direction: column; flex-basis: 100%; flex: 1; padding: 10px; }\n",
              "    </style>\n",
              "<div class=\"wandb-row\"><div class=\"wandb-col\"><h3>Run history:</h3><br/><table class=\"wandb\"><tr><td>epoch</td><td>▁▂▃▃▄▅▆▆▇█</td></tr><tr><td>train accuracy</td><td>▁▃▄▆▆▇▇▇██</td></tr><tr><td>train loss</td><td>█▅▃▂▂▂▁▁▁▁</td></tr><tr><td>val_accuracy</td><td>▁▃▄▆▆▇▇███</td></tr></table><br/></div><div class=\"wandb-col\"><h3>Run summary:</h3><br/><table class=\"wandb\"><tr><td>epoch</td><td>10</td></tr><tr><td>train accuracy</td><td>94.61741</td></tr><tr><td>train loss</td><td>0.84072</td></tr><tr><td>val_accuracy</td><td>93.88667</td></tr></table><br/></div></div>"
            ]
          },
          "metadata": {}
        },
        {
          "output_type": "display_data",
          "data": {
            "text/plain": [
              "<IPython.core.display.HTML object>"
            ],
            "text/html": [
              " View run <strong style=\"color:#cdcd00\">lyric-sweep-17</strong> at: <a href='https://wandb.ai/abhinavtk/wandb-basics/runs/m5yk4b3s' target=\"_blank\">https://wandb.ai/abhinavtk/wandb-basics/runs/m5yk4b3s</a><br/>Synced 5 W&B file(s), 0 media file(s), 0 artifact file(s) and 0 other file(s)"
            ]
          },
          "metadata": {}
        },
        {
          "output_type": "display_data",
          "data": {
            "text/plain": [
              "<IPython.core.display.HTML object>"
            ],
            "text/html": [
              "Find logs at: <code>./wandb/run-20240311_125834-m5yk4b3s/logs</code>"
            ]
          },
          "metadata": {}
        },
        {
          "output_type": "stream",
          "name": "stderr",
          "text": [
            "\u001b[34m\u001b[1mwandb\u001b[0m: Sweep Agent: Waiting for job.\n",
            "\u001b[34m\u001b[1mwandb\u001b[0m: Job received.\n",
            "\u001b[34m\u001b[1mwandb\u001b[0m: Agent Starting Run: lb64ln6v with config:\n",
            "\u001b[34m\u001b[1mwandb\u001b[0m: \tact_fn: sigmoid\n",
            "\u001b[34m\u001b[1mwandb\u001b[0m: \tbatch_size: 16\n",
            "\u001b[34m\u001b[1mwandb\u001b[0m: \tepochs: 5\n",
            "\u001b[34m\u001b[1mwandb\u001b[0m: \tl2_reg: 0\n",
            "\u001b[34m\u001b[1mwandb\u001b[0m: \tlearning_rate: 0.001\n",
            "\u001b[34m\u001b[1mwandb\u001b[0m: \tnum_hidden_layers: 5\n",
            "\u001b[34m\u001b[1mwandb\u001b[0m: \tnum_neurons: 128\n",
            "\u001b[34m\u001b[1mwandb\u001b[0m: \toptimizer: momentum\n",
            "\u001b[34m\u001b[1mwandb\u001b[0m: \tweight_init: xavier\n"
          ]
        },
        {
          "output_type": "display_data",
          "data": {
            "text/plain": [
              "<IPython.core.display.HTML object>"
            ],
            "text/html": [
              "Tracking run with wandb version 0.16.4"
            ]
          },
          "metadata": {}
        },
        {
          "output_type": "display_data",
          "data": {
            "text/plain": [
              "<IPython.core.display.HTML object>"
            ],
            "text/html": [
              "Run data is saved locally in <code>/content/wandb/run-20240311_130015-lb64ln6v</code>"
            ]
          },
          "metadata": {}
        },
        {
          "output_type": "display_data",
          "data": {
            "text/plain": [
              "<IPython.core.display.HTML object>"
            ],
            "text/html": [
              "Syncing run <strong><a href='https://wandb.ai/abhinavtk/wandb-basics/runs/lb64ln6v' target=\"_blank\">exalted-sweep-18</a></strong> to <a href='https://wandb.ai/abhinavtk/wandb-basics' target=\"_blank\">Weights & Biases</a> (<a href='https://wandb.me/run' target=\"_blank\">docs</a>)<br/>Sweep page: <a href='https://wandb.ai/abhinavtk/wandb-basics/sweeps/n6we5uyl' target=\"_blank\">https://wandb.ai/abhinavtk/wandb-basics/sweeps/n6we5uyl</a>"
            ]
          },
          "metadata": {}
        },
        {
          "output_type": "display_data",
          "data": {
            "text/plain": [
              "<IPython.core.display.HTML object>"
            ],
            "text/html": [
              " View project at <a href='https://wandb.ai/abhinavtk/wandb-basics' target=\"_blank\">https://wandb.ai/abhinavtk/wandb-basics</a>"
            ]
          },
          "metadata": {}
        },
        {
          "output_type": "display_data",
          "data": {
            "text/plain": [
              "<IPython.core.display.HTML object>"
            ],
            "text/html": [
              " View sweep at <a href='https://wandb.ai/abhinavtk/wandb-basics/sweeps/n6we5uyl' target=\"_blank\">https://wandb.ai/abhinavtk/wandb-basics/sweeps/n6we5uyl</a>"
            ]
          },
          "metadata": {}
        },
        {
          "output_type": "display_data",
          "data": {
            "text/plain": [
              "<IPython.core.display.HTML object>"
            ],
            "text/html": [
              " View run at <a href='https://wandb.ai/abhinavtk/wandb-basics/runs/lb64ln6v' target=\"_blank\">https://wandb.ai/abhinavtk/wandb-basics/runs/lb64ln6v</a>"
            ]
          },
          "metadata": {}
        },
        {
          "output_type": "stream",
          "name": "stdout",
          "text": [
            "Epochs =  0 \tTraining cost: 3.2003514221858738 \tAccuracy: 0.9119518518518519 \t Validation Accuracy: 0.91\n",
            "Epochs =  1 \tTraining cost: 2.1656509279951854 \tAccuracy: 0.9228444444444445 \t Validation Accuracy: 0.9195666666666666\n",
            "Epochs =  2 \tTraining cost: 1.6435924684809091 \tAccuracy: 0.9277740740740741 \t Validation Accuracy: 0.9221333333333334\n",
            "Epochs =  3 \tTraining cost: 1.335223395796518 \tAccuracy: 0.9341111111111111 \t Validation Accuracy: 0.9296333333333333\n",
            "Epochs =  4 \tTraining cost: 1.189423546142259 \tAccuracy: 0.9360740740740741 \t Validation Accuracy: 0.9315666666666667\n",
            "Epochs =  5 \tTraining cost: 1.0826888334195868 \tAccuracy: 0.9391037037037037 \t Validation Accuracy: 0.9352\n",
            "Epochs =  6 \tTraining cost: 1.001908892251492 \tAccuracy: 0.9408555555555556 \t Validation Accuracy: 0.9351\n",
            "Epochs =  7 \tTraining cost: 0.927766016763525 \tAccuracy: 0.9429592592592593 \t Validation Accuracy: 0.938\n",
            "Epochs =  8 \tTraining cost: 0.8819533172785067 \tAccuracy: 0.9452814814814815 \t Validation Accuracy: 0.9376333333333333\n",
            "Epochs =  9 \tTraining cost: 0.8407229471427216 \tAccuracy: 0.9461740740740741 \t Validation Accuracy: 0.9388666666666666\n"
          ]
        },
        {
          "output_type": "display_data",
          "data": {
            "text/plain": [
              "VBox(children=(Label(value='0.001 MB of 0.001 MB uploaded\\r'), FloatProgress(value=1.0, max=1.0)))"
            ],
            "application/vnd.jupyter.widget-view+json": {
              "version_major": 2,
              "version_minor": 0,
              "model_id": "bc58f8655f434049a8f3b246c6b1f268"
            }
          },
          "metadata": {}
        },
        {
          "output_type": "display_data",
          "data": {
            "text/plain": [
              "<IPython.core.display.HTML object>"
            ],
            "text/html": [
              "<style>\n",
              "    table.wandb td:nth-child(1) { padding: 0 10px; text-align: left ; width: auto;} td:nth-child(2) {text-align: left ; width: 100%}\n",
              "    .wandb-row { display: flex; flex-direction: row; flex-wrap: wrap; justify-content: flex-start; width: 100% }\n",
              "    .wandb-col { display: flex; flex-direction: column; flex-basis: 100%; flex: 1; padding: 10px; }\n",
              "    </style>\n",
              "<div class=\"wandb-row\"><div class=\"wandb-col\"><h3>Run history:</h3><br/><table class=\"wandb\"><tr><td>epoch</td><td>▁▂▃▃▄▅▆▆▇█</td></tr><tr><td>train accuracy</td><td>▁▃▄▆▆▇▇▇██</td></tr><tr><td>train loss</td><td>█▅▃▂▂▂▁▁▁▁</td></tr><tr><td>val_accuracy</td><td>▁▃▄▆▆▇▇███</td></tr></table><br/></div><div class=\"wandb-col\"><h3>Run summary:</h3><br/><table class=\"wandb\"><tr><td>epoch</td><td>10</td></tr><tr><td>train accuracy</td><td>94.61741</td></tr><tr><td>train loss</td><td>0.84072</td></tr><tr><td>val_accuracy</td><td>93.88667</td></tr></table><br/></div></div>"
            ]
          },
          "metadata": {}
        },
        {
          "output_type": "display_data",
          "data": {
            "text/plain": [
              "<IPython.core.display.HTML object>"
            ],
            "text/html": [
              " View run <strong style=\"color:#cdcd00\">exalted-sweep-18</strong> at: <a href='https://wandb.ai/abhinavtk/wandb-basics/runs/lb64ln6v' target=\"_blank\">https://wandb.ai/abhinavtk/wandb-basics/runs/lb64ln6v</a><br/>Synced 5 W&B file(s), 0 media file(s), 0 artifact file(s) and 0 other file(s)"
            ]
          },
          "metadata": {}
        },
        {
          "output_type": "display_data",
          "data": {
            "text/plain": [
              "<IPython.core.display.HTML object>"
            ],
            "text/html": [
              "Find logs at: <code>./wandb/run-20240311_130015-lb64ln6v/logs</code>"
            ]
          },
          "metadata": {}
        },
        {
          "output_type": "stream",
          "name": "stderr",
          "text": [
            "\u001b[34m\u001b[1mwandb\u001b[0m: Agent Starting Run: 1xadzwhz with config:\n",
            "\u001b[34m\u001b[1mwandb\u001b[0m: \tact_fn: sigmoid\n",
            "\u001b[34m\u001b[1mwandb\u001b[0m: \tbatch_size: 16\n",
            "\u001b[34m\u001b[1mwandb\u001b[0m: \tepochs: 5\n",
            "\u001b[34m\u001b[1mwandb\u001b[0m: \tl2_reg: 0\n",
            "\u001b[34m\u001b[1mwandb\u001b[0m: \tlearning_rate: 0.0001\n",
            "\u001b[34m\u001b[1mwandb\u001b[0m: \tnum_hidden_layers: 3\n",
            "\u001b[34m\u001b[1mwandb\u001b[0m: \tnum_neurons: 32\n",
            "\u001b[34m\u001b[1mwandb\u001b[0m: \toptimizer: momentum\n",
            "\u001b[34m\u001b[1mwandb\u001b[0m: \tweight_init: random\n"
          ]
        },
        {
          "output_type": "display_data",
          "data": {
            "text/plain": [
              "<IPython.core.display.HTML object>"
            ],
            "text/html": [
              "Tracking run with wandb version 0.16.4"
            ]
          },
          "metadata": {}
        },
        {
          "output_type": "display_data",
          "data": {
            "text/plain": [
              "<IPython.core.display.HTML object>"
            ],
            "text/html": [
              "Run data is saved locally in <code>/content/wandb/run-20240311_130149-1xadzwhz</code>"
            ]
          },
          "metadata": {}
        },
        {
          "output_type": "display_data",
          "data": {
            "text/plain": [
              "<IPython.core.display.HTML object>"
            ],
            "text/html": [
              "Syncing run <strong><a href='https://wandb.ai/abhinavtk/wandb-basics/runs/1xadzwhz' target=\"_blank\">atomic-sweep-19</a></strong> to <a href='https://wandb.ai/abhinavtk/wandb-basics' target=\"_blank\">Weights & Biases</a> (<a href='https://wandb.me/run' target=\"_blank\">docs</a>)<br/>Sweep page: <a href='https://wandb.ai/abhinavtk/wandb-basics/sweeps/n6we5uyl' target=\"_blank\">https://wandb.ai/abhinavtk/wandb-basics/sweeps/n6we5uyl</a>"
            ]
          },
          "metadata": {}
        },
        {
          "output_type": "display_data",
          "data": {
            "text/plain": [
              "<IPython.core.display.HTML object>"
            ],
            "text/html": [
              " View project at <a href='https://wandb.ai/abhinavtk/wandb-basics' target=\"_blank\">https://wandb.ai/abhinavtk/wandb-basics</a>"
            ]
          },
          "metadata": {}
        },
        {
          "output_type": "display_data",
          "data": {
            "text/plain": [
              "<IPython.core.display.HTML object>"
            ],
            "text/html": [
              " View sweep at <a href='https://wandb.ai/abhinavtk/wandb-basics/sweeps/n6we5uyl' target=\"_blank\">https://wandb.ai/abhinavtk/wandb-basics/sweeps/n6we5uyl</a>"
            ]
          },
          "metadata": {}
        },
        {
          "output_type": "display_data",
          "data": {
            "text/plain": [
              "<IPython.core.display.HTML object>"
            ],
            "text/html": [
              " View run at <a href='https://wandb.ai/abhinavtk/wandb-basics/runs/1xadzwhz' target=\"_blank\">https://wandb.ai/abhinavtk/wandb-basics/runs/1xadzwhz</a>"
            ]
          },
          "metadata": {}
        },
        {
          "output_type": "stream",
          "name": "stdout",
          "text": [
            "Epochs =  0 \tTraining cost: 3.2003514221858738 \tAccuracy: 0.9119518518518519 \t Validation Accuracy: 0.91\n",
            "Epochs =  1 \tTraining cost: 2.1656509279951854 \tAccuracy: 0.9228444444444445 \t Validation Accuracy: 0.9195666666666666\n",
            "Epochs =  2 \tTraining cost: 1.6435924684809091 \tAccuracy: 0.9277740740740741 \t Validation Accuracy: 0.9221333333333334\n",
            "Epochs =  3 \tTraining cost: 1.335223395796518 \tAccuracy: 0.9341111111111111 \t Validation Accuracy: 0.9296333333333333\n",
            "Epochs =  4 \tTraining cost: 1.189423546142259 \tAccuracy: 0.9360740740740741 \t Validation Accuracy: 0.9315666666666667\n",
            "Epochs =  5 \tTraining cost: 1.0826888334195868 \tAccuracy: 0.9391037037037037 \t Validation Accuracy: 0.9352\n",
            "Epochs =  6 \tTraining cost: 1.001908892251492 \tAccuracy: 0.9408555555555556 \t Validation Accuracy: 0.9351\n",
            "Epochs =  7 \tTraining cost: 0.927766016763525 \tAccuracy: 0.9429592592592593 \t Validation Accuracy: 0.938\n",
            "Epochs =  8 \tTraining cost: 0.8819533172785067 \tAccuracy: 0.9452814814814815 \t Validation Accuracy: 0.9376333333333333\n",
            "Epochs =  9 \tTraining cost: 0.8407229471427216 \tAccuracy: 0.9461740740740741 \t Validation Accuracy: 0.9388666666666666\n"
          ]
        },
        {
          "output_type": "display_data",
          "data": {
            "text/plain": [
              "VBox(children=(Label(value='0.001 MB of 0.011 MB uploaded\\r'), FloatProgress(value=0.09561072135276129, max=1.…"
            ],
            "application/vnd.jupyter.widget-view+json": {
              "version_major": 2,
              "version_minor": 0,
              "model_id": "5eac90bbf00940f3aee0696c1e2b49c4"
            }
          },
          "metadata": {}
        },
        {
          "output_type": "display_data",
          "data": {
            "text/plain": [
              "<IPython.core.display.HTML object>"
            ],
            "text/html": [
              "<style>\n",
              "    table.wandb td:nth-child(1) { padding: 0 10px; text-align: left ; width: auto;} td:nth-child(2) {text-align: left ; width: 100%}\n",
              "    .wandb-row { display: flex; flex-direction: row; flex-wrap: wrap; justify-content: flex-start; width: 100% }\n",
              "    .wandb-col { display: flex; flex-direction: column; flex-basis: 100%; flex: 1; padding: 10px; }\n",
              "    </style>\n",
              "<div class=\"wandb-row\"><div class=\"wandb-col\"><h3>Run history:</h3><br/><table class=\"wandb\"><tr><td>epoch</td><td>▁▂▃▃▄▅▆▆▇█</td></tr><tr><td>train accuracy</td><td>▁▃▄▆▆▇▇▇██</td></tr><tr><td>train loss</td><td>█▅▃▂▂▂▁▁▁▁</td></tr><tr><td>val_accuracy</td><td>▁▃▄▆▆▇▇███</td></tr></table><br/></div><div class=\"wandb-col\"><h3>Run summary:</h3><br/><table class=\"wandb\"><tr><td>epoch</td><td>10</td></tr><tr><td>train accuracy</td><td>94.61741</td></tr><tr><td>train loss</td><td>0.84072</td></tr><tr><td>val_accuracy</td><td>93.88667</td></tr></table><br/></div></div>"
            ]
          },
          "metadata": {}
        },
        {
          "output_type": "display_data",
          "data": {
            "text/plain": [
              "<IPython.core.display.HTML object>"
            ],
            "text/html": [
              " View run <strong style=\"color:#cdcd00\">atomic-sweep-19</strong> at: <a href='https://wandb.ai/abhinavtk/wandb-basics/runs/1xadzwhz' target=\"_blank\">https://wandb.ai/abhinavtk/wandb-basics/runs/1xadzwhz</a><br/>Synced 5 W&B file(s), 0 media file(s), 0 artifact file(s) and 0 other file(s)"
            ]
          },
          "metadata": {}
        },
        {
          "output_type": "display_data",
          "data": {
            "text/plain": [
              "<IPython.core.display.HTML object>"
            ],
            "text/html": [
              "Find logs at: <code>./wandb/run-20240311_130149-1xadzwhz/logs</code>"
            ]
          },
          "metadata": {}
        },
        {
          "output_type": "stream",
          "name": "stderr",
          "text": [
            "\u001b[34m\u001b[1mwandb\u001b[0m: Agent Starting Run: 4inzibbr with config:\n",
            "\u001b[34m\u001b[1mwandb\u001b[0m: \tact_fn: sigmoid\n",
            "\u001b[34m\u001b[1mwandb\u001b[0m: \tbatch_size: 16\n",
            "\u001b[34m\u001b[1mwandb\u001b[0m: \tepochs: 5\n",
            "\u001b[34m\u001b[1mwandb\u001b[0m: \tl2_reg: 0\n",
            "\u001b[34m\u001b[1mwandb\u001b[0m: \tlearning_rate: 0.0001\n",
            "\u001b[34m\u001b[1mwandb\u001b[0m: \tnum_hidden_layers: 3\n",
            "\u001b[34m\u001b[1mwandb\u001b[0m: \tnum_neurons: 32\n",
            "\u001b[34m\u001b[1mwandb\u001b[0m: \toptimizer: momentum\n",
            "\u001b[34m\u001b[1mwandb\u001b[0m: \tweight_init: xavier\n"
          ]
        },
        {
          "output_type": "display_data",
          "data": {
            "text/plain": [
              "<IPython.core.display.HTML object>"
            ],
            "text/html": [
              "Tracking run with wandb version 0.16.4"
            ]
          },
          "metadata": {}
        },
        {
          "output_type": "display_data",
          "data": {
            "text/plain": [
              "<IPython.core.display.HTML object>"
            ],
            "text/html": [
              "Run data is saved locally in <code>/content/wandb/run-20240311_130323-4inzibbr</code>"
            ]
          },
          "metadata": {}
        },
        {
          "output_type": "display_data",
          "data": {
            "text/plain": [
              "<IPython.core.display.HTML object>"
            ],
            "text/html": [
              "Syncing run <strong><a href='https://wandb.ai/abhinavtk/wandb-basics/runs/4inzibbr' target=\"_blank\">stellar-sweep-20</a></strong> to <a href='https://wandb.ai/abhinavtk/wandb-basics' target=\"_blank\">Weights & Biases</a> (<a href='https://wandb.me/run' target=\"_blank\">docs</a>)<br/>Sweep page: <a href='https://wandb.ai/abhinavtk/wandb-basics/sweeps/n6we5uyl' target=\"_blank\">https://wandb.ai/abhinavtk/wandb-basics/sweeps/n6we5uyl</a>"
            ]
          },
          "metadata": {}
        },
        {
          "output_type": "display_data",
          "data": {
            "text/plain": [
              "<IPython.core.display.HTML object>"
            ],
            "text/html": [
              " View project at <a href='https://wandb.ai/abhinavtk/wandb-basics' target=\"_blank\">https://wandb.ai/abhinavtk/wandb-basics</a>"
            ]
          },
          "metadata": {}
        },
        {
          "output_type": "display_data",
          "data": {
            "text/plain": [
              "<IPython.core.display.HTML object>"
            ],
            "text/html": [
              " View sweep at <a href='https://wandb.ai/abhinavtk/wandb-basics/sweeps/n6we5uyl' target=\"_blank\">https://wandb.ai/abhinavtk/wandb-basics/sweeps/n6we5uyl</a>"
            ]
          },
          "metadata": {}
        },
        {
          "output_type": "display_data",
          "data": {
            "text/plain": [
              "<IPython.core.display.HTML object>"
            ],
            "text/html": [
              " View run at <a href='https://wandb.ai/abhinavtk/wandb-basics/runs/4inzibbr' target=\"_blank\">https://wandb.ai/abhinavtk/wandb-basics/runs/4inzibbr</a>"
            ]
          },
          "metadata": {}
        },
        {
          "output_type": "stream",
          "name": "stdout",
          "text": [
            "Epochs =  0 \tTraining cost: 3.2003514221858738 \tAccuracy: 0.9119518518518519 \t Validation Accuracy: 0.91\n",
            "Epochs =  1 \tTraining cost: 2.1656509279951854 \tAccuracy: 0.9228444444444445 \t Validation Accuracy: 0.9195666666666666\n",
            "Epochs =  2 \tTraining cost: 1.6435924684809091 \tAccuracy: 0.9277740740740741 \t Validation Accuracy: 0.9221333333333334\n",
            "Epochs =  3 \tTraining cost: 1.335223395796518 \tAccuracy: 0.9341111111111111 \t Validation Accuracy: 0.9296333333333333\n",
            "Epochs =  4 \tTraining cost: 1.189423546142259 \tAccuracy: 0.9360740740740741 \t Validation Accuracy: 0.9315666666666667\n",
            "Epochs =  5 \tTraining cost: 1.0826888334195868 \tAccuracy: 0.9391037037037037 \t Validation Accuracy: 0.9352\n",
            "Epochs =  6 \tTraining cost: 1.001908892251492 \tAccuracy: 0.9408555555555556 \t Validation Accuracy: 0.9351\n",
            "Epochs =  7 \tTraining cost: 0.927766016763525 \tAccuracy: 0.9429592592592593 \t Validation Accuracy: 0.938\n",
            "Epochs =  8 \tTraining cost: 0.8819533172785067 \tAccuracy: 0.9452814814814815 \t Validation Accuracy: 0.9376333333333333\n",
            "Epochs =  9 \tTraining cost: 0.8407229471427216 \tAccuracy: 0.9461740740740741 \t Validation Accuracy: 0.9388666666666666\n"
          ]
        },
        {
          "output_type": "display_data",
          "data": {
            "text/plain": [
              "VBox(children=(Label(value='0.001 MB of 0.001 MB uploaded\\r'), FloatProgress(value=1.0, max=1.0)))"
            ],
            "application/vnd.jupyter.widget-view+json": {
              "version_major": 2,
              "version_minor": 0,
              "model_id": "c1dd0e805b0e49e8a456ed493c426be7"
            }
          },
          "metadata": {}
        },
        {
          "output_type": "display_data",
          "data": {
            "text/plain": [
              "<IPython.core.display.HTML object>"
            ],
            "text/html": [
              "<style>\n",
              "    table.wandb td:nth-child(1) { padding: 0 10px; text-align: left ; width: auto;} td:nth-child(2) {text-align: left ; width: 100%}\n",
              "    .wandb-row { display: flex; flex-direction: row; flex-wrap: wrap; justify-content: flex-start; width: 100% }\n",
              "    .wandb-col { display: flex; flex-direction: column; flex-basis: 100%; flex: 1; padding: 10px; }\n",
              "    </style>\n",
              "<div class=\"wandb-row\"><div class=\"wandb-col\"><h3>Run history:</h3><br/><table class=\"wandb\"><tr><td>epoch</td><td>▁▂▃▃▄▅▆▆▇█</td></tr><tr><td>train accuracy</td><td>▁▃▄▆▆▇▇▇██</td></tr><tr><td>train loss</td><td>█▅▃▂▂▂▁▁▁▁</td></tr><tr><td>val_accuracy</td><td>▁▃▄▆▆▇▇███</td></tr></table><br/></div><div class=\"wandb-col\"><h3>Run summary:</h3><br/><table class=\"wandb\"><tr><td>epoch</td><td>10</td></tr><tr><td>train accuracy</td><td>94.61741</td></tr><tr><td>train loss</td><td>0.84072</td></tr><tr><td>val_accuracy</td><td>93.88667</td></tr></table><br/></div></div>"
            ]
          },
          "metadata": {}
        },
        {
          "output_type": "display_data",
          "data": {
            "text/plain": [
              "<IPython.core.display.HTML object>"
            ],
            "text/html": [
              " View run <strong style=\"color:#cdcd00\">stellar-sweep-20</strong> at: <a href='https://wandb.ai/abhinavtk/wandb-basics/runs/4inzibbr' target=\"_blank\">https://wandb.ai/abhinavtk/wandb-basics/runs/4inzibbr</a><br/>Synced 5 W&B file(s), 0 media file(s), 0 artifact file(s) and 0 other file(s)"
            ]
          },
          "metadata": {}
        },
        {
          "output_type": "display_data",
          "data": {
            "text/plain": [
              "<IPython.core.display.HTML object>"
            ],
            "text/html": [
              "Find logs at: <code>./wandb/run-20240311_130323-4inzibbr/logs</code>"
            ]
          },
          "metadata": {}
        }
      ]
    },
    {
      "cell_type": "code",
      "source": [],
      "metadata": {
        "id": "nFOdAwyQO8nt"
      },
      "execution_count": 24,
      "outputs": []
    }
  ]
}